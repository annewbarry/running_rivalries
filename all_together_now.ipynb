{
 "cells": [
  {
   "cell_type": "code",
   "execution_count": 2,
   "metadata": {},
   "outputs": [],
   "source": [
    "import time\n",
    "\n",
    "from selenium import webdriver\n",
    "from selenium.webdriver.common.by import By\n",
    "from selenium.webdriver.support.ui import WebDriverWait\n",
    "from selenium.webdriver.support import expected_conditions as EC\n",
    "from selenium.common.exceptions import TimeoutException\n",
    "from pymongo import MongoClient\n",
    "\n",
    "import pprint\n",
    "\n",
    "import pandas as pd\n",
    "\n",
    "# Requests sends and recieves HTTP requests.\n",
    "import requests\n",
    "\n",
    "# Beautiful Soup parses HTML documents in python.\n",
    "from bs4 import BeautifulSoup\n",
    "\n",
    "import json\n",
    "\n",
    "\n",
    "\n",
    "chrome_driver_path = \"/Users/annebarry/galvanize/running_rivalries/chromedriver\"\n",
    "\n",
    "driver = webdriver.Chrome(executable_path = chrome_driver_path)\n",
    "\n",
    "\n",
    "driver.get('https://results.nyrr.org/event/20VGRD1/finishers#af=40&at=44')"
   ]
  },
  {
   "cell_type": "code",
   "execution_count": null,
   "metadata": {},
   "outputs": [],
   "source": [
    "## get results\n",
    "\n",
    "button = driver.find_elements_by_class_name('button-load-more')\n",
    "\n",
    "while True:\n",
    "    try:\n",
    "        button[1].click()\n",
    "        time.sleep(10)\n",
    "    except:\n",
    "        break\n",
    "\n",
    "m_40_44 = driver.page_source"
   ]
  },
  {
   "cell_type": "code",
   "execution_count": null,
   "metadata": {},
   "outputs": [],
   "source": [
    "##sets up mongo DB\n",
    "client = MongoClient('localhost', 27017)\n",
    "races = client['new_db']\n",
    "race_results = db['race_results']\n",
    "individual_results = db['individual']"
   ]
  },
  {
   "cell_type": "code",
   "execution_count": null,
   "metadata": {},
   "outputs": [],
   "source": [
    "races.insert({'name':'Marathon Men 40-44', 'source': m_40_44})"
   ]
  },
  {
   "cell_type": "code",
   "execution_count": null,
   "metadata": {},
   "outputs": [],
   "source": []
  },
  {
   "cell_type": "code",
   "execution_count": null,
   "metadata": {},
   "outputs": [],
   "source": [
    "def parse_results(data, distance, ag):\n",
    "    soup = BeautifulSoup(data, 'html.parser')\n",
    "    for i, result in enumerate(soup.findAll(\"div\",'rms-grid-item')):\n",
    "        t = result.findAll(\"span\", \"long-text\")[0].text[4:]\n",
    "        a = int(result.findAll(\"span\", \"ng-binding ng-scope\")[0].text[1:])\n",
    "        n = result.findAll('div', 'name rms-grid-line ng-binding')[0].text.strip()\n",
    "        individual_results.insert({'name': n, 'time':t, 'age': a, 'ag': ag})"
   ]
  }
 ],
 "metadata": {
  "kernelspec": {
   "display_name": "Python 3",
   "language": "python",
   "name": "python3"
  },
  "language_info": {
   "codemirror_mode": {
    "name": "ipython",
    "version": 3
   },
   "file_extension": ".py",
   "mimetype": "text/x-python",
   "name": "python",
   "nbconvert_exporter": "python",
   "pygments_lexer": "ipython3",
   "version": "3.7.7"
  }
 },
 "nbformat": 4,
 "nbformat_minor": 4
}
