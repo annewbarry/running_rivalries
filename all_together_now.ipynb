{
 "cells": [
  {
   "cell_type": "code",
   "execution_count": 14,
   "metadata": {},
   "outputs": [],
   "source": [
    "import time\n",
    "\n",
    "from selenium import webdriver\n",
    "from selenium.webdriver.common.by import By\n",
    "from selenium.webdriver.support.ui import WebDriverWait\n",
    "from selenium.webdriver.support import expected_conditions as EC\n",
    "from selenium.common.exceptions import TimeoutException\n",
    "from pymongo import MongoClient\n",
    "\n",
    "import pprint\n",
    "\n",
    "import pandas as pd\n",
    "\n",
    "# Requests sends and recieves HTTP requests.\n",
    "import requests\n",
    "\n",
    "# Beautiful Soup parses HTML documents in python.\n",
    "from bs4 import BeautifulSoup\n",
    "\n",
    "import json\n"
   ]
  },
  {
   "cell_type": "code",
   "execution_count": 15,
   "metadata": {},
   "outputs": [],
   "source": [
    "client = MongoClient('localhost', 27017)\n",
    "racing = client['results']\n",
    "source = racing['source code']\n",
    "runners = racing['indiv']"
   ]
  },
  {
   "cell_type": "code",
   "execution_count": 16,
   "metadata": {},
   "outputs": [],
   "source": [
    "def parse_results(data, distance, ag):\n",
    "    soup = BeautifulSoup(data, 'html.parser')\n",
    "    for i, result in enumerate(soup.findAll(\"div\",'rms-grid-item')):\n",
    "        t = result.findAll(\"span\", \"long-text\")[0].text[4:]\n",
    "        a = int(result.findAll(\"span\", \"ng-binding ng-scope\")[0].text[1:])\n",
    "        n = result.findAll('div', 'name rms-grid-line ng-binding')[0].text.strip()\n",
    "        runners.insert({'name': n, 'time':t, 'age': a, 'ag': ag, 'dist': distance})"
   ]
  },
  {
   "cell_type": "code",
   "execution_count": null,
   "metadata": {},
   "outputs": [],
   "source": []
  },
  {
   "cell_type": "code",
   "execution_count": 17,
   "metadata": {},
   "outputs": [],
   "source": [
    "urls = [['https://results.nyrr.org/event/M2019/finishers#g=M&page=1&af=40&at=44', 'Men 40-44', 'Mar'], ['https://results.nyrr.org/event/M2019/finishers#g=M&page=1&af=45&at=49', 'Men 45-49', 'Mar'], ['https://results.nyrr.org/event/M2019/finishers#g=F&page=1&af=25&at=29', 'Women 25-29', 'Mar'], ['https://results.nyrr.org/event/M2019/finishers#g=F&page=1&af=30&at=34', 'Women 30-34', 'Mar'], ['https://results.nyrr.org/event/5AV-19/finishers#g=F&page=1&af=25&at=29', 'Women 25-29', 'Mile'], ['https://results.nyrr.org/event/5AV-19/finishers#g=F&page=1&af=30&at=34', 'Women 30-34', 'Mile'],['https://results.nyrr.org/event/5AV-19/finishers#g=M&page=1&af=40&at=44', 'Men 40-44', 'Mile'], ['https://results.nyrr.org/event/5AV-19/finishers#g=M&page=1&af=45&at=49', 'Men 45-49', 'Mile']]\n",
    "test_urls = [['https://results.nyrr.org/event/20JK10/finishers#g=M&page=1&af=20&at=24', 'Men 20-24', '10k'], ['https://results.nyrr.org/event/20JK10/finishers#g=F&page=1&af=20&at=24', 'Women 20-24', '10k']]\n",
    "## get results\n",
    "def git_er_done(urls_list):\n",
    "    for i in range(len(urls_list)):\n",
    "        source_code = scrape(urls_list[i][0])\n",
    "        print(urls_list[i][0])\n",
    "#         source_code = driver.page_source\n",
    "        racing.source.insert({'name': urls_list[i][1], 'source': source_code})\n",
    "        parse_results(source_code, urls_list[i][2], urls_list[i][1])"
   ]
  },
  {
   "cell_type": "code",
   "execution_count": 18,
   "metadata": {},
   "outputs": [],
   "source": [
    "def scrape(url):\n",
    "    chrome_driver_path = \"/Users/annebarry/galvanize/running_rivalries/chromedriver\"\n",
    "    driver = webdriver.Chrome(executable_path = chrome_driver_path)\n",
    "    driver.get(url)\n",
    "    print('made it to the scrape', url)\n",
    "    time.sleep(10)\n",
    "    button = driver.find_elements_by_class_name('button-load-more')\n",
    "    while True:\n",
    "        try:\n",
    "            button[1].click()\n",
    "            time.sleep(12)\n",
    "        except:\n",
    "            break\n",
    "    source = driver.page_source\n",
    "    return source"
   ]
  },
  {
   "cell_type": "code",
   "execution_count": null,
   "metadata": {},
   "outputs": [],
   "source": [
    "git_er_done(urls)"
   ]
  },
  {
   "cell_type": "code",
   "execution_count": null,
   "metadata": {
    "scrolled": true
   },
   "outputs": [],
   "source": [
    "individuals = pd.DataFrame(list(runners_test.find()))"
   ]
  },
  {
   "cell_type": "code",
   "execution_count": null,
   "metadata": {},
   "outputs": [],
   "source": [
    "print(individuals)"
   ]
  },
  {
   "cell_type": "code",
   "execution_count": null,
   "metadata": {},
   "outputs": [],
   "source": [
    "# def parse_results(data, distance, ag):\n",
    "#     soup = BeautifulSoup(data, 'html.parser')\n",
    "#     for i, result in enumerate(soup.findAll(\"div\",'rms-grid-item')):\n",
    "#         t = result.findAll(\"span\", \"long-text\")[0].text[4:]\n",
    "#         a = int(result.findAll(\"span\", \"ng-binding ng-scope\")[0].text[1:])\n",
    "#         n = result.findAll('div', 'name rms-grid-line ng-binding')[0].text.strip()\n",
    "#         runners.insert({'name': n, 'time':t, 'age': a, 'ag': ag, 'dist': distance})"
   ]
  },
  {
   "cell_type": "code",
   "execution_count": null,
   "metadata": {},
   "outputs": [],
   "source": [
    "list(test_runners.find())"
   ]
  },
  {
   "cell_type": "code",
   "execution_count": null,
   "metadata": {},
   "outputs": [],
   "source": [
    "individuals = pd.DataFrame(list(individual_results.find()))"
   ]
  },
  {
   "cell_type": "code",
   "execution_count": 7,
   "metadata": {},
   "outputs": [
    {
     "ename": "NameError",
     "evalue": "name 'driver' is not defined",
     "output_type": "error",
     "traceback": [
      "\u001b[0;31m---------------------------------------------------------------------------\u001b[0m",
      "\u001b[0;31mNameError\u001b[0m                                 Traceback (most recent call last)",
      "\u001b[0;32m<ipython-input-7-4fe33273f192>\u001b[0m in \u001b[0;36m<module>\u001b[0;34m\u001b[0m\n\u001b[0;32m----> 1\u001b[0;31m \u001b[0mdriver\u001b[0m\u001b[0;34m.\u001b[0m\u001b[0mget\u001b[0m\u001b[0;34m(\u001b[0m\u001b[0;34m[\u001b[0m\u001b[0;34m'https://results.nyrr.org/event/M2019/finishers#g=M&page=1&af=40&at=44'\u001b[0m\u001b[0;34m]\u001b[0m\u001b[0;34m)\u001b[0m\u001b[0;34m\u001b[0m\u001b[0;34m\u001b[0m\u001b[0m\n\u001b[0m\u001b[1;32m      2\u001b[0m \u001b[0mbutton\u001b[0m \u001b[0;34m=\u001b[0m \u001b[0mdriver\u001b[0m\u001b[0;34m.\u001b[0m\u001b[0mfind_elements_by_class_name\u001b[0m\u001b[0;34m(\u001b[0m\u001b[0;34m'button-load-more'\u001b[0m\u001b[0;34m)\u001b[0m\u001b[0;34m\u001b[0m\u001b[0;34m\u001b[0m\u001b[0m\n\u001b[1;32m      3\u001b[0m \u001b[0mtime\u001b[0m\u001b[0;34m.\u001b[0m\u001b[0msleep\u001b[0m\u001b[0;34m(\u001b[0m\u001b[0;36m20\u001b[0m\u001b[0;34m)\u001b[0m\u001b[0;34m\u001b[0m\u001b[0;34m\u001b[0m\u001b[0m\n\u001b[1;32m      4\u001b[0m \u001b[0;34m\u001b[0m\u001b[0m\n\u001b[1;32m      5\u001b[0m \u001b[0;32mwhile\u001b[0m \u001b[0;32mTrue\u001b[0m\u001b[0;34m:\u001b[0m\u001b[0;34m\u001b[0m\u001b[0;34m\u001b[0m\u001b[0m\n",
      "\u001b[0;31mNameError\u001b[0m: name 'driver' is not defined"
     ]
    }
   ],
   "source": [
    "\n",
    "\n",
    "driver.get(['https://results.nyrr.org/event/M2019/finishers#g=M&page=1&af=40&at=44'])\n",
    "button = driver.find_elements_by_class_name('button-load-more')\n",
    "time.sleep(20)\n",
    "\n",
    "while True:\n",
    "    try:\n",
    "        button[1].click()\n",
    "        time.sleep(random.randint(15)) \n",
    "    except:\n",
    "        break\n",
    "        \n",
    "m_40_44 = driver.page_source"
   ]
  },
  {
   "cell_type": "code",
   "execution_count": null,
   "metadata": {},
   "outputs": [],
   "source": [
    "m_40_44"
   ]
  },
  {
   "cell_type": "code",
   "execution_count": null,
   "metadata": {},
   "outputs": [],
   "source": []
  },
  {
   "cell_type": "code",
   "execution_count": 20,
   "metadata": {},
   "outputs": [
    {
     "name": "stdout",
     "output_type": "stream",
     "text": [
      "made it to the scrape https://results.nyrr.org/event/M2019/finishers#g=M&page=1&af=60&at=64\n",
      "https://results.nyrr.org/event/M2019/finishers#g=M&page=1&af=60&at=64\n"
     ]
    },
    {
     "name": "stderr",
     "output_type": "stream",
     "text": [
      "/Users/annebarry/opt/anaconda3/lib/python3.7/site-packages/ipykernel_launcher.py:9: DeprecationWarning: insert is deprecated. Use insert_one or insert_many instead.\n",
      "  if __name__ == '__main__':\n",
      "/Users/annebarry/opt/anaconda3/lib/python3.7/site-packages/ipykernel_launcher.py:7: DeprecationWarning: insert is deprecated. Use insert_one or insert_many instead.\n",
      "  import sys\n"
     ]
    }
   ],
   "source": [
    "git_er_done([['https://results.nyrr.org/event/M2019/finishers#g=M&page=1&af=60&at=64', 'Men 60-64', 'Mar']])"
   ]
  },
  {
   "cell_type": "code",
   "execution_count": null,
   "metadata": {},
   "outputs": [],
   "source": []
  }
 ],
 "metadata": {
  "kernelspec": {
   "display_name": "Python 3",
   "language": "python",
   "name": "python3"
  },
  "language_info": {
   "codemirror_mode": {
    "name": "ipython",
    "version": 3
   },
   "file_extension": ".py",
   "mimetype": "text/x-python",
   "name": "python",
   "nbconvert_exporter": "python",
   "pygments_lexer": "ipython3",
   "version": "3.7.7"
  }
 },
 "nbformat": 4,
 "nbformat_minor": 4
}
