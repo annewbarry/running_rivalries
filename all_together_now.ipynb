{
 "cells": [
  {
   "cell_type": "code",
   "execution_count": 84,
   "metadata": {},
   "outputs": [],
   "source": [
    "import time\n",
    "\n",
    "from selenium import webdriver\n",
    "from selenium.webdriver.common.by import By\n",
    "from selenium.webdriver.support.ui import WebDriverWait\n",
    "from selenium.webdriver.support import expected_conditions as EC\n",
    "from selenium.common.exceptions import TimeoutException\n",
    "from pymongo import MongoClient\n",
    "\n",
    "import pprint\n",
    "\n",
    "import pandas as pd\n",
    "\n",
    "# Requests sends and recieves HTTP requests.\n",
    "import requests\n",
    "\n",
    "# Beautiful Soup parses HTML documents in python.\n",
    "from bs4 import BeautifulSoup\n",
    "\n",
    "import json\n",
    "\n",
    "\n",
    "\n",
    "chrome_driver_path = \"/Users/annebarry/galvanize/running_rivalries/chromedriver\"\n",
    "\n",
    "driver = webdriver.Chrome(executable_path = chrome_driver_path)\n",
    "\n",
    "\n",
    "#driver.get('https://results.nyrr.org/event/20VGRD1/finishers#af=40&at=44')"
   ]
  },
  {
   "cell_type": "code",
   "execution_count": 85,
   "metadata": {},
   "outputs": [],
   "source": [
    "client = MongoClient('localhost', 27017)\n",
    "races = client['new_db']\n",
    "race_results = races['race_results']\n",
    "runners_test = races['runners']"
   ]
  },
  {
   "cell_type": "code",
   "execution_count": 86,
   "metadata": {},
   "outputs": [],
   "source": [
    "def parse_results(data, distance, ag, url, pri):\n",
    "    soup = BeautifulSoup(data, 'html.parser')\n",
    "    print(url)\n",
    "    for i, result in enumerate(soup.findAll(\"div\",'rms-grid-item')):\n",
    "        if pri == False:\n",
    "            break\n",
    "        t = result.findAll(\"span\", \"long-text\")[0].text[4:]\n",
    "        a = int(result.findAll(\"span\", \"ng-binding ng-scope\")[0].text[1:])\n",
    "        n = result.findAll('div', 'name rms-grid-line ng-binding')[0].text.strip()\n",
    "        print(n, a, t)\n",
    "        runners_test.insert({'name': n, 'time':t, 'age': a, 'ag': ag, 'dist': distance})\n",
    "        if i<5:\n",
    "            print(n, a)"
   ]
  },
  {
   "cell_type": "code",
   "execution_count": 90,
   "metadata": {},
   "outputs": [],
   "source": [
    "def scrape(url):\n",
    "    button = driver.find_elements_by_class_name('button-load-more')\n",
    "    driver.get(url)\n",
    "    time.sleep(10)\n",
    "    while True:\n",
    "        try:\n",
    "            button[1].click()\n",
    "            time.sleep(random.randint(15)) \n",
    "        except:\n",
    "            break"
   ]
  },
  {
   "cell_type": "code",
   "execution_count": 91,
   "metadata": {},
   "outputs": [],
   "source": [
    "urls = [['https://results.nyrr.org/event/M2019/finishers#g=M&page=1&af=40&at=44', 'Men 40-44', 'Mar'], ['https://results.nyrr.org/event/M2019/finishers#g=M&page=1&af=45&at=49', 'Men 45-49', 'Mar'], ['https://results.nyrr.org/event/M2019/finishers#g=F&page=1&af=25&at=29', 'Women 25-29', 'Mar'], ['https://results.nyrr.org/event/M2019/finishers#g=F&page=1&af=30&at=34', 'Women 30-34', 'Mar'], ['https://results.nyrr.org/event/5AV-19/finishers#g=F&page=1&af=25&at=29', 'Women 25-29', 'Mile'], ['https://results.nyrr.org/event/5AV-19/finishers#g=F&page=1&af=30&at=34', 'Women 30-34', 'Mile'],['https://results.nyrr.org/event/5AV-19/finishers#g=M&page=1&af=40&at=44', 'Men 40-44', 'Mile'], ['https://results.nyrr.org/event/5AV-19/finishers#g=M&page=1&af=45&at=49', 'Men 45-49', 'Mile']]\n",
    "test_urls = [['https://results.nyrr.org/event/20JK10/finishers#g=M&page=1&af=1&at=14', 'kids', '10k'], ['https://results.nyrr.org/event/20JK10/finishers#g=M&page=1&af=30&at=34', 'men', '10k']]\n",
    "## get results\n",
    "def git_er_done(urls_list):\n",
    "    for i in range(len(urls_list)):\n",
    "        scrape(urls_list[i][0])\n",
    "        print(urls_list[i][0])\n",
    "        html = driver.page_source\n",
    "        races.race_results.insert({'name': urls_list[i][1], 'source': html})\n",
    "        parse_results(html, urls_list[i][2], urls_list[i][1], urls_list[i][0], i ==1)"
   ]
  },
  {
   "cell_type": "code",
   "execution_count": 92,
   "metadata": {},
   "outputs": [
    {
     "name": "stdout",
     "output_type": "stream",
     "text": [
      "https://results.nyrr.org/event/20JK10/finishers#g=M&page=1&af=1&at=14\n"
     ]
    },
    {
     "name": "stderr",
     "output_type": "stream",
     "text": [
      "/Users/annebarry/opt/anaconda3/lib/python3.7/site-packages/ipykernel_launcher.py:9: DeprecationWarning: insert is deprecated. Use insert_one or insert_many instead.\n",
      "  if __name__ == '__main__':\n"
     ]
    },
    {
     "name": "stdout",
     "output_type": "stream",
     "text": [
      "https://results.nyrr.org/event/20JK10/finishers#g=M&page=1&af=1&at=14\n",
      "https://results.nyrr.org/event/20JK10/finishers#g=M&page=1&af=30&at=34\n",
      "https://results.nyrr.org/event/20JK10/finishers#g=M&page=1&af=30&at=34\n",
      "Abu Kebede Diriba 32 0:32:00\n",
      "Abu Kebede Diriba 32\n",
      "Michael Harbus 33 0:34:43\n",
      "Michael Harbus 33\n",
      "William McGee 34 0:34:49\n",
      "William McGee 34\n",
      "Garrett Burger 30 0:35:12\n",
      "Garrett Burger 30\n",
      "Michael Bravo 30 0:35:19\n",
      "Michael Bravo 30\n",
      "William Washer 33 0:35:33\n",
      "Arnaud Enjalbert 32 0:35:54\n",
      "Matthew Vosburgh 31 0:35:55\n",
      "David Kennedy 33 0:35:57\n",
      "Bobby Asher 34 0:36:35\n",
      "Conor Twomey 34 0:36:40\n",
      "Neil Menard 33 0:36:51\n",
      "Jimmy Touhey 30 0:36:51\n",
      "Bowen Xuan 30 0:36:55\n",
      "Caleb Karpay 33 0:36:59\n",
      "John Kennedy 31 0:37:40\n",
      "Thomas Harper 32 0:37:51\n",
      "Joe Tucker 31 0:37:52\n",
      "Joshua Wessler 32 0:38:46\n",
      "Michael Anthony 34 0:38:59\n",
      "Geoffrey Scott 33 0:39:02\n",
      "Eric Meder 34 0:39:10\n",
      "Henry Wang 34 0:39:31\n",
      "Roland Tung 34 0:39:36\n",
      "Kevin Montalvo 31 0:39:45\n",
      "Angelo Coclanis 33 0:39:52\n",
      "Wilhem Leconet 34 0:40:11\n",
      "Mei Chiu 31 0:40:13\n",
      "Alejandro Jaramillo 32 0:40:16\n",
      "Juan Gonzalez 32 0:40:19\n",
      "Eric Morris 33 0:40:20\n",
      "Nicholas Reinhold 34 0:40:28\n",
      "Steven Garcia 30 0:40:31\n",
      "Leopoldo Romagnoli 34 0:40:36\n",
      "Benjamin Altman 32 0:40:37\n",
      "Ian Ezerin 32 0:40:40\n",
      "Kei Namba 34 0:40:55\n",
      "Mike Repplier 33 0:40:57\n",
      "Matt Ramos 32 0:41:00\n",
      "John Morgan 30 0:41:08\n",
      "Adrien Menard 30 0:41:15\n"
     ]
    },
    {
     "name": "stderr",
     "output_type": "stream",
     "text": [
      "/Users/annebarry/opt/anaconda3/lib/python3.7/site-packages/ipykernel_launcher.py:11: DeprecationWarning: insert is deprecated. Use insert_one or insert_many instead.\n",
      "  # This is added back by InteractiveShellApp.init_path()\n"
     ]
    },
    {
     "name": "stdout",
     "output_type": "stream",
     "text": [
      "John Tran 33 0:41:16\n",
      "Jeffrey Tente 32 0:41:18\n",
      "Mike Wilcox 34 0:41:28\n",
      "Steven Sredzienski 30 0:41:28\n",
      "Jameson Schriber 34 0:41:37\n",
      "Simon Porter 33 0:41:39\n",
      "Julien Bommier 31 0:41:54\n",
      "Axel Nunez 30 0:42:05\n",
      "Ger Flood 33 0:42:12\n",
      "Timothy Berardo 34 0:42:15\n",
      "Guillaume Roesz 32 0:42:16\n",
      "Dario Leoncini 34 0:42:21\n",
      "Mateusz Patrowski 34 0:42:27\n",
      "Stephen Green 33 0:42:28\n",
      "Ryan Carmichael 33 0:42:29\n",
      "Anthony Manfred 31 0:42:29\n",
      "Rylan Stewart 31 0:42:31\n",
      "Shawn Walsh 32 0:42:38\n",
      "Michael Massey 31 0:42:38\n",
      "Javier Oreamuno 33 0:42:40\n",
      "Andrey Kirichenko 32 0:42:42\n",
      "Simon Mayo 33 0:42:46\n",
      "Artem Feldman 33 0:42:49\n",
      "Jonathan Raditch 33 0:42:49\n",
      "Brandon Johnson 32 0:42:51\n",
      "Camillus Fitzpatrick 31 0:42:57\n",
      "Theodore Brenard 34 0:42:58\n",
      "Eric Geller 34 0:43:01\n",
      "Moni Solomonov 34 0:43:20\n",
      "Frank Cirrone 31 0:43:21\n",
      "James Conway 30 0:43:27\n",
      "Vidhyarth Hariharan 31 0:43:30\n",
      "Georgios Zavolas 33 0:43:33\n",
      "Daniel Burnett 30 0:43:38\n",
      "Patrick Lynch 30 0:43:47\n",
      "Kevin Hueber 30 0:43:49\n",
      "Hod Gan or 32 0:43:52\n",
      "Jonathan Tanenbaum 34 0:43:54\n",
      "Sean O'Connor 33 0:43:58\n",
      "Pinchas Farkas 32 0:44:00\n",
      "Tom Holtz 33 0:44:13\n",
      "Matthew Zettwoch 34 0:44:16\n",
      "Ismael Cid Martinez 33 0:44:16\n",
      "Stacey Neabore 32 0:44:20\n",
      "Yi Han Goh 31 0:44:25\n",
      "Stephen Greaves 34 0:44:26\n",
      "Christopher Stratton 30 0:44:35\n",
      "Ed Podojil 34 0:44:36\n",
      "Alfredo Garcia 31 0:44:41\n",
      "Michal Marek 33 0:44:42\n",
      "Ross Freilich 32 0:44:43\n",
      "Joseph Rios 30 0:44:49\n",
      "Andrew Smoker 33 0:44:49\n",
      "Martin Lheritier 30 0:44:50\n",
      "Jeffrey Sindone 34 0:44:50\n",
      "Aboubacar Toure 30 0:44:54\n",
      "Sebastian Grande 33 0:44:55\n",
      "David Wang 30 0:45:00\n",
      "Ross Dahmen 31 0:45:08\n",
      "Noah Lincoff 30 0:45:10\n",
      "Octavio Ruiz Lacedelli 34 0:45:11\n"
     ]
    }
   ],
   "source": [
    "git_er_done(test_urls)"
   ]
  },
  {
   "cell_type": "code",
   "execution_count": 66,
   "metadata": {
    "scrolled": true
   },
   "outputs": [
    {
     "data": {
      "text/plain": [
       "[{'_id': ObjectId('5f16122b384b124043ec5f34'),\n",
       "  'name': 'Matt Califano',\n",
       "  'time': '0:39:08',\n",
       "  'age': 13,\n",
       "  'ag': 'kids',\n",
       "  'dist': '10k'},\n",
       " {'_id': ObjectId('5f16122b384b124043ec5f35'),\n",
       "  'name': 'Alex Califano',\n",
       "  'time': '0:40:25',\n",
       "  'age': 13,\n",
       "  'ag': 'kids',\n",
       "  'dist': '10k'},\n",
       " {'_id': ObjectId('5f16122b384b124043ec5f36'),\n",
       "  'name': 'Jason Xia',\n",
       "  'time': '0:54:17',\n",
       "  'age': 14,\n",
       "  'ag': 'kids',\n",
       "  'dist': '10k'},\n",
       " {'_id': ObjectId('5f16122b384b124043ec5f37'),\n",
       "  'name': 'Mattei Kirkbride',\n",
       "  'time': '0:54:18',\n",
       "  'age': 13,\n",
       "  'ag': 'kids',\n",
       "  'dist': '10k'},\n",
       " {'_id': ObjectId('5f16122b384b124043ec5f38'),\n",
       "  'name': 'Navroop Singh',\n",
       "  'time': '1:01:18',\n",
       "  'age': 14,\n",
       "  'ag': 'kids',\n",
       "  'dist': '10k'},\n",
       " {'_id': ObjectId('5f16122b384b124043ec5f39'),\n",
       "  'name': 'Raphaël Chrétien',\n",
       "  'time': '1:01:32',\n",
       "  'age': 13,\n",
       "  'ag': 'kids',\n",
       "  'dist': '10k'},\n",
       " {'_id': ObjectId('5f16122b384b124043ec5f3a'),\n",
       "  'name': 'Austin Chan-Orsini',\n",
       "  'time': '1:02:39',\n",
       "  'age': 13,\n",
       "  'ag': 'kids',\n",
       "  'dist': '10k'},\n",
       " {'_id': ObjectId('5f161235384b124043ec5f3c'),\n",
       "  'name': 'Matt Califano',\n",
       "  'time': '0:39:08',\n",
       "  'age': 13,\n",
       "  'ag': 'men',\n",
       "  'dist': '10k'},\n",
       " {'_id': ObjectId('5f161235384b124043ec5f3d'),\n",
       "  'name': 'Alex Califano',\n",
       "  'time': '0:40:25',\n",
       "  'age': 13,\n",
       "  'ag': 'men',\n",
       "  'dist': '10k'},\n",
       " {'_id': ObjectId('5f161235384b124043ec5f3e'),\n",
       "  'name': 'Jason Xia',\n",
       "  'time': '0:54:17',\n",
       "  'age': 14,\n",
       "  'ag': 'men',\n",
       "  'dist': '10k'},\n",
       " {'_id': ObjectId('5f161235384b124043ec5f3f'),\n",
       "  'name': 'Mattei Kirkbride',\n",
       "  'time': '0:54:18',\n",
       "  'age': 13,\n",
       "  'ag': 'men',\n",
       "  'dist': '10k'},\n",
       " {'_id': ObjectId('5f161235384b124043ec5f40'),\n",
       "  'name': 'Navroop Singh',\n",
       "  'time': '1:01:18',\n",
       "  'age': 14,\n",
       "  'ag': 'men',\n",
       "  'dist': '10k'},\n",
       " {'_id': ObjectId('5f161235384b124043ec5f41'),\n",
       "  'name': 'Raphaël Chrétien',\n",
       "  'time': '1:01:32',\n",
       "  'age': 13,\n",
       "  'ag': 'men',\n",
       "  'dist': '10k'},\n",
       " {'_id': ObjectId('5f161235384b124043ec5f42'),\n",
       "  'name': 'Austin Chan-Orsini',\n",
       "  'time': '1:02:39',\n",
       "  'age': 13,\n",
       "  'ag': 'men',\n",
       "  'dist': '10k'},\n",
       " {'_id': ObjectId('5f16131e384b124043ec5f44'),\n",
       "  'name': 'Matt Califano',\n",
       "  'time': '0:39:08',\n",
       "  'age': 13,\n",
       "  'ag': 'kids',\n",
       "  'dist': '10k'},\n",
       " {'_id': ObjectId('5f16131e384b124043ec5f45'),\n",
       "  'name': 'Alex Califano',\n",
       "  'time': '0:40:25',\n",
       "  'age': 13,\n",
       "  'ag': 'kids',\n",
       "  'dist': '10k'},\n",
       " {'_id': ObjectId('5f16131e384b124043ec5f46'),\n",
       "  'name': 'Jason Xia',\n",
       "  'time': '0:54:17',\n",
       "  'age': 14,\n",
       "  'ag': 'kids',\n",
       "  'dist': '10k'},\n",
       " {'_id': ObjectId('5f16131e384b124043ec5f47'),\n",
       "  'name': 'Mattei Kirkbride',\n",
       "  'time': '0:54:18',\n",
       "  'age': 13,\n",
       "  'ag': 'kids',\n",
       "  'dist': '10k'},\n",
       " {'_id': ObjectId('5f16131e384b124043ec5f48'),\n",
       "  'name': 'Navroop Singh',\n",
       "  'time': '1:01:18',\n",
       "  'age': 14,\n",
       "  'ag': 'kids',\n",
       "  'dist': '10k'},\n",
       " {'_id': ObjectId('5f16131e384b124043ec5f49'),\n",
       "  'name': 'Raphaël Chrétien',\n",
       "  'time': '1:01:32',\n",
       "  'age': 13,\n",
       "  'ag': 'kids',\n",
       "  'dist': '10k'},\n",
       " {'_id': ObjectId('5f16131e384b124043ec5f4a'),\n",
       "  'name': 'Austin Chan-Orsini',\n",
       "  'time': '1:02:39',\n",
       "  'age': 13,\n",
       "  'ag': 'kids',\n",
       "  'dist': '10k'},\n",
       " {'_id': ObjectId('5f16131e384b124043ec5f4b'),\n",
       "  'name': 'Thomas Geiger',\n",
       "  'time': '1:04:09',\n",
       "  'age': 14,\n",
       "  'ag': 'kids',\n",
       "  'dist': '10k'},\n",
       " {'_id': ObjectId('5f16131e384b124043ec5f4c'),\n",
       "  'name': 'Ellis Kilty',\n",
       "  'time': '1:06:00',\n",
       "  'age': 14,\n",
       "  'ag': 'kids',\n",
       "  'dist': '10k'},\n",
       " {'_id': ObjectId('5f161328384b124043ec5f4e'),\n",
       "  'name': 'Matt Califano',\n",
       "  'time': '0:39:08',\n",
       "  'age': 13,\n",
       "  'ag': 'men',\n",
       "  'dist': '10k'},\n",
       " {'_id': ObjectId('5f161328384b124043ec5f4f'),\n",
       "  'name': 'Alex Califano',\n",
       "  'time': '0:40:25',\n",
       "  'age': 13,\n",
       "  'ag': 'men',\n",
       "  'dist': '10k'},\n",
       " {'_id': ObjectId('5f161328384b124043ec5f50'),\n",
       "  'name': 'Jason Xia',\n",
       "  'time': '0:54:17',\n",
       "  'age': 14,\n",
       "  'ag': 'men',\n",
       "  'dist': '10k'},\n",
       " {'_id': ObjectId('5f161328384b124043ec5f51'),\n",
       "  'name': 'Mattei Kirkbride',\n",
       "  'time': '0:54:18',\n",
       "  'age': 13,\n",
       "  'ag': 'men',\n",
       "  'dist': '10k'},\n",
       " {'_id': ObjectId('5f161328384b124043ec5f52'),\n",
       "  'name': 'Navroop Singh',\n",
       "  'time': '1:01:18',\n",
       "  'age': 14,\n",
       "  'ag': 'men',\n",
       "  'dist': '10k'},\n",
       " {'_id': ObjectId('5f161328384b124043ec5f53'),\n",
       "  'name': 'Raphaël Chrétien',\n",
       "  'time': '1:01:32',\n",
       "  'age': 13,\n",
       "  'ag': 'men',\n",
       "  'dist': '10k'},\n",
       " {'_id': ObjectId('5f161328384b124043ec5f54'),\n",
       "  'name': 'Austin Chan-Orsini',\n",
       "  'time': '1:02:39',\n",
       "  'age': 13,\n",
       "  'ag': 'men',\n",
       "  'dist': '10k'},\n",
       " {'_id': ObjectId('5f161328384b124043ec5f55'),\n",
       "  'name': 'Thomas Geiger',\n",
       "  'time': '1:04:09',\n",
       "  'age': 14,\n",
       "  'ag': 'men',\n",
       "  'dist': '10k'},\n",
       " {'_id': ObjectId('5f161328384b124043ec5f56'),\n",
       "  'name': 'Ellis Kilty',\n",
       "  'time': '1:06:00',\n",
       "  'age': 14,\n",
       "  'ag': 'men',\n",
       "  'dist': '10k'}]"
      ]
     },
     "execution_count": 66,
     "metadata": {},
     "output_type": "execute_result"
    }
   ],
   "source": [
    "list(runners.find())"
   ]
  },
  {
   "cell_type": "code",
   "execution_count": 20,
   "metadata": {},
   "outputs": [
    {
     "data": {
      "text/plain": [
       "<pymongo.cursor.Cursor at 0x7fad5874b550>"
      ]
     },
     "execution_count": 20,
     "metadata": {},
     "output_type": "execute_result"
    }
   ],
   "source": [
    "races.race_results.find()"
   ]
  },
  {
   "cell_type": "code",
   "execution_count": 21,
   "metadata": {},
   "outputs": [
    {
     "name": "stderr",
     "output_type": "stream",
     "text": [
      "/Users/annebarry/opt/anaconda3/lib/python3.7/site-packages/ipykernel_launcher.py:7: DeprecationWarning: insert is deprecated. Use insert_one or insert_many instead.\n",
      "  import sys\n"
     ]
    }
   ],
   "source": [
    "def parse_results(data, distance, ag):\n",
    "    soup = BeautifulSoup(data, 'html.parser')\n",
    "    for i, result in enumerate(soup.findAll(\"div\",'rms-grid-item')):\n",
    "        t = result.findAll(\"span\", \"long-text\")[0].text[4:]\n",
    "        a = int(result.findAll(\"span\", \"ng-binding ng-scope\")[0].text[1:])\n",
    "        n = result.findAll('div', 'name rms-grid-line ng-binding')[0].text.strip()\n",
    "        individual_results.insert({'name': n, 'time':t, 'age': a, 'ag': ag, 'dist': distance})"
   ]
  },
  {
   "cell_type": "code",
   "execution_count": 27,
   "metadata": {},
   "outputs": [
    {
     "data": {
      "text/plain": [
       "[{'_id': ObjectId('5f1604e7384b124043ec55ac'),\n",
       "  'name': 'Clint Bell',\n",
       "  'time': '0:04:49',\n",
       "  'age': 40,\n",
       "  'ag': '40-44',\n",
       "  'dist': 'Mar'},\n",
       " {'_id': ObjectId('5f1604e7384b124043ec55ad'),\n",
       "  'name': 'Katherine Phillips',\n",
       "  'time': '0:05:03',\n",
       "  'age': 40,\n",
       "  'ag': '40-44',\n",
       "  'dist': 'Mar'},\n",
       " {'_id': ObjectId('5f1604e7384b124043ec55ae'),\n",
       "  'name': 'Keith Stewart',\n",
       "  'time': '0:05:05',\n",
       "  'age': 40,\n",
       "  'ag': '40-44',\n",
       "  'dist': 'Mar'},\n",
       " {'_id': ObjectId('5f1604e7384b124043ec55af'),\n",
       "  'name': 'Matthew Jacklin',\n",
       "  'time': '0:05:05',\n",
       "  'age': 44,\n",
       "  'ag': '40-44',\n",
       "  'dist': 'Mar'}]"
      ]
     },
     "execution_count": 27,
     "metadata": {},
     "output_type": "execute_result"
    }
   ],
   "source": [
    "list(individual_results.find().limit(4))"
   ]
  },
  {
   "cell_type": "code",
   "execution_count": 25,
   "metadata": {},
   "outputs": [],
   "source": [
    "individuals = pd.DataFrame(list(individual_results.find()))"
   ]
  },
  {
   "cell_type": "code",
   "execution_count": 24,
   "metadata": {},
   "outputs": [
    {
     "name": "stdout",
     "output_type": "stream",
     "text": [
      "                           _id                name     time  age     ag dist\n",
      "0     5f1604e7384b124043ec55ac          Clint Bell  0:04:49   40  40-44  Mar\n",
      "1     5f1604e7384b124043ec55ad  Katherine Phillips  0:05:03   40  40-44  Mar\n",
      "2     5f1604e7384b124043ec55ae       Keith Stewart  0:05:05   40  40-44  Mar\n",
      "3     5f1604e7384b124043ec55af     Matthew Jacklin  0:05:05   44  40-44  Mar\n",
      "4     5f1604e7384b124043ec55b0        Brian Pasero  0:05:05   41  40-44  Mar\n",
      "...                        ...                 ...      ...  ...    ...  ...\n",
      "2358  5f1604ec384b124043ec5ee2           Elise Hay  0:26:46   41  40-44  Mar\n",
      "2359  5f1604ec384b124043ec5ee3          Susan Abla  0:27:01   42  40-44  Mar\n",
      "2360  5f1604ec384b124043ec5ee4       Silvia Garcia  0:27:19   41  40-44  Mar\n",
      "2361  5f1604ec384b124043ec5ee5       Emma Millward  0:31:57   40  40-44  Mar\n",
      "2362  5f1604ec384b124043ec5ee6      Cordelia Stark  2:28:04   44  40-44  Mar\n",
      "\n",
      "[2363 rows x 6 columns]\n"
     ]
    }
   ],
   "source": [
    "print(data)"
   ]
  },
  {
   "cell_type": "code",
   "execution_count": 28,
   "metadata": {},
   "outputs": [
    {
     "data": {
      "text/plain": [
       "['admin', 'config', 'local', 'new_db']"
      ]
     },
     "execution_count": 28,
     "metadata": {},
     "output_type": "execute_result"
    }
   ],
   "source": [
    "client.list_database_names()"
   ]
  },
  {
   "cell_type": "code",
   "execution_count": null,
   "metadata": {},
   "outputs": [],
   "source": []
  }
 ],
 "metadata": {
  "kernelspec": {
   "display_name": "Python 3",
   "language": "python",
   "name": "python3"
  },
  "language_info": {
   "codemirror_mode": {
    "name": "ipython",
    "version": 3
   },
   "file_extension": ".py",
   "mimetype": "text/x-python",
   "name": "python",
   "nbconvert_exporter": "python",
   "pygments_lexer": "ipython3",
   "version": "3.7.7"
  }
 },
 "nbformat": 4,
 "nbformat_minor": 4
}
