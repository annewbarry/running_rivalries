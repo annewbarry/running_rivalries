{
 "cells": [
  {
   "cell_type": "code",
   "execution_count": 2,
   "metadata": {},
   "outputs": [],
   "source": [
    "import time\n",
    "\n",
    "from selenium import webdriver\n",
    "from selenium.webdriver.common.by import By\n",
    "from selenium.webdriver.support.ui import WebDriverWait\n",
    "from selenium.webdriver.support import expected_conditions as EC\n",
    "from selenium.common.exceptions import TimeoutException\n",
    "from pymongo import MongoClient\n",
    "\n",
    "import pprint\n",
    "\n",
    "import pandas as pd\n",
    "\n",
    "# Requests sends and recieves HTTP requests.\n",
    "import requests\n",
    "\n",
    "# Beautiful Soup parses HTML documents in python.\n",
    "from bs4 import BeautifulSoup\n",
    "\n",
    "import json\n",
    "\n",
    "\n",
    "\n",
    "chrome_driver_path = \"/Users/annebarry/galvanize/running_rivalries/chromedriver\"\n",
    "\n",
    "driver = webdriver.Chrome(executable_path = chrome_driver_path)\n",
    "\n",
    "\n",
    "driver.get('https://results.nyrr.org/event/20VGRD1/finishers#af=40&at=44')"
   ]
  },
  {
   "cell_type": "code",
   "execution_count": 3,
   "metadata": {},
   "outputs": [],
   "source": [
    "## get results\n",
    "\n",
    "button = driver.find_elements_by_class_name('button-load-more')\n",
    "\n",
    "while True:\n",
    "    try:\n",
    "        button[1].click()\n",
    "        time.sleep(10)\n",
    "    except:\n",
    "        break\n",
    "\n",
    "m_40_44 = driver.page_source"
   ]
  },
  {
   "cell_type": "code",
   "execution_count": 18,
   "metadata": {},
   "outputs": [],
   "source": [
    "##sets up mongo DB\n",
    "client = MongoClient('localhost', 27017)\n",
    "races = client['new_db']\n",
    "race_results = races['race_results']\n",
    "individual_results = races['individual']"
   ]
  },
  {
   "cell_type": "code",
   "execution_count": 19,
   "metadata": {
    "scrolled": true
   },
   "outputs": [
    {
     "name": "stderr",
     "output_type": "stream",
     "text": [
      "/Users/annebarry/opt/anaconda3/lib/python3.7/site-packages/ipykernel_launcher.py:1: DeprecationWarning: insert is deprecated. Use insert_one or insert_many instead.\n",
      "  \"\"\"Entry point for launching an IPython kernel.\n"
     ]
    },
    {
     "data": {
      "text/plain": [
       "ObjectId('5f160476384b124043ec55ab')"
      ]
     },
     "execution_count": 19,
     "metadata": {},
     "output_type": "execute_result"
    }
   ],
   "source": [
    "races.race_results.insert({'name':'Marathon Men 40-44', 'source': m_40_44})"
   ]
  },
  {
   "cell_type": "code",
   "execution_count": 20,
   "metadata": {},
   "outputs": [
    {
     "data": {
      "text/plain": [
       "<pymongo.cursor.Cursor at 0x7fad5874b550>"
      ]
     },
     "execution_count": 20,
     "metadata": {},
     "output_type": "execute_result"
    }
   ],
   "source": [
    "races.race_results.find()"
   ]
  },
  {
   "cell_type": "code",
   "execution_count": 21,
   "metadata": {},
   "outputs": [
    {
     "name": "stderr",
     "output_type": "stream",
     "text": [
      "/Users/annebarry/opt/anaconda3/lib/python3.7/site-packages/ipykernel_launcher.py:7: DeprecationWarning: insert is deprecated. Use insert_one or insert_many instead.\n",
      "  import sys\n"
     ]
    }
   ],
   "source": [
    "def parse_results(data, distance, ag):\n",
    "    soup = BeautifulSoup(data, 'html.parser')\n",
    "    for i, result in enumerate(soup.findAll(\"div\",'rms-grid-item')):\n",
    "        t = result.findAll(\"span\", \"long-text\")[0].text[4:]\n",
    "        a = int(result.findAll(\"span\", \"ng-binding ng-scope\")[0].text[1:])\n",
    "        n = result.findAll('div', 'name rms-grid-line ng-binding')[0].text.strip()\n",
    "        individual_results.insert({'name': n, 'time':t, 'age': a, 'ag': ag, 'dist': distance})\n",
    "parse_results(m_40_44, 'Mar', '40-44')"
   ]
  },
  {
   "cell_type": "code",
   "execution_count": 22,
   "metadata": {},
   "outputs": [
    {
     "data": {
      "text/plain": [
       "<pymongo.cursor.Cursor at 0x7fad485a3a90>"
      ]
     },
     "execution_count": 22,
     "metadata": {},
     "output_type": "execute_result"
    }
   ],
   "source": [
    "races.individual_results.find().limit(4)"
   ]
  },
  {
   "cell_type": "code",
   "execution_count": 23,
   "metadata": {},
   "outputs": [],
   "source": [
    "data = pd.DataFrame(list(individual_results.find()))"
   ]
  },
  {
   "cell_type": "code",
   "execution_count": 24,
   "metadata": {},
   "outputs": [
    {
     "name": "stdout",
     "output_type": "stream",
     "text": [
      "                           _id                name     time  age     ag dist\n",
      "0     5f1604e7384b124043ec55ac          Clint Bell  0:04:49   40  40-44  Mar\n",
      "1     5f1604e7384b124043ec55ad  Katherine Phillips  0:05:03   40  40-44  Mar\n",
      "2     5f1604e7384b124043ec55ae       Keith Stewart  0:05:05   40  40-44  Mar\n",
      "3     5f1604e7384b124043ec55af     Matthew Jacklin  0:05:05   44  40-44  Mar\n",
      "4     5f1604e7384b124043ec55b0        Brian Pasero  0:05:05   41  40-44  Mar\n",
      "...                        ...                 ...      ...  ...    ...  ...\n",
      "2358  5f1604ec384b124043ec5ee2           Elise Hay  0:26:46   41  40-44  Mar\n",
      "2359  5f1604ec384b124043ec5ee3          Susan Abla  0:27:01   42  40-44  Mar\n",
      "2360  5f1604ec384b124043ec5ee4       Silvia Garcia  0:27:19   41  40-44  Mar\n",
      "2361  5f1604ec384b124043ec5ee5       Emma Millward  0:31:57   40  40-44  Mar\n",
      "2362  5f1604ec384b124043ec5ee6      Cordelia Stark  2:28:04   44  40-44  Mar\n",
      "\n",
      "[2363 rows x 6 columns]\n"
     ]
    }
   ],
   "source": [
    "print(data)"
   ]
  },
  {
   "cell_type": "code",
   "execution_count": null,
   "metadata": {},
   "outputs": [],
   "source": []
  }
 ],
 "metadata": {
  "kernelspec": {
   "display_name": "Python 3",
   "language": "python",
   "name": "python3"
  },
  "language_info": {
   "codemirror_mode": {
    "name": "ipython",
    "version": 3
   },
   "file_extension": ".py",
   "mimetype": "text/x-python",
   "name": "python",
   "nbconvert_exporter": "python",
   "pygments_lexer": "ipython3",
   "version": "3.7.7"
  }
 },
 "nbformat": 4,
 "nbformat_minor": 4
}
