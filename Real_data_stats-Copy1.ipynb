{
 "cells": [
  {
   "cell_type": "code",
   "execution_count": 212,
   "metadata": {},
   "outputs": [],
   "source": [
    "from pymongo import MongoClient\n",
    "import pprint\n",
    "import pandas as pd\n",
    "# Requests sends and recieves HTTP requests.\n",
    "import requests\n",
    "import json\n",
    "import time\n",
    "from scipy import stats\n",
    "import numpy as np\n",
    "#import statsmodels.api as sm\n",
    "import statsmodels.formula.api as smf\n",
    "import statsmodels as sm\n",
    "plt.style.use('ggplot')\n",
    "\n",
    "import seaborn as sns"
   ]
  },
  {
   "cell_type": "code",
   "execution_count": 213,
   "metadata": {},
   "outputs": [],
   "source": [
    "import matplotlib.pyplot as plt"
   ]
  },
  {
   "cell_type": "code",
   "execution_count": 214,
   "metadata": {},
   "outputs": [],
   "source": [
    "client = MongoClient('localhost', 27017)\n",
    "results = client['results']\n",
    "runners = results['indiv']\n",
    "new = client['new_db']\n",
    "indiv = new['individual']"
   ]
  },
  {
   "cell_type": "markdown",
   "metadata": {},
   "source": [
    "## Data Import and Cleaning"
   ]
  },
  {
   "cell_type": "markdown",
   "metadata": {},
   "source": [
    "The `runners` collection includes all of the individual race results.  The below prints the collections in my results  "
   ]
  },
  {
   "cell_type": "code",
   "execution_count": 215,
   "metadata": {},
   "outputs": [
    {
     "name": "stdout",
     "output_type": "stream",
     "text": [
      "There are 31245 results in the list\n"
     ]
    }
   ],
   "source": [
    "print('There are {} results in the list'.format(len(list(runners.find()))))"
   ]
  },
  {
   "cell_type": "markdown",
   "metadata": {},
   "source": [
    "I converted the collection to a dataframe and converted the finish time, originally in an HH:MM:SS string format to a new column in seconds.  The head, tail, and info show the expected results, with nice clean, consistent data for runners across all age groups."
   ]
  },
  {
   "cell_type": "code",
   "execution_count": 216,
   "metadata": {},
   "outputs": [
    {
     "data": {
      "text/html": [
       "<div>\n",
       "<style scoped>\n",
       "    .dataframe tbody tr th:only-of-type {\n",
       "        vertical-align: middle;\n",
       "    }\n",
       "\n",
       "    .dataframe tbody tr th {\n",
       "        vertical-align: top;\n",
       "    }\n",
       "\n",
       "    .dataframe thead th {\n",
       "        text-align: right;\n",
       "    }\n",
       "</style>\n",
       "<table border=\"1\" class=\"dataframe\">\n",
       "  <thead>\n",
       "    <tr style=\"text-align: right;\">\n",
       "      <th></th>\n",
       "      <th>_id</th>\n",
       "      <th>name</th>\n",
       "      <th>time</th>\n",
       "      <th>age</th>\n",
       "      <th>ag</th>\n",
       "      <th>dist</th>\n",
       "      <th>Time(sec)</th>\n",
       "    </tr>\n",
       "  </thead>\n",
       "  <tbody>\n",
       "    <tr>\n",
       "      <th>0</th>\n",
       "      <td>5f170b3bc94e506c54092382</td>\n",
       "      <td>Abdi Abdirahman</td>\n",
       "      <td>2:11:34</td>\n",
       "      <td>42</td>\n",
       "      <td>Men 40-44</td>\n",
       "      <td>Mar</td>\n",
       "      <td>7894</td>\n",
       "    </tr>\n",
       "    <tr>\n",
       "      <th>1</th>\n",
       "      <td>5f170b3bc94e506c54092383</td>\n",
       "      <td>Mustafa Mohamed</td>\n",
       "      <td>2:19:41</td>\n",
       "      <td>40</td>\n",
       "      <td>Men 40-44</td>\n",
       "      <td>Mar</td>\n",
       "      <td>8381</td>\n",
       "    </tr>\n",
       "    <tr>\n",
       "      <th>2</th>\n",
       "      <td>5f170b3bc94e506c54092384</td>\n",
       "      <td>Fredison Costa</td>\n",
       "      <td>2:21:29</td>\n",
       "      <td>42</td>\n",
       "      <td>Men 40-44</td>\n",
       "      <td>Mar</td>\n",
       "      <td>8489</td>\n",
       "    </tr>\n",
       "    <tr>\n",
       "      <th>3</th>\n",
       "      <td>5f170b3bc94e506c54092385</td>\n",
       "      <td>Vladimir Shatrov</td>\n",
       "      <td>2:26:17</td>\n",
       "      <td>41</td>\n",
       "      <td>Men 40-44</td>\n",
       "      <td>Mar</td>\n",
       "      <td>8777</td>\n",
       "    </tr>\n",
       "    <tr>\n",
       "      <th>4</th>\n",
       "      <td>5f170b3bc94e506c54092386</td>\n",
       "      <td>Miguel Ferrer</td>\n",
       "      <td>2:27:15</td>\n",
       "      <td>41</td>\n",
       "      <td>Men 40-44</td>\n",
       "      <td>Mar</td>\n",
       "      <td>8835</td>\n",
       "    </tr>\n",
       "  </tbody>\n",
       "</table>\n",
       "</div>"
      ],
      "text/plain": [
       "                        _id              name     time  age         ag dist  \\\n",
       "0  5f170b3bc94e506c54092382   Abdi Abdirahman  2:11:34   42  Men 40-44  Mar   \n",
       "1  5f170b3bc94e506c54092383   Mustafa Mohamed  2:19:41   40  Men 40-44  Mar   \n",
       "2  5f170b3bc94e506c54092384    Fredison Costa  2:21:29   42  Men 40-44  Mar   \n",
       "3  5f170b3bc94e506c54092385  Vladimir Shatrov  2:26:17   41  Men 40-44  Mar   \n",
       "4  5f170b3bc94e506c54092386     Miguel Ferrer  2:27:15   41  Men 40-44  Mar   \n",
       "\n",
       "   Time(sec)  \n",
       "0       7894  \n",
       "1       8381  \n",
       "2       8489  \n",
       "3       8777  \n",
       "4       8835  "
      ]
     },
     "execution_count": 216,
     "metadata": {},
     "output_type": "execute_result"
    }
   ],
   "source": [
    "### Create dataframe from indiv results collection, converts time to seconds. The head shows the expected results.\n",
    "df = pd.DataFrame(list(runners.find()))\n",
    "df.head()\n",
    "df['Time(sec)'] = pd.to_timedelta(df['time']).astype('timedelta64[s]').astype(int)#.map('{:,.2f}'.format)\n",
    "df.head()"
   ]
  },
  {
   "cell_type": "code",
   "execution_count": 217,
   "metadata": {},
   "outputs": [
    {
     "data": {
      "text/html": [
       "<div>\n",
       "<style scoped>\n",
       "    .dataframe tbody tr th:only-of-type {\n",
       "        vertical-align: middle;\n",
       "    }\n",
       "\n",
       "    .dataframe tbody tr th {\n",
       "        vertical-align: top;\n",
       "    }\n",
       "\n",
       "    .dataframe thead th {\n",
       "        text-align: right;\n",
       "    }\n",
       "</style>\n",
       "<table border=\"1\" class=\"dataframe\">\n",
       "  <thead>\n",
       "    <tr style=\"text-align: right;\">\n",
       "      <th></th>\n",
       "      <th>_id</th>\n",
       "      <th>name</th>\n",
       "      <th>time</th>\n",
       "      <th>age</th>\n",
       "      <th>ag</th>\n",
       "      <th>dist</th>\n",
       "      <th>Time(sec)</th>\n",
       "    </tr>\n",
       "  </thead>\n",
       "  <tbody>\n",
       "    <tr>\n",
       "      <th>31240</th>\n",
       "      <td>5f1aee4ac66862eb758a6129</td>\n",
       "      <td>Ricky Kuka</td>\n",
       "      <td>8:39:14</td>\n",
       "      <td>61</td>\n",
       "      <td>Men 60-64</td>\n",
       "      <td>Mar</td>\n",
       "      <td>31154</td>\n",
       "    </tr>\n",
       "    <tr>\n",
       "      <th>31241</th>\n",
       "      <td>5f1aee4ac66862eb758a612a</td>\n",
       "      <td>Adnan Shamsi</td>\n",
       "      <td>9:21:27</td>\n",
       "      <td>64</td>\n",
       "      <td>Men 60-64</td>\n",
       "      <td>Mar</td>\n",
       "      <td>33687</td>\n",
       "    </tr>\n",
       "    <tr>\n",
       "      <th>31242</th>\n",
       "      <td>5f1aee4ac66862eb758a612b</td>\n",
       "      <td>Hugo Mujica</td>\n",
       "      <td>9:25:21</td>\n",
       "      <td>62</td>\n",
       "      <td>Men 60-64</td>\n",
       "      <td>Mar</td>\n",
       "      <td>33921</td>\n",
       "    </tr>\n",
       "    <tr>\n",
       "      <th>31243</th>\n",
       "      <td>5f1aee4ac66862eb758a612c</td>\n",
       "      <td>Alan Kaufman</td>\n",
       "      <td>9:27:27</td>\n",
       "      <td>61</td>\n",
       "      <td>Men 60-64</td>\n",
       "      <td>Mar</td>\n",
       "      <td>34047</td>\n",
       "    </tr>\n",
       "    <tr>\n",
       "      <th>31244</th>\n",
       "      <td>5f1aee4ac66862eb758a612d</td>\n",
       "      <td>Randy Savitt</td>\n",
       "      <td>9:45:12</td>\n",
       "      <td>62</td>\n",
       "      <td>Men 60-64</td>\n",
       "      <td>Mar</td>\n",
       "      <td>35112</td>\n",
       "    </tr>\n",
       "  </tbody>\n",
       "</table>\n",
       "</div>"
      ],
      "text/plain": [
       "                            _id          name     time  age         ag dist  \\\n",
       "31240  5f1aee4ac66862eb758a6129    Ricky Kuka  8:39:14   61  Men 60-64  Mar   \n",
       "31241  5f1aee4ac66862eb758a612a  Adnan Shamsi  9:21:27   64  Men 60-64  Mar   \n",
       "31242  5f1aee4ac66862eb758a612b   Hugo Mujica  9:25:21   62  Men 60-64  Mar   \n",
       "31243  5f1aee4ac66862eb758a612c  Alan Kaufman  9:27:27   61  Men 60-64  Mar   \n",
       "31244  5f1aee4ac66862eb758a612d  Randy Savitt  9:45:12   62  Men 60-64  Mar   \n",
       "\n",
       "       Time(sec)  \n",
       "31240      31154  \n",
       "31241      33687  \n",
       "31242      33921  \n",
       "31243      34047  \n",
       "31244      35112  "
      ]
     },
     "execution_count": 217,
     "metadata": {},
     "output_type": "execute_result"
    }
   ],
   "source": [
    "df.tail()"
   ]
  },
  {
   "cell_type": "code",
   "execution_count": 218,
   "metadata": {},
   "outputs": [
    {
     "name": "stdout",
     "output_type": "stream",
     "text": [
      "<class 'pandas.core.frame.DataFrame'>\n",
      "RangeIndex: 31245 entries, 0 to 31244\n",
      "Data columns (total 7 columns):\n",
      " #   Column     Non-Null Count  Dtype \n",
      "---  ------     --------------  ----- \n",
      " 0   _id        31245 non-null  object\n",
      " 1   name       31245 non-null  object\n",
      " 2   time       31245 non-null  object\n",
      " 3   age        31245 non-null  int64 \n",
      " 4   ag         31245 non-null  object\n",
      " 5   dist       31245 non-null  object\n",
      " 6   Time(sec)  31245 non-null  int64 \n",
      "dtypes: int64(2), object(5)\n",
      "memory usage: 1.7+ MB\n"
     ]
    }
   ],
   "source": [
    "df.info()"
   ]
  },
  {
   "cell_type": "markdown",
   "metadata": {},
   "source": [
    "Next, I created different dataframes for each of the age groups and distances."
   ]
  },
  {
   "cell_type": "code",
   "execution_count": 220,
   "metadata": {},
   "outputs": [
    {
     "data": {
      "text/html": [
       "<div>\n",
       "<style scoped>\n",
       "    .dataframe tbody tr th:only-of-type {\n",
       "        vertical-align: middle;\n",
       "    }\n",
       "\n",
       "    .dataframe tbody tr th {\n",
       "        vertical-align: top;\n",
       "    }\n",
       "\n",
       "    .dataframe thead th {\n",
       "        text-align: right;\n",
       "    }\n",
       "</style>\n",
       "<table border=\"1\" class=\"dataframe\">\n",
       "  <thead>\n",
       "    <tr style=\"text-align: right;\">\n",
       "      <th></th>\n",
       "      <th>_id</th>\n",
       "      <th>name</th>\n",
       "      <th>time</th>\n",
       "      <th>age</th>\n",
       "      <th>ag</th>\n",
       "      <th>dist</th>\n",
       "      <th>Time(sec)</th>\n",
       "    </tr>\n",
       "  </thead>\n",
       "  <tbody>\n",
       "    <tr>\n",
       "      <th>29845</th>\n",
       "      <td>5f1aee47c66862eb758a5bb6</td>\n",
       "      <td>Peter Laznicka</td>\n",
       "      <td>2:55:40</td>\n",
       "      <td>64</td>\n",
       "      <td>Men 60-64</td>\n",
       "      <td>Mar</td>\n",
       "      <td>10540</td>\n",
       "    </tr>\n",
       "    <tr>\n",
       "      <th>29847</th>\n",
       "      <td>5f1aee47c66862eb758a5bb8</td>\n",
       "      <td>Beau Atwater</td>\n",
       "      <td>2:59:21</td>\n",
       "      <td>61</td>\n",
       "      <td>Men 60-64</td>\n",
       "      <td>Mar</td>\n",
       "      <td>10761</td>\n",
       "    </tr>\n",
       "    <tr>\n",
       "      <th>29848</th>\n",
       "      <td>5f1aee47c66862eb758a5bb9</td>\n",
       "      <td>Joe Standerfer</td>\n",
       "      <td>2:59:26</td>\n",
       "      <td>63</td>\n",
       "      <td>Men 60-64</td>\n",
       "      <td>Mar</td>\n",
       "      <td>10766</td>\n",
       "    </tr>\n",
       "    <tr>\n",
       "      <th>29851</th>\n",
       "      <td>5f1aee47c66862eb758a5bbc</td>\n",
       "      <td>Jaime Palacios</td>\n",
       "      <td>3:05:04</td>\n",
       "      <td>64</td>\n",
       "      <td>Men 60-64</td>\n",
       "      <td>Mar</td>\n",
       "      <td>11104</td>\n",
       "    </tr>\n",
       "    <tr>\n",
       "      <th>29852</th>\n",
       "      <td>5f1aee47c66862eb758a5bbd</td>\n",
       "      <td>Dominique Chauvelier</td>\n",
       "      <td>3:06:44</td>\n",
       "      <td>63</td>\n",
       "      <td>Men 60-64</td>\n",
       "      <td>Mar</td>\n",
       "      <td>11204</td>\n",
       "    </tr>\n",
       "  </tbody>\n",
       "</table>\n",
       "</div>"
      ],
      "text/plain": [
       "                            _id                  name     time  age  \\\n",
       "29845  5f1aee47c66862eb758a5bb6        Peter Laznicka  2:55:40   64   \n",
       "29847  5f1aee47c66862eb758a5bb8          Beau Atwater  2:59:21   61   \n",
       "29848  5f1aee47c66862eb758a5bb9        Joe Standerfer  2:59:26   63   \n",
       "29851  5f1aee47c66862eb758a5bbc        Jaime Palacios  3:05:04   64   \n",
       "29852  5f1aee47c66862eb758a5bbd  Dominique Chauvelier  3:06:44   63   \n",
       "\n",
       "              ag dist  Time(sec)  \n",
       "29845  Men 60-64  Mar      10540  \n",
       "29847  Men 60-64  Mar      10761  \n",
       "29848  Men 60-64  Mar      10766  \n",
       "29851  Men 60-64  Mar      11104  \n",
       "29852  Men 60-64  Mar      11204  "
      ]
     },
     "execution_count": 220,
     "metadata": {},
     "output_type": "execute_result"
    }
   ],
   "source": [
    "##set up 5 diff DF\n",
    "agroup = ['Men 40-44', 'Men 45-49', 'Women 25-29', 'Women 30-34']\n",
    "dist = ['Mar','Mar','Mile','Mile']\n",
    "\n",
    "M_Mile = df[(df.ag.isin(agroup[:2])) & (df['dist'] == 'Mile') & (df['Time(sec)'] < 720)]\n",
    "\n",
    "W_Mile = df[(df.ag.isin(agroup[2:])) & (df['dist'] == 'Mile') & (df['Time(sec)'] < 720)]\n",
    "\n",
    "M_Mar = df[(df.ag.isin(agroup[:2])) & (df['dist'] == 'Mar') & (df['Time(sec)'] < 18884)]\n",
    "W_Mar = df[(df.ag.isin(agroup[2:])) & (df['dist'] == 'Mar') & (df['Time(sec)'] < 18884)]\n",
    "\n",
    "\n",
    "M_Mar_50 = df[(df['age']>49) & (df['age']<55) & (df['Time(sec)'] < 18884)]\n",
    "M_Mar_55 = df[(df['age']>55) & (df['age']<60) & (df['Time(sec)'] < 18884)]\n",
    "M_Mar_60 = df[(df['age']>60) & (df['Time(sec)'] < 18884)]\n",
    "M_Mar_60.head()"
   ]
  },
  {
   "cell_type": "markdown",
   "metadata": {},
   "source": [
    "I also made dataframes that included runners who competed in both races. There are some duplicate names within each gender so I made a new column, `nameage`, that combined the runners' names and ages, hopefully resulting in a unique identifier for each runner."
   ]
  },
  {
   "cell_type": "code",
   "execution_count": 200,
   "metadata": {
    "scrolled": false
   },
   "outputs": [
    {
     "name": "stderr",
     "output_type": "stream",
     "text": [
      "/Users/annebarry/opt/anaconda3/lib/python3.7/site-packages/ipykernel_launcher.py:1: SettingWithCopyWarning: \n",
      "A value is trying to be set on a copy of a slice from a DataFrame.\n",
      "Try using .loc[row_indexer,col_indexer] = value instead\n",
      "\n",
      "See the caveats in the documentation: https://pandas.pydata.org/pandas-docs/stable/user_guide/indexing.html#returning-a-view-versus-a-copy\n",
      "  \"\"\"Entry point for launching an IPython kernel.\n",
      "/Users/annebarry/opt/anaconda3/lib/python3.7/site-packages/ipykernel_launcher.py:2: SettingWithCopyWarning: \n",
      "A value is trying to be set on a copy of a slice from a DataFrame.\n",
      "Try using .loc[row_indexer,col_indexer] = value instead\n",
      "\n",
      "See the caveats in the documentation: https://pandas.pydata.org/pandas-docs/stable/user_guide/indexing.html#returning-a-view-versus-a-copy\n",
      "  \n",
      "/Users/annebarry/opt/anaconda3/lib/python3.7/site-packages/ipykernel_launcher.py:3: SettingWithCopyWarning: \n",
      "A value is trying to be set on a copy of a slice from a DataFrame.\n",
      "Try using .loc[row_indexer,col_indexer] = value instead\n",
      "\n",
      "See the caveats in the documentation: https://pandas.pydata.org/pandas-docs/stable/user_guide/indexing.html#returning-a-view-versus-a-copy\n",
      "  This is separate from the ipykernel package so we can avoid doing imports until\n",
      "/Users/annebarry/opt/anaconda3/lib/python3.7/site-packages/ipykernel_launcher.py:4: SettingWithCopyWarning: \n",
      "A value is trying to be set on a copy of a slice from a DataFrame.\n",
      "Try using .loc[row_indexer,col_indexer] = value instead\n",
      "\n",
      "See the caveats in the documentation: https://pandas.pydata.org/pandas-docs/stable/user_guide/indexing.html#returning-a-view-versus-a-copy\n",
      "  after removing the cwd from sys.path.\n"
     ]
    },
    {
     "data": {
      "text/plain": [
       "age_x             44.031250\n",
       "Time(sec)_x    14607.200893\n",
       "age_y             44.031250\n",
       "Time(sec)_y      379.437500\n",
       "dtype: float64"
      ]
     },
     "execution_count": 200,
     "metadata": {},
     "output_type": "execute_result"
    }
   ],
   "source": [
    "M_Mile['nameage'] =  M_Mile['age'].astype(str) + M_Mile[\"name\"]\n",
    "W_Mile['nameage'] = W_Mile['age'].astype(str) + W_Mile[\"name\"]\n",
    "M_Mar['nameage'] = M_Mar['age'].astype(str) + M_Mar[\"name\"]\n",
    "W_Mar['nameage'] = W_Mar['age'].astype(str) + W_Mar[\"name\"]\n",
    "\n",
    "M_repeats = pd.merge(left=M_Mar, right=M_Mile, left_on='nameage', right_on='nameage')\n",
    "W_repeats = pd.merge(left=W_Mar, right=W_Mile, left_on='nameage', right_on='nameage')\n",
    "M_repeats.mean()"
   ]
  },
  {
   "cell_type": "markdown",
   "metadata": {},
   "source": [
    "# Peanut Butter Graphing Time!"
   ]
  },
  {
   "cell_type": "markdown",
   "metadata": {},
   "source": [
    "Creates the values along the x-axis, in HH:MM:SS format"
   ]
  },
  {
   "cell_type": "code",
   "execution_count": 247,
   "metadata": {},
   "outputs": [
    {
     "name": "stdout",
     "output_type": "stream",
     "text": [
      "16\n",
      "16\n"
     ]
    }
   ],
   "source": [
    "\n",
    "secs_mile = [300, 350, 400, 450, 500, 550, 600, 650, 700, 750, 800]\n",
    "\n",
    "y = [2+.25*x for x in range(0, 16)]\n",
    "secs_mar = [3600*x for x in y]\n",
    "    \n",
    "def formatTime(ls):\n",
    "    l = []\n",
    "    for i in ls:\n",
    "        l.append(time.strftime('%H:%M:%S', time.gmtime(i)))\n",
    "    return l\n",
    "\n",
    "\n",
    "mar_x = formatTime(secs_mar)\n",
    "print(len(secs_mar))\n",
    "print(len(mar_x))\n",
    "\n",
    "mile_x = formatTime(secs_mile)\n",
    "#print(mile_x)\n",
    "#mar_x_range = [[7800, 25000], [240,800], [7800,25000], [240,800], [7800,25000]]\n",
    "#print(mar_x_range)\n",
    "bins = [secs_mar, secs_mile, secs_mar, secs_mile, secs_mar, secs_mar, secs_mar]\n",
    "x_axis_labels = [mar_x, mile_x, mar_x, mile_x, mar_x, mar_x, mar_x]"
   ]
  },
  {
   "cell_type": "code",
   "execution_count": 248,
   "metadata": {},
   "outputs": [
    {
     "name": "stdout",
     "output_type": "stream",
     "text": [
      "['Marathon Finish Times for Men 60-64 and Women 25-34', 29845    10540\n",
      "29847    10761\n",
      "29848    10766\n",
      "29851    11104\n",
      "29852    11204\n",
      "         ...  \n",
      "30809    18832\n",
      "30810    18835\n",
      "30811    18836\n",
      "30812    18841\n",
      "30813    18851\n",
      "Name: Time(sec), Length: 629, dtype: int64, 9701      8558\n",
      "9702      8751\n",
      "9703      8868\n",
      "9704      9115\n",
      "9705     10072\n",
      "         ...  \n",
      "15806    18863\n",
      "15807    18864\n",
      "15808    18864\n",
      "15809    18867\n",
      "15810    18877\n",
      "Name: Time(sec), Length: 5310, dtype: int64]\n"
     ]
    }
   ],
   "source": [
    "\n",
    "\n",
    "data =[[\"Marathon Times for Men 40-49 and Women 25-34\",M_Mar['Time(sec)'], W_Mar['Time(sec)']], ['Mile Times for Men 40-49 and Women 25-34', M_Mile['Time(sec)'], W_Mile['Time(sec)']], ['Marathon Times for Men 40-49 and Women 25-34 (repeats)', M_repeats['Time(sec)_x'], W_repeats['Time(sec)_x']], ['Mile Times for Men 40-49 and Women 25-34 (repeats)', M_repeats['Time(sec)_y'], W_repeats['Time(sec)_y']], ['Mile Times for Men 50-54 and Women 25-34', M_Mar_50['Time(sec)'], W_Mar['Time(sec)']], ['Marathon Finish Times for Men 55-59 and Women 25-34', M_Mar_55['Time(sec)'], W_Mar['Time(sec)']], ['Marathon Finish Times for Men 60-64 and Women 25-34', M_Mar_60['Time(sec)'], W_Mar['Time(sec)']]]\n",
    "\n",
    "print(data[6])\n",
    "       "
   ]
  },
  {
   "cell_type": "code",
   "execution_count": 262,
   "metadata": {},
   "outputs": [
    {
     "name": "stdout",
     "output_type": "stream",
     "text": [
      "7\n",
      "0\n",
      "1\n",
      "2\n",
      "3\n",
      "4\n",
      "5\n",
      "6\n",
      "made it\n"
     ]
    },
    {
     "data": {
      "image/png": "[encoded data removed]",
      "text/plain": [
       "<Figure size 1080x1080 with 8 Axes>"
      ]
     },
     "metadata": {},
     "output_type": "display_data"
    }
   ],
   "source": [
    "print(len(data))\n",
    "def plot(data, labels, bins):\n",
    "    fig, axes = plt.subplots(4,2, figsize = (15, 15))\n",
    "    for i, ax in enumerate(axes.flat):\n",
    "        ax.hist(data[i][1:], bins = bins[i], density = True, align = ('mid'), color = ['#F6AEA8', '#A8C7F6'], label = ['Men', 'Women'])\n",
    "        ax.spines[\"bottom\"].set_visible(True)      \n",
    "        ax.spines[\"left\"].set_visible(True)\n",
    "        ax.axvline(data[i][1].mean(), color = 'red', linestyle=\"--\")\n",
    "        ax.axvline(data[i][2].mean(), color = 'blue', linestyle=\"--\")\n",
    "        ax.set_title(data[i][0])\n",
    "        ax.set_yticklabels([])\n",
    "        ax.set_xticklabels(labels[i], rotation = '45')\n",
    "        ax.set_xticks(bins[i])\n",
    "        ax.legend()\n",
    "        print(i)\n",
    "        if i == (len(data)-1):\n",
    "            print('made it')\n",
    "            break\n",
    "    fig.tight_layout()\n",
    "\n",
    "plot(data, x_axis_labels, bins)"
   ]
  },
  {
   "cell_type": "code",
   "execution_count": 252,
   "metadata": {},
   "outputs": [
    {
     "name": "stdout",
     "output_type": "stream",
     "text": [
      "Race: Marathon Times for Men 40-49 and Women 25-34, p-value: 6.989849401833806e-125\n",
      "Race: Mile Times for Men 40-49 and Women 25-34, p-value: 7.006868521433366e-54\n",
      "Race: Marathon Times for Men 40-49 and Women 25-34 (repeats), p-value: 1.666429008612427e-05\n",
      "Race: Mile Times for Men 40-49 and Women 25-34 (repeats), p-value: 9.418413407414008e-15\n",
      "Race: Mile Times for Men 50-54 and Women 25-34, p-value: 4.761608526661595e-36\n",
      "Race: Marathon Finish Times for Men 55-59 and Women 25-34, p-value: 0.005221167232747715\n",
      "Race: Marathon Finish Times for Men 60-64 and Women 25-34, p-value: 0.004433752415344179\n",
      "<class 'pandas.core.frame.DataFrame'>\n",
      "Int64Index: 629 entries, 29845 to 30813\n",
      "Data columns (total 7 columns):\n",
      " #   Column     Non-Null Count  Dtype \n",
      "---  ------     --------------  ----- \n",
      " 0   _id        629 non-null    object\n",
      " 1   name       629 non-null    object\n",
      " 2   time       629 non-null    object\n",
      " 3   age        629 non-null    int64 \n",
      " 4   ag         629 non-null    object\n",
      " 5   dist       629 non-null    object\n",
      " 6   Time(sec)  629 non-null    int64 \n",
      "dtypes: int64(2), object(5)\n",
      "memory usage: 39.3+ KB\n",
      "None\n",
      "age             29.339548\n",
      "Time(sec)    15539.216008\n",
      "dtype: float64\n",
      "<class 'pandas.core.frame.DataFrame'>\n",
      "Int64Index: 1360 entries, 27439 to 29279\n",
      "Data columns (total 7 columns):\n",
      " #   Column     Non-Null Count  Dtype \n",
      "---  ------     --------------  ----- \n",
      " 0   _id        1360 non-null   object\n",
      " 1   name       1360 non-null   object\n",
      " 2   time       1360 non-null   object\n",
      " 3   age        1360 non-null   int64 \n",
      " 4   ag         1360 non-null   object\n",
      " 5   dist       1360 non-null   object\n",
      " 6   Time(sec)  1360 non-null   int64 \n",
      "dtypes: int64(2), object(5)\n",
      "memory usage: 85.0+ KB\n",
      "None\n"
     ]
    }
   ],
   "source": [
    "def calculate_t_test(data, type_I_error_rate):\n",
    "    ttest = stats.ttest_ind(data[1], data[2], equal_var = False)\n",
    "    print('Race: {}, p-value: {}'.format(data[0], ttest[1]))\n",
    "\n",
    "error = .05\n",
    "\n",
    "for i in data:\n",
    "    calculate_t_test(i, error)\n",
    "          \n",
    "print(M_Mar_60.info())\n",
    "print(W_Mar.mean())\n",
    "print(M_Mar_55.info())\n"
   ]
  },
  {
   "cell_type": "code",
   "execution_count": 284,
   "metadata": {},
   "outputs": [
    {
     "data": {
      "text/plain": [
       "<matplotlib.collections.PolyCollection at 0x7fbdc12f7a90>"
      ]
     },
     "execution_count": 284,
     "metadata": {},
     "output_type": "execute_result"
    },
    {
     "data": {
      "image/png": "[encoded data removed]",
      "text/plain": [
       "<Figure size 432x288 with 1 Axes>"
      ]
     },
     "metadata": {},
     "output_type": "display_data"
    }
   ],
   "source": [
    "x = np.arange(14400, 15700, 10)\n",
    "men = stats.norm(sub_12_list[0].mean(), sub_12_list[0].std()/np.sqrt(sub_12_list[0].count()))\n",
    "women = stats.norm(sub_12_list[1].mean(), sub_12_list[1].std()/np.sqrt(sub_12_list[1].count()))\n",
    "\n",
    "fig,ax = plt.subplots()\n",
    "ax.plot(x, men.pdf(x))\n",
    "ax.plot(x, women.pdf(x))\n",
    "ax.set_yticklabels([])\n",
    "statistic = men.ppf(.975)\n",
    "ax.fill_between(x, men.pdf(x), where=(x >= statistic), color=\"red\", alpha=0.5)"
   ]
  },
  {
   "cell_type": "code",
   "execution_count": 401,
   "metadata": {},
   "outputs": [
    {
     "data": {
      "text/plain": [
       "Text(0.5, 1.0, 'Normal Distribution of Mile Times for Men 40-49 and Women 25-34')"
      ]
     },
     "execution_count": 401,
     "metadata": {},
     "output_type": "execute_result"
    },
    {
     "data": {
      "image/png": "[encoded data removed]",
      "text/plain": [
       "<Figure size 432x288 with 1 Axes>"
      ]
     },
     "metadata": {},
     "output_type": "display_data"
    }
   ],
   "source": [
    "# Women vs Men 40-49 mile time\n",
    "x = np.arange(390, 465, 1)\n",
    "men = stats.norm(sub_12_list[2].mean(), sub_12_list[2].std()/np.sqrt(sub_12_list[2].count()))\n",
    "women = stats.norm(sub_12_list[3].mean(), sub_12_list[3].std()/np.sqrt(sub_12_list[3].count()))\n",
    "\n",
    "fig,ax = plt.subplots()\n",
    "ax.plot(x, men.pdf(x), label = 'Men')\n",
    "ax.plot(x, women.pdf(x), label = 'Women')\n",
    "ax.set_yticklabels([])\n",
    "ax.set_xticklabels(format_time([390+10*x for x in range(0, 8)]), rotation = \"45\")\n",
    "statistic = men.ppf(.975)\n",
    "ax.fill_between(x, men.pdf(x), where=(x >= statistic), color=\"red\", alpha=0.5)\n",
    "ax.legend()\n",
    "ax.set_title(\"Normal Distribution of Mile Times for Men 40-49 and Women 25-34\")"
   ]
  },
  {
   "cell_type": "code",
   "execution_count": 254,
   "metadata": {},
   "outputs": [],
   "source": [
    "W_Mar_sorted = W_Mar.sort_values('Time(sec)')\n",
    "M_Mar_sorted = M_Mar_50.sort_values('Time(sec)')"
   ]
  },
  {
   "cell_type": "code",
   "execution_count": 255,
   "metadata": {},
   "outputs": [
    {
     "data": {
      "text/html": [
       "<div>\n",
       "<style scoped>\n",
       "    .dataframe tbody tr th:only-of-type {\n",
       "        vertical-align: middle;\n",
       "    }\n",
       "\n",
       "    .dataframe tbody tr th {\n",
       "        vertical-align: top;\n",
       "    }\n",
       "\n",
       "    .dataframe thead th {\n",
       "        text-align: right;\n",
       "    }\n",
       "</style>\n",
       "<table border=\"1\" class=\"dataframe\">\n",
       "  <thead>\n",
       "    <tr style=\"text-align: right;\">\n",
       "      <th></th>\n",
       "      <th>_id</th>\n",
       "      <th>name</th>\n",
       "      <th>time</th>\n",
       "      <th>age</th>\n",
       "      <th>ag</th>\n",
       "      <th>dist</th>\n",
       "      <th>Time(sec)</th>\n",
       "    </tr>\n",
       "  </thead>\n",
       "  <tbody>\n",
       "    <tr>\n",
       "      <th>9701</th>\n",
       "      <td>5f17166fc94e506c54094969</td>\n",
       "      <td>Joyciline Jepkosgei</td>\n",
       "      <td>2:22:38</td>\n",
       "      <td>25</td>\n",
       "      <td>Women 25-29</td>\n",
       "      <td>Mar</td>\n",
       "      <td>8558</td>\n",
       "    </tr>\n",
       "    <tr>\n",
       "      <th>9702</th>\n",
       "      <td>5f17166fc94e506c5409496a</td>\n",
       "      <td>Ruti Aga</td>\n",
       "      <td>2:25:51</td>\n",
       "      <td>25</td>\n",
       "      <td>Women 25-29</td>\n",
       "      <td>Mar</td>\n",
       "      <td>8751</td>\n",
       "    </tr>\n",
       "    <tr>\n",
       "      <th>13306</th>\n",
       "      <td>5f171b11c94e506c5409577f</td>\n",
       "      <td>Kellyn Taylor</td>\n",
       "      <td>2:26:52</td>\n",
       "      <td>33</td>\n",
       "      <td>Women 30-34</td>\n",
       "      <td>Mar</td>\n",
       "      <td>8812</td>\n",
       "    </tr>\n",
       "    <tr>\n",
       "      <th>13307</th>\n",
       "      <td>5f171b11c94e506c54095780</td>\n",
       "      <td>Ellie Pashley</td>\n",
       "      <td>2:27:07</td>\n",
       "      <td>30</td>\n",
       "      <td>Women 30-34</td>\n",
       "      <td>Mar</td>\n",
       "      <td>8827</td>\n",
       "    </tr>\n",
       "    <tr>\n",
       "      <th>13308</th>\n",
       "      <td>5f171b11c94e506c54095781</td>\n",
       "      <td>Belaynesh Fikadu</td>\n",
       "      <td>2:27:27</td>\n",
       "      <td>32</td>\n",
       "      <td>Women 30-34</td>\n",
       "      <td>Mar</td>\n",
       "      <td>8847</td>\n",
       "    </tr>\n",
       "  </tbody>\n",
       "</table>\n",
       "</div>"
      ],
      "text/plain": [
       "                            _id                 name     time  age  \\\n",
       "9701   5f17166fc94e506c54094969  Joyciline Jepkosgei  2:22:38   25   \n",
       "9702   5f17166fc94e506c5409496a             Ruti Aga  2:25:51   25   \n",
       "13306  5f171b11c94e506c5409577f        Kellyn Taylor  2:26:52   33   \n",
       "13307  5f171b11c94e506c54095780        Ellie Pashley  2:27:07   30   \n",
       "13308  5f171b11c94e506c54095781     Belaynesh Fikadu  2:27:27   32   \n",
       "\n",
       "                ag dist  Time(sec)  \n",
       "9701   Women 25-29  Mar       8558  \n",
       "9702   Women 25-29  Mar       8751  \n",
       "13306  Women 30-34  Mar       8812  \n",
       "13307  Women 30-34  Mar       8827  \n",
       "13308  Women 30-34  Mar       8847  "
      ]
     },
     "execution_count": 255,
     "metadata": {},
     "output_type": "execute_result"
    }
   ],
   "source": [
    "W_Mar_sorted.head()"
   ]
  },
  {
   "cell_type": "code",
   "execution_count": null,
   "metadata": {},
   "outputs": [],
   "source": []
  }
 ],
 "metadata": {
  "kernelspec": {
   "display_name": "Python 3",
   "language": "python",
   "name": "python3"
  },
  "language_info": {
   "codemirror_mode": {
    "name": "ipython",
    "version": 3
   },
   "file_extension": ".py",
   "mimetype": "text/x-python",
   "name": "python",
   "nbconvert_exporter": "python",
   "pygments_lexer": "ipython3",
   "version": "3.7.7"
  }
 },
 "nbformat": 4,
 "nbformat_minor": 4
}
