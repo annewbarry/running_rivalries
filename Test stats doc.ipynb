{
 "cells": [
  {
   "cell_type": "code",
   "execution_count": 117,
   "metadata": {},
   "outputs": [],
   "source": [
    "import time\n",
    "\n",
    "from selenium import webdriver\n",
    "from selenium.webdriver.common.by import By\n",
    "from selenium.webdriver.support.ui import WebDriverWait\n",
    "from selenium.webdriver.support import expected_conditions as EC\n",
    "from selenium.common.exceptions import TimeoutException\n",
    "\n",
    "from pymongo import MongoClient\n",
    "import pprint\n",
    "\n",
    "import pandas as pd\n",
    "\n",
    "# Requests sends and recieves HTTP requests.\n",
    "import requests\n",
    "\n",
    "# Beautiful Soup parses HTML documents in python.\n",
    "from bs4 import BeautifulSoup\n",
    "\n",
    "import json\n",
    "import time\n",
    "\n",
    "\n",
    "chrome_driver_path = \"/Users/annebarry/galvanize/running_rivalries/chromedriver\"\n",
    "\n",
    "driver = webdriver.Chrome(executable_path = chrome_driver_path)\n",
    "\n",
    "\n",
    "driver.get('https://results.nyrr.org/event/M2019/finishers#g=F&page=1&af=25&at=29')"
   ]
  },
  {
   "cell_type": "code",
   "execution_count": 118,
   "metadata": {},
   "outputs": [],
   "source": [
    "import matplotlib.pyplot as plt"
   ]
  },
  {
   "cell_type": "code",
   "execution_count": null,
   "metadata": {},
   "outputs": [],
   "source": [
    "soup = BeautifulSoup(data, 'html.parser')"
   ]
  },
  {
   "cell_type": "code",
   "execution_count": null,
   "metadata": {},
   "outputs": [],
   "source": [
    "print(soup.prettify())"
   ]
  },
  {
   "cell_type": "code",
   "execution_count": null,
   "metadata": {},
   "outputs": [],
   "source": [
    "winner = soup.findAll(\"div\", 'rms-grid-item')[0]\n",
    "print(winner)"
   ]
  },
  {
   "cell_type": "code",
   "execution_count": null,
   "metadata": {},
   "outputs": [],
   "source": [
    "winner.findAll(\"span\", \"long-text\")[0].text[4:]\n",
    "\n",
    "age = []\n",
    "time = []\n",
    "name = []\n",
    "\n",
    "for i, result in enumerate(soup.findAll(\"div\",'rms-grid-item')):\n",
    "    time.append(result.findAll(\"span\", \"long-text\")[0].text[4:])\n",
    "    age.append(int(result.findAll(\"span\", \"ng-binding ng-scope\")[0].text[1:]))\n",
    "    name.append(result.findAll('div', 'name rms-grid-line ng-binding')[0].text)\n",
    "    \n",
    "print(time)\n",
    "print(age)\n",
    "print(name)"
   ]
  },
  {
   "cell_type": "code",
   "execution_count": null,
   "metadata": {},
   "outputs": [],
   "source": [
    "def parse_results(soup, distance):\n",
    "    age = []\n",
    "    time = []\n",
    "    name = []\n",
    "\n",
    "    for i, result in enumerate(soup.findAll(\"div\",'rms-grid-item')):\n",
    "        time.append(result.findAll(\"span\", \"long-text\")[0].text[4:])\n",
    "        age.append(int(result.findAll(\"span\", \"ng-binding ng-scope\")[0].text[1:]))\n",
    "        name.append(result.findAll('div', 'name rms-grid-line ng-binding')[0].text.strip())\n",
    "    dataframe = pd.DataFrame({'Name': name, 'Age': age, 'Time': time}, columns=['Name','Age', 'Time'])\n",
    "    dataframe['Distance'] = distance\n",
    "    return dataframe\n",
    "    \n",
    "test = parse_results(soup, 'Mar')"
   ]
  },
  {
   "cell_type": "code",
   "execution_count": null,
   "metadata": {},
   "outputs": [],
   "source": [
    "test.dropna(inplace = True)"
   ]
  },
  {
   "cell_type": "code",
   "execution_count": null,
   "metadata": {},
   "outputs": [],
   "source": [
    "client = MongoClient('localhost', 27017)\n",
    "racing = client['results']\n",
    "source = racing['source code']\n",
    "runners = racing['indiv']\n",
    "new = client['new_db']\n",
    "indiv = new['individual']"
   ]
  },
  {
   "cell_type": "code",
   "execution_count": null,
   "metadata": {},
   "outputs": [],
   "source": [
    "client.list_database_names()"
   ]
  },
  {
   "cell_type": "code",
   "execution_count": null,
   "metadata": {},
   "outputs": [],
   "source": [
    "new.list_collection_names()"
   ]
  },
  {
   "cell_type": "code",
   "execution_count": null,
   "metadata": {},
   "outputs": [],
   "source": [
    "racing.list_collection_names()"
   ]
  },
  {
   "cell_type": "code",
   "execution_count": null,
   "metadata": {},
   "outputs": [],
   "source": []
  },
  {
   "cell_type": "code",
   "execution_count": 114,
   "metadata": {},
   "outputs": [
    {
     "data": {
      "text/html": [
       "<div>\n",
       "<style scoped>\n",
       "    .dataframe tbody tr th:only-of-type {\n",
       "        vertical-align: middle;\n",
       "    }\n",
       "\n",
       "    .dataframe tbody tr th {\n",
       "        vertical-align: top;\n",
       "    }\n",
       "\n",
       "    .dataframe thead th {\n",
       "        text-align: right;\n",
       "    }\n",
       "</style>\n",
       "<table border=\"1\" class=\"dataframe\">\n",
       "  <thead>\n",
       "    <tr style=\"text-align: right;\">\n",
       "      <th></th>\n",
       "      <th>_id</th>\n",
       "      <th>name</th>\n",
       "      <th>time</th>\n",
       "      <th>age</th>\n",
       "      <th>ag</th>\n",
       "      <th>dist</th>\n",
       "      <th>Time(sec)</th>\n",
       "    </tr>\n",
       "  </thead>\n",
       "  <tbody>\n",
       "    <tr>\n",
       "      <th>0</th>\n",
       "      <td>5f1604e7384b124043ec55ac</td>\n",
       "      <td>Clint Bell</td>\n",
       "      <td>0:04:49</td>\n",
       "      <td>40</td>\n",
       "      <td>40-44</td>\n",
       "      <td>Mar</td>\n",
       "      <td>289</td>\n",
       "    </tr>\n",
       "    <tr>\n",
       "      <th>1</th>\n",
       "      <td>5f1604e7384b124043ec55ad</td>\n",
       "      <td>Katherine Phillips</td>\n",
       "      <td>0:05:03</td>\n",
       "      <td>40</td>\n",
       "      <td>40-44</td>\n",
       "      <td>Mar</td>\n",
       "      <td>303</td>\n",
       "    </tr>\n",
       "    <tr>\n",
       "      <th>2</th>\n",
       "      <td>5f1604e7384b124043ec55ae</td>\n",
       "      <td>Keith Stewart</td>\n",
       "      <td>0:05:05</td>\n",
       "      <td>40</td>\n",
       "      <td>40-44</td>\n",
       "      <td>Mar</td>\n",
       "      <td>305</td>\n",
       "    </tr>\n",
       "    <tr>\n",
       "      <th>3</th>\n",
       "      <td>5f1604e7384b124043ec55af</td>\n",
       "      <td>Matthew Jacklin</td>\n",
       "      <td>0:05:05</td>\n",
       "      <td>44</td>\n",
       "      <td>40-44</td>\n",
       "      <td>Mar</td>\n",
       "      <td>305</td>\n",
       "    </tr>\n",
       "    <tr>\n",
       "      <th>4</th>\n",
       "      <td>5f1604e7384b124043ec55b0</td>\n",
       "      <td>Brian Pasero</td>\n",
       "      <td>0:05:05</td>\n",
       "      <td>41</td>\n",
       "      <td>40-44</td>\n",
       "      <td>Mar</td>\n",
       "      <td>305</td>\n",
       "    </tr>\n",
       "  </tbody>\n",
       "</table>\n",
       "</div>"
      ],
      "text/plain": [
       "                        _id                name     time  age     ag dist  \\\n",
       "0  5f1604e7384b124043ec55ac          Clint Bell  0:04:49   40  40-44  Mar   \n",
       "1  5f1604e7384b124043ec55ad  Katherine Phillips  0:05:03   40  40-44  Mar   \n",
       "2  5f1604e7384b124043ec55ae       Keith Stewart  0:05:05   40  40-44  Mar   \n",
       "3  5f1604e7384b124043ec55af     Matthew Jacklin  0:05:05   44  40-44  Mar   \n",
       "4  5f1604e7384b124043ec55b0        Brian Pasero  0:05:05   41  40-44  Mar   \n",
       "\n",
       "   Time(sec)  \n",
       "0        289  \n",
       "1        303  \n",
       "2        305  \n",
       "3        305  \n",
       "4        305  "
      ]
     },
     "execution_count": 114,
     "metadata": {},
     "output_type": "execute_result"
    }
   ],
   "source": [
    "### Create dataframe from indiv results collection, converts time to seconds\n",
    "test_data = pd.DataFrame(list(indiv.find()))\n",
    "test_data.head()\n",
    "test_data['Time(sec)'] = pd.to_timedelta(test_data['time']).astype('timedelta64[s]').astype(int)#.map('{:,.2f}'.format)\n",
    "test_data.head()"
   ]
  },
  {
   "cell_type": "code",
   "execution_count": 133,
   "metadata": {},
   "outputs": [
    {
     "name": "stdout",
     "output_type": "stream",
     "text": [
      "count     309.000000\n",
      "mean      875.970874\n",
      "std       682.186217\n",
      "min       565.000000\n",
      "25%       605.000000\n",
      "50%       657.000000\n",
      "75%       777.000000\n",
      "max      3849.000000\n",
      "Name: Time(sec), dtype: float64\n",
      "count     405.000000\n",
      "mean      630.017284\n",
      "std       494.999222\n",
      "min       303.000000\n",
      "25%       457.000000\n",
      "50%       526.000000\n",
      "75%       623.000000\n",
      "max      3960.000000\n",
      "Name: Time(sec), dtype: float64\n"
     ]
    }
   ],
   "source": [
    "set_1 = test_data.iloc[1::6, :]\n",
    "set_2 = test_data.iloc[1500::3, :]\n",
    "print(set_2['Time(sec)'].describe())\n",
    "print(set_1['Time(sec)'].describe())"
   ]
  },
  {
   "cell_type": "code",
   "execution_count": 155,
   "metadata": {},
   "outputs": [
    {
     "name": "stdout",
     "output_type": "stream",
     "text": [
      "1        True\n",
      "7        True\n",
      "13       True\n",
      "19       True\n",
      "25       True\n",
      "        ...  \n",
      "2401    False\n",
      "2407    False\n",
      "2413    False\n",
      "2419    False\n",
      "2425    False\n",
      "Name: upper quartiles, Length: 405, dtype: bool\n",
      "1500     True\n",
      "1503     True\n",
      "1506     True\n",
      "1509     True\n",
      "1512     True\n",
      "        ...  \n",
      "2412    False\n",
      "2415    False\n",
      "2418    False\n",
      "2421    False\n",
      "2424    False\n",
      "Name: upper quartiles, Length: 309, dtype: bool\n"
     ]
    },
    {
     "name": "stderr",
     "output_type": "stream",
     "text": [
      "/Users/annebarry/opt/anaconda3/lib/python3.7/site-packages/ipykernel_launcher.py:3: SettingWithCopyWarning: \n",
      "A value is trying to be set on a copy of a slice from a DataFrame.\n",
      "Try using .loc[row_indexer,col_indexer] = value instead\n",
      "\n",
      "See the caveats in the documentation: https://pandas.pydata.org/pandas-docs/stable/user_guide/indexing.html#returning-a-view-versus-a-copy\n",
      "  This is separate from the ipykernel package so we can avoid doing imports until\n"
     ]
    }
   ],
   "source": [
    "def add_quantile(df):\n",
    "    cutoff = df['Time(sec)'].quantile(.75)\n",
    "    df['upper quartiles'] = df['Time(sec)']<cutoff\n",
    "    print(df['upper quartiles'])\n",
    "\n",
    "add_quantile(set_1)\n",
    "add_quantile(set_2)    \n"
   ]
  },
  {
   "cell_type": "code",
   "execution_count": 159,
   "metadata": {},
   "outputs": [
    {
     "ename": "AttributeError",
     "evalue": "'numpy.ndarray' object has no attribute 'legend'",
     "output_type": "error",
     "traceback": [
      "\u001b[0;31m---------------------------------------------------------------------------\u001b[0m",
      "\u001b[0;31mAttributeError\u001b[0m                            Traceback (most recent call last)",
      "\u001b[0;32m<ipython-input-159-4fcf9984a1c9>\u001b[0m in \u001b[0;36m<module>\u001b[0;34m\u001b[0m\n\u001b[1;32m      4\u001b[0m \u001b[0max\u001b[0m\u001b[0;34m[\u001b[0m\u001b[0;36m0\u001b[0m\u001b[0;34m]\u001b[0m\u001b[0;34m.\u001b[0m\u001b[0mhist\u001b[0m\u001b[0;34m(\u001b[0m\u001b[0mdata\u001b[0m\u001b[0;34m[\u001b[0m\u001b[0;36m0\u001b[0m\u001b[0;34m]\u001b[0m\u001b[0;34m[\u001b[0m\u001b[0;34m'Time(sec)'\u001b[0m\u001b[0;34m]\u001b[0m\u001b[0;34m)\u001b[0m\u001b[0;34m\u001b[0m\u001b[0;34m\u001b[0m\u001b[0m\n\u001b[1;32m      5\u001b[0m \u001b[0max\u001b[0m\u001b[0;34m[\u001b[0m\u001b[0;36m0\u001b[0m\u001b[0;34m]\u001b[0m\u001b[0;34m.\u001b[0m\u001b[0mhist\u001b[0m\u001b[0;34m(\u001b[0m\u001b[0mdata\u001b[0m\u001b[0;34m[\u001b[0m\u001b[0;36m1\u001b[0m\u001b[0;34m]\u001b[0m\u001b[0;34m[\u001b[0m\u001b[0;34m'Time(sec)'\u001b[0m\u001b[0;34m]\u001b[0m\u001b[0;34m)\u001b[0m\u001b[0;34m\u001b[0m\u001b[0;34m\u001b[0m\u001b[0m\n\u001b[0;32m----> 6\u001b[0;31m \u001b[0max\u001b[0m\u001b[0;34m.\u001b[0m\u001b[0mlegend\u001b[0m\u001b[0;34m(\u001b[0m\u001b[0;34m)\u001b[0m\u001b[0;34m\u001b[0m\u001b[0;34m\u001b[0m\u001b[0m\n\u001b[0m",
      "\u001b[0;31mAttributeError\u001b[0m: 'numpy.ndarray' object has no attribute 'legend'"
     ]
    },
    {
     "data": {
      "image/png": "[encoded data removed]",
      "text/plain": [
       "<Figure size 432x288 with 2 Axes>"
      ]
     },
     "metadata": {
      "needs_background": "light"
     },
     "output_type": "display_data"
    }
   ],
   "source": [
    "fig,ax = plt.subplots(2,1)\n",
    "data = [set_1, set_2]\n",
    "\n",
    "ax[0].hist(data[0]['Time(sec)'])\n",
    "ax[0].hist(data[1]['Time(sec)'])"
   ]
  },
  {
   "cell_type": "code",
   "execution_count": 150,
   "metadata": {},
   "outputs": [
    {
     "data": {
      "image/png": "[encoded data removed]",
      "text/plain": [
       "<Figure size 720x504 with 2 Axes>"
      ]
     },
     "metadata": {
      "needs_background": "light"
     },
     "output_type": "display_data"
    }
   ],
   "source": [
    "\n",
    "fig,ax = plt.subplots(figsize =(10, 7)) \n",
    "ax = fig.add_axes([0, 0, 1, 1]) \n",
    "\n",
    "bp = ax.boxplot(data) \n",
    "  \n",
    "# show plot \n",
    "plt.show() "
   ]
  },
  {
   "cell_type": "code",
   "execution_count": null,
   "metadata": {},
   "outputs": [],
   "source": []
  }
 ],
 "metadata": {
  "kernelspec": {
   "display_name": "Python 3",
   "language": "python",
   "name": "python3"
  },
  "language_info": {
   "codemirror_mode": {
    "name": "ipython",
    "version": 3
   },
   "file_extension": ".py",
   "mimetype": "text/x-python",
   "name": "python",
   "nbconvert_exporter": "python",
   "pygments_lexer": "ipython3",
   "version": "3.7.7"
  }
 },
 "nbformat": 4,
 "nbformat_minor": 4
}
