{
 "cells": [
  {
   "cell_type": "code",
   "execution_count": 315,
   "metadata": {},
   "outputs": [],
   "source": [
    "from pymongo import MongoClient\n",
    "import pprint\n",
    "import pandas as pd\n",
    "# Requests sends and recieves HTTP requests.\n",
    "import requests\n",
    "import json\n",
    "import time\n",
    "from scipy import stats\n",
    "import numpy as np\n",
    "plt.style.use('ggplot')"
   ]
  },
  {
   "cell_type": "code",
   "execution_count": 3,
   "metadata": {},
   "outputs": [],
   "source": [
    "import matplotlib.pyplot as plt"
   ]
  },
  {
   "cell_type": "code",
   "execution_count": 4,
   "metadata": {},
   "outputs": [],
   "source": [
    "client = MongoClient('localhost', 27017)\n",
    "results = client['results']\n",
    "runners = results['indiv']\n",
    "new = client['new_db']\n",
    "indiv = new['individual']"
   ]
  },
  {
   "cell_type": "code",
   "execution_count": 5,
   "metadata": {},
   "outputs": [
    {
     "data": {
      "text/plain": [
       "['indiv', 'source']"
      ]
     },
     "execution_count": 5,
     "metadata": {},
     "output_type": "execute_result"
    }
   ],
   "source": [
    "results.list_collection_names()"
   ]
  },
  {
   "cell_type": "code",
   "execution_count": 6,
   "metadata": {},
   "outputs": [
    {
     "data": {
      "text/plain": [
       "19311"
      ]
     },
     "execution_count": 6,
     "metadata": {},
     "output_type": "execute_result"
    }
   ],
   "source": [
    "len(list(runners.find()))"
   ]
  },
  {
   "cell_type": "code",
   "execution_count": 7,
   "metadata": {},
   "outputs": [
    {
     "data": {
      "text/html": [
       "<div>\n",
       "<style scoped>\n",
       "    .dataframe tbody tr th:only-of-type {\n",
       "        vertical-align: middle;\n",
       "    }\n",
       "\n",
       "    .dataframe tbody tr th {\n",
       "        vertical-align: top;\n",
       "    }\n",
       "\n",
       "    .dataframe thead th {\n",
       "        text-align: right;\n",
       "    }\n",
       "</style>\n",
       "<table border=\"1\" class=\"dataframe\">\n",
       "  <thead>\n",
       "    <tr style=\"text-align: right;\">\n",
       "      <th></th>\n",
       "      <th>_id</th>\n",
       "      <th>name</th>\n",
       "      <th>time</th>\n",
       "      <th>age</th>\n",
       "      <th>ag</th>\n",
       "      <th>dist</th>\n",
       "      <th>Time(sec)</th>\n",
       "    </tr>\n",
       "  </thead>\n",
       "  <tbody>\n",
       "    <tr>\n",
       "      <th>0</th>\n",
       "      <td>5f170b3bc94e506c54092382</td>\n",
       "      <td>Abdi Abdirahman</td>\n",
       "      <td>2:11:34</td>\n",
       "      <td>42</td>\n",
       "      <td>Men 40-44</td>\n",
       "      <td>Mar</td>\n",
       "      <td>7894</td>\n",
       "    </tr>\n",
       "    <tr>\n",
       "      <th>1</th>\n",
       "      <td>5f170b3bc94e506c54092383</td>\n",
       "      <td>Mustafa Mohamed</td>\n",
       "      <td>2:19:41</td>\n",
       "      <td>40</td>\n",
       "      <td>Men 40-44</td>\n",
       "      <td>Mar</td>\n",
       "      <td>8381</td>\n",
       "    </tr>\n",
       "    <tr>\n",
       "      <th>2</th>\n",
       "      <td>5f170b3bc94e506c54092384</td>\n",
       "      <td>Fredison Costa</td>\n",
       "      <td>2:21:29</td>\n",
       "      <td>42</td>\n",
       "      <td>Men 40-44</td>\n",
       "      <td>Mar</td>\n",
       "      <td>8489</td>\n",
       "    </tr>\n",
       "    <tr>\n",
       "      <th>3</th>\n",
       "      <td>5f170b3bc94e506c54092385</td>\n",
       "      <td>Vladimir Shatrov</td>\n",
       "      <td>2:26:17</td>\n",
       "      <td>41</td>\n",
       "      <td>Men 40-44</td>\n",
       "      <td>Mar</td>\n",
       "      <td>8777</td>\n",
       "    </tr>\n",
       "    <tr>\n",
       "      <th>4</th>\n",
       "      <td>5f170b3bc94e506c54092386</td>\n",
       "      <td>Miguel Ferrer</td>\n",
       "      <td>2:27:15</td>\n",
       "      <td>41</td>\n",
       "      <td>Men 40-44</td>\n",
       "      <td>Mar</td>\n",
       "      <td>8835</td>\n",
       "    </tr>\n",
       "  </tbody>\n",
       "</table>\n",
       "</div>"
      ],
      "text/plain": [
       "                        _id              name     time  age         ag dist  \\\n",
       "0  5f170b3bc94e506c54092382   Abdi Abdirahman  2:11:34   42  Men 40-44  Mar   \n",
       "1  5f170b3bc94e506c54092383   Mustafa Mohamed  2:19:41   40  Men 40-44  Mar   \n",
       "2  5f170b3bc94e506c54092384    Fredison Costa  2:21:29   42  Men 40-44  Mar   \n",
       "3  5f170b3bc94e506c54092385  Vladimir Shatrov  2:26:17   41  Men 40-44  Mar   \n",
       "4  5f170b3bc94e506c54092386     Miguel Ferrer  2:27:15   41  Men 40-44  Mar   \n",
       "\n",
       "   Time(sec)  \n",
       "0       7894  \n",
       "1       8381  \n",
       "2       8489  \n",
       "3       8777  \n",
       "4       8835  "
      ]
     },
     "execution_count": 7,
     "metadata": {},
     "output_type": "execute_result"
    }
   ],
   "source": [
    "### Create dataframe from indiv results collection, converts time to seconds\n",
    "df = pd.DataFrame(list(runners.find()))\n",
    "df.head()\n",
    "df['Time(sec)'] = pd.to_timedelta(df['time']).astype('timedelta64[s]').astype(int)#.map('{:,.2f}'.format)\n",
    "df.head()"
   ]
  },
  {
   "cell_type": "code",
   "execution_count": 207,
   "metadata": {},
   "outputs": [
    {
     "name": "stdout",
     "output_type": "stream",
     "text": [
      "<class 'pandas.core.frame.DataFrame'>\n",
      "RangeIndex: 19311 entries, 0 to 19310\n",
      "Data columns (total 7 columns):\n",
      " #   Column     Non-Null Count  Dtype \n",
      "---  ------     --------------  ----- \n",
      " 0   _id        19311 non-null  object\n",
      " 1   name       19311 non-null  object\n",
      " 2   time       19311 non-null  object\n",
      " 3   age        19311 non-null  int64 \n",
      " 4   ag         19311 non-null  object\n",
      " 5   dist       19311 non-null  object\n",
      " 6   Time(sec)  19311 non-null  int64 \n",
      "dtypes: int64(2), object(5)\n",
      "memory usage: 1.0+ MB\n"
     ]
    }
   ],
   "source": [
    "df.info()"
   ]
  },
  {
   "cell_type": "code",
   "execution_count": 20,
   "metadata": {},
   "outputs": [],
   "source": [
    "##set up 4 diff DF\n",
    "agroup = ['Men 40-44', 'Men 45-49', 'Women 25-29', 'Women 30-34']\n",
    "dist = ['Mar', 'Mar', 'Mile', 'Mile']\n",
    "\n",
    "#M_Mar = df[df['ag']=='Men 40-44'& df['dist']=='Mar']\n",
    "\n",
    "M_Mar = df[df.ag.isin(agroup[:2]) & \n",
    "           df.dist.isin(dist[:2])]\n",
    "W_Mar = df[df.ag.isin(agroup[2:]) & \n",
    "           df.dist.isin(dist[:2])]\n",
    "M_Mile = df[df.ag.isin(agroup[:2]) & \n",
    "           df.dist.isin(dist[2:])]\n",
    "W_Mile = df[df.ag.isin(agroup[2:]) & \n",
    "           df.dist.isin(dist[2:])]"
   ]
  },
  {
   "cell_type": "code",
   "execution_count": 239,
   "metadata": {},
   "outputs": [
    {
     "name": "stderr",
     "output_type": "stream",
     "text": [
      "/Users/annebarry/opt/anaconda3/lib/python3.7/site-packages/ipykernel_launcher.py:3: SettingWithCopyWarning: \n",
      "A value is trying to be set on a copy of a slice from a DataFrame.\n",
      "Try using .loc[row_indexer,col_indexer] = value instead\n",
      "\n",
      "See the caveats in the documentation: https://pandas.pydata.org/pandas-docs/stable/user_guide/indexing.html#returning-a-view-versus-a-copy\n",
      "  This is separate from the ipykernel package so we can avoid doing imports until\n"
     ]
    },
    {
     "data": {
      "text/plain": [
       "count     7055\n",
       "unique       2\n",
       "top       True\n",
       "freq      5289\n",
       "Name: upper quartiles, dtype: object"
      ]
     },
     "execution_count": 239,
     "metadata": {},
     "output_type": "execute_result"
    }
   ],
   "source": [
    "def add_quantile(df):\n",
    "    cutoff = df['Time(sec)'].quantile(.75)\n",
    "    df['upper quartiles'] = df['Time(sec)']<cutoff\n",
    "    return df['upper quartiles']\n",
    "\n",
    "    \n",
    "raw_list_df = [M_Mar, W_Mar, M_Mile, W_Mile]\n",
    "\n",
    "quant_list = [add_quantile(x) for x in raw_list_df]\n",
    "\n",
    "quant_list[0].tail()\n",
    "quant_list[1].describe()\n",
    "\n",
    "\n",
    "\n",
    "\n"
   ]
  },
  {
   "cell_type": "code",
   "execution_count": 250,
   "metadata": {
    "scrolled": true
   },
   "outputs": [
    {
     "data": {
      "image/png": "[encoded data removed]",
      "text/plain": [
       "<Figure size 720x504 with 2 Axes>"
      ]
     },
     "metadata": {},
     "output_type": "display_data"
    }
   ],
   "source": [
    "## creates functions for histograms, one with raw data and one density function\n",
    "secs_mile = [300, 400, 500, 600, 700, 800]\n",
    "secs_mar = [7500, 10000, 12500, 15000, 17500, 20000, 22500, 25000]\n",
    "\n",
    "def formatTime(ls):\n",
    "    l = []\n",
    "    for i in ls:\n",
    "        l.append(time.strftime('%H:%M:%S', time.gmtime(i)))\n",
    "    return l\n",
    "\n",
    "## creates functions for histograms, one with raw data and one density function.  \n",
    "##requires data for 4 races, and density variable\n",
    "\n",
    "def plot_histograms(data, x_labels_mar, x_labels_mile, density = False):\n",
    "    fig,ax = plt.subplots(2, 1, figsize = (10, 7))\n",
    "\n",
    "## marathon data\n",
    "    ax[0].hist([data[0], data[1]], bins = 10, range = (7800,25000), density = density, align = ('mid'), color = ['#1494D8','#B780F6'], label = ['Men', 'Women'])   \n",
    "    ax[0].spines[\"bottom\"].set_visible(True)      \n",
    "    ax[0].spines[\"left\"].set_visible(True)\n",
    "#plt.xticks(fontsize=30)\n",
    "    if density == True:\n",
    "        ax[0].set_title('Marathon Finish Times for Men 40-49 and Women 25-24 as Density Functions')\n",
    "        ax[1].set_yticklabels([])\n",
    "    else:\n",
    "        ax[0].set_title('Marathon Finish Times for Men 40-49 and Women 25-34')\n",
    "        ax[0].set_ylabel('Finishers')\n",
    "    ax[0].set_xlabel('Time')\n",
    "\n",
    "    #ax[0].set_xticks(format_time(secs))\n",
    "    ax[0].set_xticklabels(x_labels_mar)\n",
    "    ax[0].legend()\n",
    "##\n",
    "    ax[1].hist([data[2], data[3]], bins = 10, range = (240,800), density = density, align = ('mid'), color = ['#1494D8','#B780F6'], label = ['Men', 'Women'])   \n",
    "    ax[1].spines[\"bottom\"].set_visible(True)      \n",
    "    ax[1].spines[\"left\"].set_visible(True)\n",
    "#plt.xticks(fontsize=30)\n",
    "    if density == True:\n",
    "        ax[1].set_title('Mile Finish Times for Men 40-49 and Women 25-24 as Density Functions')\n",
    "        ax[1].set_yticklabels([])\n",
    "    else:\n",
    "        ax[1].set_title('Mile Finish Times for Men 40-49 and Women 25-34')\n",
    "        ax[1].set_ylabel('Finishers')\n",
    "    ax[1].set_xlabel('Time')\n",
    "    ax[1].set_xticklabels(x_labels_mile)\n",
    "    ax[1].legend()\n",
    "\n",
    "    fig.tight_layout()\n",
    "\n",
    "plot_histograms(quant_list, formatTime(secs_mar), formatTime(secs_mile))\n",
    "plot_histograms(quant_list, formatTime(secs_mar), formatTime(secs_mile), True)\n"
   ]
  },
  {
   "cell_type": "code",
   "execution_count": 195,
   "metadata": {},
   "outputs": [
    {
     "name": "stdout",
     "output_type": "stream",
     "text": [
      "(6.172639721380716e-150, True)\n",
      "The mean of the men's times is 15653 with a standard deviation of 3235. \n",
      "For the women, the mean is 16992 with a standard deviation of 3253. \n",
      "Using a t-test with 0.95 significance, we get a p-value of 6.172639721380716e-150 meaning that the null hypothesis is False.\n"
     ]
    }
   ],
   "source": [
    "men_mean = round(quant_list[0]['Time(sec)'].mean())\n",
    "men_std = round(quant_list[0]['Time(sec)'].std())\n",
    "\n",
    "women_mean = round(quant_list[1]['Time(sec)'].mean())\n",
    "women_std = round(quant_list[1]['Time(sec)'].std())\n",
    "\n",
    "#print(stats.shapiro(quant_list[0]['Time(sec)']))\n",
    "\n",
    "def calculate_t_test(sample1, sample2, type_I_error_rate):\n",
    "    ttest = stats.ttest_ind(sample1, sample2, equal_var = False)\n",
    "    return (ttest[1], ttest[1] < type_I_error_rate)\n",
    "\n",
    "error = .05\n",
    "print(calculate_t_test((quant_list[0])['Time(sec)'], (quant_list[1])['Time(sec)'], error/2))\n",
    "# print(results)\n",
    "print('''The mean of the men's times is {} with a standard deviation of {}. \n",
    "For the women, the mean is {} with a standard deviation of {}. \n",
    "Using a t-test with {} significance, we get a p-value of {} meaning that the null hypothesis is {}.'''.format(men_mean, men_std, women_mean, women_std, 1- error, results[0], results == False)) "
   ]
  },
  {
   "cell_type": "code",
   "execution_count": 277,
   "metadata": {},
   "outputs": [
    {
     "name": "stdout",
     "output_type": "stream",
     "text": [
      "14659 2222\n",
      "15534 1953\n"
     ]
    },
    {
     "data": {
      "text/plain": [
       "<matplotlib.collections.PolyCollection at 0x7fbdc171c590>"
      ]
     },
     "execution_count": 277,
     "metadata": {},
     "output_type": "execute_result"
    },
    {
     "data": {
      "image/png": "[encoded data removed]",
      "text/plain": [
       "<Figure size 432x288 with 1 Axes>"
      ]
     },
     "metadata": {},
     "output_type": "display_data"
    }
   ],
   "source": [
    "x = np.arange(6000, 30000, 10)\n",
    "men = stats.norm(men_mean, men_std/np.sqrt(15000))\n",
    "print(men_mean, men_std)\n",
    "women = stats.norm(women_mean, women_std/np.sqrt(15000))\n",
    "print(women_mean, women_std)\n",
    "\n",
    "fig,ax = plt.subplots()\n",
    "ax.plot(x, men.pdf(x))\n",
    "ax.plot(x, women.pdf(x))\n",
    "ax.set_yticklabels([])\n",
    "statistic = men.ppf(.975)\n",
    "ax.fill_between(x, men.pdf(x), where=(x >= statistic), color=\"red\", alpha=0.5)"
   ]
  },
  {
   "cell_type": "code",
   "execution_count": 202,
   "metadata": {},
   "outputs": [
    {
     "ename": "SyntaxError",
     "evalue": "invalid syntax (<ipython-input-202-39f7527e8f6a>, line 2)",
     "output_type": "error",
     "traceback": [
      "\u001b[0;36m  File \u001b[0;32m\"<ipython-input-202-39f7527e8f6a>\"\u001b[0;36m, line \u001b[0;32m2\u001b[0m\n\u001b[0;31m    Alt: : performance is different\u001b[0m\n\u001b[0m         ^\u001b[0m\n\u001b[0;31mSyntaxError\u001b[0m\u001b[0;31m:\u001b[0m invalid syntax\n"
     ]
    }
   ],
   "source": [
    "Null : performance is same\n",
    "Alt: : performance is different\n",
    "\n",
    "In order to determine that men perform differently than women, the mean of the women's group must have been greater than 21900."
   ]
  },
  {
   "cell_type": "code",
   "execution_count": 204,
   "metadata": {},
   "outputs": [
    {
     "data": {
      "text/plain": [
       "0        Abdi Abdirahman\n",
       "1        Mustafa Mohamed\n",
       "2         Fredison Costa\n",
       "3       Vladimir Shatrov\n",
       "4          Miguel Ferrer\n",
       "              ...       \n",
       "9696    Derrick Lawrence\n",
       "9697         Paul Biguvu\n",
       "9698    Joseph Frederick\n",
       "9699        Steve Dubois\n",
       "9700        Tane Walters\n",
       "Name: name, Length: 9701, dtype: object"
      ]
     },
     "execution_count": 204,
     "metadata": {},
     "output_type": "execute_result"
    }
   ],
   "source": [
    "M_Mar['name'].str.title()"
   ]
  },
  {
   "cell_type": "code",
   "execution_count": 205,
   "metadata": {},
   "outputs": [
    {
     "data": {
      "text/plain": [
       "pandas.core.series.Series"
      ]
     },
     "execution_count": 205,
     "metadata": {},
     "output_type": "execute_result"
    }
   ],
   "source": [
    "type(M_Mar['name'])"
   ]
  },
  {
   "cell_type": "code",
   "execution_count": 251,
   "metadata": {},
   "outputs": [
    {
     "data": {
      "image/png": "[encoded data removed]",
      "text/plain": [
       "<Figure size 720x504 with 2 Axes>"
      ]
     },
     "metadata": {},
     "output_type": "display_data"
    }
   ],
   "source": [
    "def sub_12(df):\n",
    "    df_new = df[df['Time(sec)']<18864]\n",
    "    return df_new['Time(sec)']\n",
    "\n",
    "def sub_12_mile(df):\n",
    "    df_new = df[df['Time(sec)']< 720]\n",
    "    return df_new['Time(sec)']\n",
    "sub_12_list = [sub_12(M_Mar), sub_12(W_Mar), sub_12_mile(M_Mile), sub_12_mile(W_Mile)]\n",
    "\n",
    "plot_histograms(sub_12_list, formatTime(secs_mar), formatTime(secs_mile))\n"
   ]
  },
  {
   "cell_type": "code",
   "execution_count": 267,
   "metadata": {},
   "outputs": [
    {
     "data": {
      "image/png": "[encoded data removed]",
      "text/plain": [
       "<Figure size 720x504 with 2 Axes>"
      ]
     },
     "metadata": {},
     "output_type": "display_data"
    },
    {
     "data": {
      "image/png": "[encoded data removed]",
      "text/plain": [
       "<Figure size 720x504 with 2 Axes>"
      ]
     },
     "metadata": {},
     "output_type": "display_data"
    }
   ],
   "source": [
    "x = [2, 2.5, 3, 3.5, 4, 4.5, 5, 5.5, 6]\n",
    "twelve_sec = []\n",
    "for i in x:\n",
    "    twelve_sec.append(i*3600)\n",
    "\n",
    "mar_x = format_time(twelve_sec)\n",
    "mile_x = format_time([4*60, 5*60, 6*60, 7*60, 8*60, 9*60, 10*60, 11*60, 12*60])\n",
    "\n",
    "plot_histograms(sub_12_list, mar_x, mile_x)\n",
    "plot_histograms(sub_12_list, mar_x, mile_x, density = True)"
   ]
  },
  {
   "cell_type": "code",
   "execution_count": 253,
   "metadata": {},
   "outputs": [
    {
     "data": {
      "image/png": "[encoded data removed]",
      "text/plain": [
       "<Figure size 720x504 with 2 Axes>"
      ]
     },
     "metadata": {},
     "output_type": "display_data"
    }
   ],
   "source": [
    "\n"
   ]
  },
  {
   "cell_type": "code",
   "execution_count": 274,
   "metadata": {},
   "outputs": [
    {
     "name": "stdout",
     "output_type": "stream",
     "text": [
      "(2.134255115432781e-125, True)\n",
      "The mean of the men's times is 14659 with a standard deviation of 2222. \n",
      "For the women, the mean is 15534 with a standard deviation of 1953. \n",
      "Using a t-test with 0.09999999999999998 significance, we get a p-value of 6.172639721380716e-150 meaning that the null hypothesis is False.\n"
     ]
    }
   ],
   "source": [
    "## marathon comparison t-test\n",
    "men_mean = round(sub_12_list[0].mean())\n",
    "men_std = round(sub_12_list[0].std())\n",
    "\n",
    "women_mean = round(sub_12_list[1].mean())\n",
    "women_std = round(sub_12_list[1].std())\n",
    "\n",
    "#print(stats.shapiro(quant_list[0]['Time(sec)']))\n",
    "\n",
    "def calculate_t_test(sample1, sample2, type_I_error_rate):\n",
    "    ttest = stats.ttest_ind(sample1, sample2, equal_var = False)\n",
    "    return (ttest[1], ttest[1] < type_I_error_rate)\n",
    "\n",
    "error = \n",
    "print(calculate_t_test(sub_12_list[0], sub_12_list[1], error/2))\n",
    "# print(results)\n",
    "print('''The mean of the men's times is {} with a standard deviation of {}. \n",
    "For the women, the mean is {} with a standard deviation of {}. \n",
    "Using a t-test with {} significance, we get a p-value of {} meaning that the null hypothesis is {}.'''.format(men_mean, men_std, women_mean, women_std, 1- error, results[0], results == False)) "
   ]
  },
  {
   "cell_type": "code",
   "execution_count": 284,
   "metadata": {},
   "outputs": [
    {
     "data": {
      "text/plain": [
       "<matplotlib.collections.PolyCollection at 0x7fbdc12f7a90>"
      ]
     },
     "execution_count": 284,
     "metadata": {},
     "output_type": "execute_result"
    },
    {
     "data": {
      "image/png": "[encoded data removed]",
      "text/plain": [
       "<Figure size 432x288 with 1 Axes>"
      ]
     },
     "metadata": {},
     "output_type": "display_data"
    }
   ],
   "source": [
    "x = np.arange(14400, 15700, 10)\n",
    "men = stats.norm(sub_12_list[0].mean(), sub_12_list[0].std()/np.sqrt(sub_12_list[0].count()))\n",
    "women = stats.norm(sub_12_list[1].mean(), sub_12_list[1].std()/np.sqrt(sub_12_list[1].count()))\n",
    "\n",
    "fig,ax = plt.subplots()\n",
    "ax.plot(x, men.pdf(x))\n",
    "ax.plot(x, women.pdf(x))\n",
    "ax.set_yticklabels([])\n",
    "statistic = men.ppf(.975)\n",
    "ax.fill_between(x, men.pdf(x), where=(x >= statistic), color=\"red\", alpha=0.5)"
   ]
  },
  {
   "cell_type": "code",
   "execution_count": 312,
   "metadata": {},
   "outputs": [
    {
     "name": "stdout",
     "output_type": "stream",
     "text": [
      "<class 'pandas.core.frame.DataFrame'>\n",
      "Int64Index: 354 entries, 104 to 9689\n",
      "Data columns (total 9 columns):\n",
      " #   Column           Non-Null Count  Dtype \n",
      "---  ------           --------------  ----- \n",
      " 0   _id              354 non-null    object\n",
      " 1   name             354 non-null    object\n",
      " 2   time             354 non-null    object\n",
      " 3   age              354 non-null    int64 \n",
      " 4   ag               354 non-null    object\n",
      " 5   dist             354 non-null    object\n",
      " 6   Time(sec)        354 non-null    int64 \n",
      " 7   upper quartiles  354 non-null    bool  \n",
      " 8   sub12            354 non-null    bool  \n",
      "dtypes: bool(2), int64(2), object(5)\n",
      "memory usage: 22.8+ KB\n"
     ]
    }
   ],
   "source": [
    "#df_repeats = M_Mar[M_Mar['name'] in ['Alexander Hoyt']]\n",
    "\n",
    "df_repeats = M_Mar[M_Mar['name'].isin(list(M_Mile['name']))]\n",
    "\n",
    "#df_new[df_new['l_ext'].isin([31, 22, 30, 25, 64])]\n",
    "\n",
    "df_repeats.info()"
   ]
  },
  {
   "cell_type": "code",
   "execution_count": 321,
   "metadata": {},
   "outputs": [],
   "source": [
    "a = set(M_Mar['name'].values)\n"
   ]
  },
  {
   "cell_type": "code",
   "execution_count": 325,
   "metadata": {},
   "outputs": [
    {
     "data": {
      "text/plain": [
       "9645"
      ]
     },
     "execution_count": 325,
     "metadata": {},
     "output_type": "execute_result"
    }
   ],
   "source": [
    "len(M_Mar['name'].unique())"
   ]
  },
  {
   "cell_type": "code",
   "execution_count": 326,
   "metadata": {},
   "outputs": [
    {
     "data": {
      "text/plain": [
       "9701"
      ]
     },
     "execution_count": 326,
     "metadata": {},
     "output_type": "execute_result"
    }
   ],
   "source": [
    "len(M_Mar['name'])"
   ]
  },
  {
   "cell_type": "code",
   "execution_count": 327,
   "metadata": {},
   "outputs": [
    {
     "data": {
      "text/plain": [
       "7031"
      ]
     },
     "execution_count": 327,
     "metadata": {},
     "output_type": "execute_result"
    }
   ],
   "source": [
    "len(W_Mar['name'].unique())"
   ]
  },
  {
   "cell_type": "code",
   "execution_count": 328,
   "metadata": {},
   "outputs": [
    {
     "data": {
      "text/plain": [
       "7055"
      ]
     },
     "execution_count": 328,
     "metadata": {},
     "output_type": "execute_result"
    }
   ],
   "source": [
    "len(W_Mar['name'])"
   ]
  },
  {
   "cell_type": "code",
   "execution_count": 350,
   "metadata": {},
   "outputs": [
    {
     "name": "stderr",
     "output_type": "stream",
     "text": [
      "/Users/annebarry/opt/anaconda3/lib/python3.7/site-packages/ipykernel_launcher.py:6: SettingWithCopyWarning: \n",
      "A value is trying to be set on a copy of a slice from a DataFrame.\n",
      "Try using .loc[row_indexer,col_indexer] = value instead\n",
      "\n",
      "See the caveats in the documentation: https://pandas.pydata.org/pandas-docs/stable/user_guide/indexing.html#returning-a-view-versus-a-copy\n",
      "  \n",
      "/Users/annebarry/opt/anaconda3/lib/python3.7/site-packages/ipykernel_launcher.py:7: SettingWithCopyWarning: \n",
      "A value is trying to be set on a copy of a slice from a DataFrame.\n",
      "Try using .loc[row_indexer,col_indexer] = value instead\n",
      "\n",
      "See the caveats in the documentation: https://pandas.pydata.org/pandas-docs/stable/user_guide/indexing.html#returning-a-view-versus-a-copy\n",
      "  import sys\n",
      "/Users/annebarry/opt/anaconda3/lib/python3.7/site-packages/ipykernel_launcher.py:8: SettingWithCopyWarning: \n",
      "A value is trying to be set on a copy of a slice from a DataFrame.\n",
      "Try using .loc[row_indexer,col_indexer] = value instead\n",
      "\n",
      "See the caveats in the documentation: https://pandas.pydata.org/pandas-docs/stable/user_guide/indexing.html#returning-a-view-versus-a-copy\n",
      "  \n",
      "/Users/annebarry/opt/anaconda3/lib/python3.7/site-packages/ipykernel_launcher.py:9: SettingWithCopyWarning: \n",
      "A value is trying to be set on a copy of a slice from a DataFrame.\n",
      "Try using .loc[row_indexer,col_indexer] = value instead\n",
      "\n",
      "See the caveats in the documentation: https://pandas.pydata.org/pandas-docs/stable/user_guide/indexing.html#returning-a-view-versus-a-copy\n",
      "  if __name__ == '__main__':\n"
     ]
    },
    {
     "data": {
      "text/html": [
       "<div>\n",
       "<style scoped>\n",
       "    .dataframe tbody tr th:only-of-type {\n",
       "        vertical-align: middle;\n",
       "    }\n",
       "\n",
       "    .dataframe tbody tr th {\n",
       "        vertical-align: top;\n",
       "    }\n",
       "\n",
       "    .dataframe thead th {\n",
       "        text-align: right;\n",
       "    }\n",
       "</style>\n",
       "<table border=\"1\" class=\"dataframe\">\n",
       "  <thead>\n",
       "    <tr style=\"text-align: right;\">\n",
       "      <th></th>\n",
       "      <th>_id_x</th>\n",
       "      <th>name_x</th>\n",
       "      <th>time_x</th>\n",
       "      <th>age_x</th>\n",
       "      <th>ag_x</th>\n",
       "      <th>dist_x</th>\n",
       "      <th>Time(sec)_x</th>\n",
       "      <th>upper quartiles_x</th>\n",
       "      <th>normalized_time</th>\n",
       "      <th>nameage</th>\n",
       "      <th>_id_y</th>\n",
       "      <th>name_y</th>\n",
       "      <th>time_y</th>\n",
       "      <th>age_y</th>\n",
       "      <th>ag_y</th>\n",
       "      <th>dist_y</th>\n",
       "      <th>Time(sec)_y</th>\n",
       "      <th>upper quartiles_y</th>\n",
       "    </tr>\n",
       "  </thead>\n",
       "  <tbody>\n",
       "    <tr>\n",
       "      <th>0</th>\n",
       "      <td>5f17166fc94e506c54094977</td>\n",
       "      <td>Emily Goldsmith</td>\n",
       "      <td>2:56:01</td>\n",
       "      <td>29</td>\n",
       "      <td>Women 25-29</td>\n",
       "      <td>Mar</td>\n",
       "      <td>10561</td>\n",
       "      <td>True</td>\n",
       "      <td>14521.936357</td>\n",
       "      <td>29Emily Goldsmith</td>\n",
       "      <td>5f171bebc94e506c5409650c</td>\n",
       "      <td>Emily Goldsmith</td>\n",
       "      <td>0:05:15</td>\n",
       "      <td>29</td>\n",
       "      <td>Women 25-29</td>\n",
       "      <td>Mile</td>\n",
       "      <td>315</td>\n",
       "      <td>True</td>\n",
       "    </tr>\n",
       "    <tr>\n",
       "      <th>1</th>\n",
       "      <td>5f17166fc94e506c54094979</td>\n",
       "      <td>Lena Placzek</td>\n",
       "      <td>2:56:26</td>\n",
       "      <td>27</td>\n",
       "      <td>Women 25-29</td>\n",
       "      <td>Mar</td>\n",
       "      <td>10586</td>\n",
       "      <td>True</td>\n",
       "      <td>14556.312686</td>\n",
       "      <td>27Lena Placzek</td>\n",
       "      <td>5f171bebc94e506c54096505</td>\n",
       "      <td>Lena Placzek</td>\n",
       "      <td>0:04:58</td>\n",
       "      <td>27</td>\n",
       "      <td>Women 25-29</td>\n",
       "      <td>Mile</td>\n",
       "      <td>298</td>\n",
       "      <td>True</td>\n",
       "    </tr>\n",
       "    <tr>\n",
       "      <th>2</th>\n",
       "      <td>5f17166fc94e506c5409497f</td>\n",
       "      <td>Mary Johnston</td>\n",
       "      <td>2:58:11</td>\n",
       "      <td>26</td>\n",
       "      <td>Women 25-29</td>\n",
       "      <td>Mar</td>\n",
       "      <td>10691</td>\n",
       "      <td>True</td>\n",
       "      <td>14700.693267</td>\n",
       "      <td>26Mary Johnston</td>\n",
       "      <td>5f171bebc94e506c5409650e</td>\n",
       "      <td>Mary Johnston</td>\n",
       "      <td>0:05:18</td>\n",
       "      <td>26</td>\n",
       "      <td>Women 25-29</td>\n",
       "      <td>Mile</td>\n",
       "      <td>318</td>\n",
       "      <td>True</td>\n",
       "    </tr>\n",
       "    <tr>\n",
       "      <th>3</th>\n",
       "      <td>5f17166fc94e506c540949b1</td>\n",
       "      <td>Amanda Fox</td>\n",
       "      <td>3:11:30</td>\n",
       "      <td>29</td>\n",
       "      <td>Women 25-29</td>\n",
       "      <td>Mar</td>\n",
       "      <td>11490</td>\n",
       "      <td>True</td>\n",
       "      <td>15799.360737</td>\n",
       "      <td>29Amanda Fox</td>\n",
       "      <td>5f171bebc94e506c54096525</td>\n",
       "      <td>Amanda Fox</td>\n",
       "      <td>0:05:42</td>\n",
       "      <td>29</td>\n",
       "      <td>Women 25-29</td>\n",
       "      <td>Mile</td>\n",
       "      <td>342</td>\n",
       "      <td>True</td>\n",
       "    </tr>\n",
       "    <tr>\n",
       "      <th>4</th>\n",
       "      <td>5f17166fc94e506c540949d4</td>\n",
       "      <td>Kaitlyn DiBello</td>\n",
       "      <td>3:17:17</td>\n",
       "      <td>28</td>\n",
       "      <td>Women 25-29</td>\n",
       "      <td>Mar</td>\n",
       "      <td>11837</td>\n",
       "      <td>True</td>\n",
       "      <td>16276.504181</td>\n",
       "      <td>28Kaitlyn DiBello</td>\n",
       "      <td>5f171bebc94e506c54096513</td>\n",
       "      <td>Kaitlyn DiBello</td>\n",
       "      <td>0:05:26</td>\n",
       "      <td>28</td>\n",
       "      <td>Women 25-29</td>\n",
       "      <td>Mile</td>\n",
       "      <td>326</td>\n",
       "      <td>True</td>\n",
       "    </tr>\n",
       "    <tr>\n",
       "      <th>...</th>\n",
       "      <td>...</td>\n",
       "      <td>...</td>\n",
       "      <td>...</td>\n",
       "      <td>...</td>\n",
       "      <td>...</td>\n",
       "      <td>...</td>\n",
       "      <td>...</td>\n",
       "      <td>...</td>\n",
       "      <td>...</td>\n",
       "      <td>...</td>\n",
       "      <td>...</td>\n",
       "      <td>...</td>\n",
       "      <td>...</td>\n",
       "      <td>...</td>\n",
       "      <td>...</td>\n",
       "      <td>...</td>\n",
       "      <td>...</td>\n",
       "      <td>...</td>\n",
       "    </tr>\n",
       "    <tr>\n",
       "      <th>221</th>\n",
       "      <td>5f171b16c94e506c540960f5</td>\n",
       "      <td>Ksenia Stepanova</td>\n",
       "      <td>5:10:10</td>\n",
       "      <td>34</td>\n",
       "      <td>Women 30-34</td>\n",
       "      <td>Mar</td>\n",
       "      <td>18610</td>\n",
       "      <td>True</td>\n",
       "      <td>25589.739192</td>\n",
       "      <td>34Ksenia Stepanova</td>\n",
       "      <td>5f171cc0c94e506c54096af1</td>\n",
       "      <td>Ksenia Stepanova</td>\n",
       "      <td>0:08:55</td>\n",
       "      <td>34</td>\n",
       "      <td>Women 30-34</td>\n",
       "      <td>Mile</td>\n",
       "      <td>535</td>\n",
       "      <td>False</td>\n",
       "    </tr>\n",
       "    <tr>\n",
       "      <th>222</th>\n",
       "      <td>5f171b16c94e506c54096102</td>\n",
       "      <td>Kristen Mogavero</td>\n",
       "      <td>5:10:58</td>\n",
       "      <td>34</td>\n",
       "      <td>Women 30-34</td>\n",
       "      <td>Mar</td>\n",
       "      <td>18658</td>\n",
       "      <td>True</td>\n",
       "      <td>25655.741743</td>\n",
       "      <td>34Kristen Mogavero</td>\n",
       "      <td>5f171cbfc94e506c54096a4d</td>\n",
       "      <td>Kristen Mogavero</td>\n",
       "      <td>0:08:00</td>\n",
       "      <td>34</td>\n",
       "      <td>Women 30-34</td>\n",
       "      <td>Mile</td>\n",
       "      <td>480</td>\n",
       "      <td>True</td>\n",
       "    </tr>\n",
       "    <tr>\n",
       "      <th>223</th>\n",
       "      <td>5f171b16c94e506c54096111</td>\n",
       "      <td>Nicole Lauterbach</td>\n",
       "      <td>5:11:39</td>\n",
       "      <td>32</td>\n",
       "      <td>Women 30-34</td>\n",
       "      <td>Mar</td>\n",
       "      <td>18699</td>\n",
       "      <td>True</td>\n",
       "      <td>25712.118923</td>\n",
       "      <td>32Nicole Lauterbach</td>\n",
       "      <td>5f171cbfc94e506c54096a21</td>\n",
       "      <td>Nicole Lauterbach</td>\n",
       "      <td>0:07:49</td>\n",
       "      <td>32</td>\n",
       "      <td>Women 30-34</td>\n",
       "      <td>Mile</td>\n",
       "      <td>469</td>\n",
       "      <td>True</td>\n",
       "    </tr>\n",
       "    <tr>\n",
       "      <th>224</th>\n",
       "      <td>5f171b16c94e506c5409611b</td>\n",
       "      <td>Jennifer Coyne</td>\n",
       "      <td>5:12:06</td>\n",
       "      <td>30</td>\n",
       "      <td>Women 30-34</td>\n",
       "      <td>Mar</td>\n",
       "      <td>18726</td>\n",
       "      <td>True</td>\n",
       "      <td>25749.245358</td>\n",
       "      <td>30Jennifer Coyne</td>\n",
       "      <td>5f171cbfc94e506c540969e6</td>\n",
       "      <td>Jennifer Coyne</td>\n",
       "      <td>0:07:34</td>\n",
       "      <td>30</td>\n",
       "      <td>Women 30-34</td>\n",
       "      <td>Mile</td>\n",
       "      <td>454</td>\n",
       "      <td>True</td>\n",
       "    </tr>\n",
       "    <tr>\n",
       "      <th>225</th>\n",
       "      <td>5f171b17c94e506c54096134</td>\n",
       "      <td>Rachel Stephan</td>\n",
       "      <td>5:13:46</td>\n",
       "      <td>34</td>\n",
       "      <td>Women 30-34</td>\n",
       "      <td>Mar</td>\n",
       "      <td>18826</td>\n",
       "      <td>True</td>\n",
       "      <td>25886.750673</td>\n",
       "      <td>34Rachel Stephan</td>\n",
       "      <td>5f171cbec94e506c5409691a</td>\n",
       "      <td>Rachel Stephan</td>\n",
       "      <td>0:06:51</td>\n",
       "      <td>34</td>\n",
       "      <td>Women 30-34</td>\n",
       "      <td>Mile</td>\n",
       "      <td>411</td>\n",
       "      <td>True</td>\n",
       "    </tr>\n",
       "  </tbody>\n",
       "</table>\n",
       "<p>226 rows × 18 columns</p>\n",
       "</div>"
      ],
      "text/plain": [
       "                        _id_x             name_x   time_x  age_x         ag_x  \\\n",
       "0    5f17166fc94e506c54094977    Emily Goldsmith  2:56:01     29  Women 25-29   \n",
       "1    5f17166fc94e506c54094979       Lena Placzek  2:56:26     27  Women 25-29   \n",
       "2    5f17166fc94e506c5409497f      Mary Johnston  2:58:11     26  Women 25-29   \n",
       "3    5f17166fc94e506c540949b1         Amanda Fox  3:11:30     29  Women 25-29   \n",
       "4    5f17166fc94e506c540949d4    Kaitlyn DiBello  3:17:17     28  Women 25-29   \n",
       "..                        ...                ...      ...    ...          ...   \n",
       "221  5f171b16c94e506c540960f5   Ksenia Stepanova  5:10:10     34  Women 30-34   \n",
       "222  5f171b16c94e506c54096102   Kristen Mogavero  5:10:58     34  Women 30-34   \n",
       "223  5f171b16c94e506c54096111  Nicole Lauterbach  5:11:39     32  Women 30-34   \n",
       "224  5f171b16c94e506c5409611b     Jennifer Coyne  5:12:06     30  Women 30-34   \n",
       "225  5f171b17c94e506c54096134     Rachel Stephan  5:13:46     34  Women 30-34   \n",
       "\n",
       "    dist_x  Time(sec)_x  upper quartiles_x  normalized_time  \\\n",
       "0      Mar        10561               True     14521.936357   \n",
       "1      Mar        10586               True     14556.312686   \n",
       "2      Mar        10691               True     14700.693267   \n",
       "3      Mar        11490               True     15799.360737   \n",
       "4      Mar        11837               True     16276.504181   \n",
       "..     ...          ...                ...              ...   \n",
       "221    Mar        18610               True     25589.739192   \n",
       "222    Mar        18658               True     25655.741743   \n",
       "223    Mar        18699               True     25712.118923   \n",
       "224    Mar        18726               True     25749.245358   \n",
       "225    Mar        18826               True     25886.750673   \n",
       "\n",
       "                 nameage                     _id_y             name_y  \\\n",
       "0      29Emily Goldsmith  5f171bebc94e506c5409650c    Emily Goldsmith   \n",
       "1         27Lena Placzek  5f171bebc94e506c54096505       Lena Placzek   \n",
       "2        26Mary Johnston  5f171bebc94e506c5409650e      Mary Johnston   \n",
       "3           29Amanda Fox  5f171bebc94e506c54096525         Amanda Fox   \n",
       "4      28Kaitlyn DiBello  5f171bebc94e506c54096513    Kaitlyn DiBello   \n",
       "..                   ...                       ...                ...   \n",
       "221   34Ksenia Stepanova  5f171cc0c94e506c54096af1   Ksenia Stepanova   \n",
       "222   34Kristen Mogavero  5f171cbfc94e506c54096a4d   Kristen Mogavero   \n",
       "223  32Nicole Lauterbach  5f171cbfc94e506c54096a21  Nicole Lauterbach   \n",
       "224     30Jennifer Coyne  5f171cbfc94e506c540969e6     Jennifer Coyne   \n",
       "225     34Rachel Stephan  5f171cbec94e506c5409691a     Rachel Stephan   \n",
       "\n",
       "      time_y  age_y         ag_y dist_y  Time(sec)_y  upper quartiles_y  \n",
       "0    0:05:15     29  Women 25-29   Mile          315               True  \n",
       "1    0:04:58     27  Women 25-29   Mile          298               True  \n",
       "2    0:05:18     26  Women 25-29   Mile          318               True  \n",
       "3    0:05:42     29  Women 25-29   Mile          342               True  \n",
       "4    0:05:26     28  Women 25-29   Mile          326               True  \n",
       "..       ...    ...          ...    ...          ...                ...  \n",
       "221  0:08:55     34  Women 30-34   Mile          535              False  \n",
       "222  0:08:00     34  Women 30-34   Mile          480               True  \n",
       "223  0:07:49     32  Women 30-34   Mile          469               True  \n",
       "224  0:07:34     30  Women 30-34   Mile          454               True  \n",
       "225  0:06:51     34  Women 30-34   Mile          411               True  \n",
       "\n",
       "[226 rows x 18 columns]"
      ]
     },
     "execution_count": 350,
     "metadata": {},
     "output_type": "execute_result"
    }
   ],
   "source": [
    "mmat = M_Mar[M_Mar['Time(sec)']<18864]\n",
    "wmat = W_Mar[W_Mar['Time(sec)']<18864]\n",
    "mmit = M_Mile[M_Mile['Time(sec)']<720]\n",
    "wmit = W_Mile[W_Mile['Time(sec)']<720]\n",
    "\n",
    "mmat['nameage'] =  mmat['age'].astype(str) + mmat[\"name\"]\n",
    "wmat['nameage'] = wmat['age'].astype(str) + wmat[\"name\"]\n",
    "mmit['nameage'] = mmit['age'].astype(str) + mmit[\"name\"]\n",
    "wmit['nameage'] = wmit['age'].astype(str) + wmit[\"name\"]\n",
    "\n",
    "\n",
    "\n",
    "repeats_m = pd.merge(left=mmat, right=mmit, left_on='nameage', right_on='nameage')\n",
    "repeats_w = pd.merge(left=wmat, right=wmit, left_on='nameage', right_on='nameage')"
   ]
  },
  {
   "cell_type": "code",
   "execution_count": 349,
   "metadata": {},
   "outputs": [
    {
     "data": {
      "text/html": [
       "<div>\n",
       "<style scoped>\n",
       "    .dataframe tbody tr th:only-of-type {\n",
       "        vertical-align: middle;\n",
       "    }\n",
       "\n",
       "    .dataframe tbody tr th {\n",
       "        vertical-align: top;\n",
       "    }\n",
       "\n",
       "    .dataframe thead th {\n",
       "        text-align: right;\n",
       "    }\n",
       "</style>\n",
       "<table border=\"1\" class=\"dataframe\">\n",
       "  <thead>\n",
       "    <tr style=\"text-align: right;\">\n",
       "      <th></th>\n",
       "      <th>age_x</th>\n",
       "      <th>Time(sec)_x</th>\n",
       "      <th>normalized_time</th>\n",
       "      <th>age_y</th>\n",
       "      <th>Time(sec)_y</th>\n",
       "    </tr>\n",
       "  </thead>\n",
       "  <tbody>\n",
       "    <tr>\n",
       "      <th>count</th>\n",
       "      <td>226.000000</td>\n",
       "      <td>226.000000</td>\n",
       "      <td>226.000000</td>\n",
       "      <td>226.000000</td>\n",
       "      <td>226.000000</td>\n",
       "    </tr>\n",
       "    <tr>\n",
       "      <th>mean</th>\n",
       "      <td>29.530973</td>\n",
       "      <td>15470.663717</td>\n",
       "      <td>21272.984935</td>\n",
       "      <td>29.530973</td>\n",
       "      <td>415.530973</td>\n",
       "    </tr>\n",
       "    <tr>\n",
       "      <th>std</th>\n",
       "      <td>2.781113</td>\n",
       "      <td>1995.534455</td>\n",
       "      <td>2743.965946</td>\n",
       "      <td>2.781113</td>\n",
       "      <td>49.266273</td>\n",
       "    </tr>\n",
       "    <tr>\n",
       "      <th>min</th>\n",
       "      <td>25.000000</td>\n",
       "      <td>8847.000000</td>\n",
       "      <td>12165.095252</td>\n",
       "      <td>25.000000</td>\n",
       "      <td>298.000000</td>\n",
       "    </tr>\n",
       "    <tr>\n",
       "      <th>25%</th>\n",
       "      <td>27.000000</td>\n",
       "      <td>14208.250000</td>\n",
       "      <td>19537.098972</td>\n",
       "      <td>27.000000</td>\n",
       "      <td>384.250000</td>\n",
       "    </tr>\n",
       "    <tr>\n",
       "      <th>50%</th>\n",
       "      <td>29.000000</td>\n",
       "      <td>15485.500000</td>\n",
       "      <td>21293.385613</td>\n",
       "      <td>29.000000</td>\n",
       "      <td>411.000000</td>\n",
       "    </tr>\n",
       "    <tr>\n",
       "      <th>75%</th>\n",
       "      <td>32.000000</td>\n",
       "      <td>17095.750000</td>\n",
       "      <td>23507.564954</td>\n",
       "      <td>32.000000</td>\n",
       "      <td>435.000000</td>\n",
       "    </tr>\n",
       "    <tr>\n",
       "      <th>max</th>\n",
       "      <td>34.000000</td>\n",
       "      <td>18826.000000</td>\n",
       "      <td>25886.750673</td>\n",
       "      <td>34.000000</td>\n",
       "      <td>621.000000</td>\n",
       "    </tr>\n",
       "  </tbody>\n",
       "</table>\n",
       "</div>"
      ],
      "text/plain": [
       "            age_x   Time(sec)_x  normalized_time       age_y  Time(sec)_y\n",
       "count  226.000000    226.000000       226.000000  226.000000   226.000000\n",
       "mean    29.530973  15470.663717     21272.984935   29.530973   415.530973\n",
       "std      2.781113   1995.534455      2743.965946    2.781113    49.266273\n",
       "min     25.000000   8847.000000     12165.095252   25.000000   298.000000\n",
       "25%     27.000000  14208.250000     19537.098972   27.000000   384.250000\n",
       "50%     29.000000  15485.500000     21293.385613   29.000000   411.000000\n",
       "75%     32.000000  17095.750000     23507.564954   32.000000   435.000000\n",
       "max     34.000000  18826.000000     25886.750673   34.000000   621.000000"
      ]
     },
     "execution_count": 349,
     "metadata": {},
     "output_type": "execute_result"
    }
   ],
   "source": [
    "repeats_w.describe()"
   ]
  },
  {
   "cell_type": "code",
   "execution_count": null,
   "metadata": {},
   "outputs": [],
   "source": []
  }
 ],
 "metadata": {
  "kernelspec": {
   "display_name": "Python 3",
   "language": "python",
   "name": "python3"
  },
  "language_info": {
   "codemirror_mode": {
    "name": "ipython",
    "version": 3
   },
   "file_extension": ".py",
   "mimetype": "text/x-python",
   "name": "python",
   "nbconvert_exporter": "python",
   "pygments_lexer": "ipython3",
   "version": "3.7.7"
  }
 },
 "nbformat": 4,
 "nbformat_minor": 4
}
