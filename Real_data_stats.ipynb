{
 "cells": [
  {
   "cell_type": "code",
   "execution_count": 74,
   "metadata": {},
   "outputs": [],
   "source": [
    "from pymongo import MongoClient\n",
    "import pprint\n",
    "import pandas as pd\n",
    "# Requests sends and recieves HTTP requests.\n",
    "import requests\n",
    "import json\n",
    "import time\n",
    "from scipy import stats"
   ]
  },
  {
   "cell_type": "code",
   "execution_count": 3,
   "metadata": {},
   "outputs": [],
   "source": [
    "import matplotlib.pyplot as plt"
   ]
  },
  {
   "cell_type": "code",
   "execution_count": 4,
   "metadata": {},
   "outputs": [],
   "source": [
    "client = MongoClient('localhost', 27017)\n",
    "results = client['results']\n",
    "runners = results['indiv']\n",
    "new = client['new_db']\n",
    "indiv = new['individual']"
   ]
  },
  {
   "cell_type": "code",
   "execution_count": 5,
   "metadata": {},
   "outputs": [
    {
     "data": {
      "text/plain": [
       "['indiv', 'source']"
      ]
     },
     "execution_count": 5,
     "metadata": {},
     "output_type": "execute_result"
    }
   ],
   "source": [
    "results.list_collection_names()"
   ]
  },
  {
   "cell_type": "code",
   "execution_count": 6,
   "metadata": {},
   "outputs": [
    {
     "data": {
      "text/plain": [
       "19311"
      ]
     },
     "execution_count": 6,
     "metadata": {},
     "output_type": "execute_result"
    }
   ],
   "source": [
    "len(list(runners.find()))"
   ]
  },
  {
   "cell_type": "code",
   "execution_count": 7,
   "metadata": {},
   "outputs": [
    {
     "data": {
      "text/html": [
       "<div>\n",
       "<style scoped>\n",
       "    .dataframe tbody tr th:only-of-type {\n",
       "        vertical-align: middle;\n",
       "    }\n",
       "\n",
       "    .dataframe tbody tr th {\n",
       "        vertical-align: top;\n",
       "    }\n",
       "\n",
       "    .dataframe thead th {\n",
       "        text-align: right;\n",
       "    }\n",
       "</style>\n",
       "<table border=\"1\" class=\"dataframe\">\n",
       "  <thead>\n",
       "    <tr style=\"text-align: right;\">\n",
       "      <th></th>\n",
       "      <th>_id</th>\n",
       "      <th>name</th>\n",
       "      <th>time</th>\n",
       "      <th>age</th>\n",
       "      <th>ag</th>\n",
       "      <th>dist</th>\n",
       "      <th>Time(sec)</th>\n",
       "    </tr>\n",
       "  </thead>\n",
       "  <tbody>\n",
       "    <tr>\n",
       "      <th>0</th>\n",
       "      <td>5f170b3bc94e506c54092382</td>\n",
       "      <td>Abdi Abdirahman</td>\n",
       "      <td>2:11:34</td>\n",
       "      <td>42</td>\n",
       "      <td>Men 40-44</td>\n",
       "      <td>Mar</td>\n",
       "      <td>7894</td>\n",
       "    </tr>\n",
       "    <tr>\n",
       "      <th>1</th>\n",
       "      <td>5f170b3bc94e506c54092383</td>\n",
       "      <td>Mustafa Mohamed</td>\n",
       "      <td>2:19:41</td>\n",
       "      <td>40</td>\n",
       "      <td>Men 40-44</td>\n",
       "      <td>Mar</td>\n",
       "      <td>8381</td>\n",
       "    </tr>\n",
       "    <tr>\n",
       "      <th>2</th>\n",
       "      <td>5f170b3bc94e506c54092384</td>\n",
       "      <td>Fredison Costa</td>\n",
       "      <td>2:21:29</td>\n",
       "      <td>42</td>\n",
       "      <td>Men 40-44</td>\n",
       "      <td>Mar</td>\n",
       "      <td>8489</td>\n",
       "    </tr>\n",
       "    <tr>\n",
       "      <th>3</th>\n",
       "      <td>5f170b3bc94e506c54092385</td>\n",
       "      <td>Vladimir Shatrov</td>\n",
       "      <td>2:26:17</td>\n",
       "      <td>41</td>\n",
       "      <td>Men 40-44</td>\n",
       "      <td>Mar</td>\n",
       "      <td>8777</td>\n",
       "    </tr>\n",
       "    <tr>\n",
       "      <th>4</th>\n",
       "      <td>5f170b3bc94e506c54092386</td>\n",
       "      <td>Miguel Ferrer</td>\n",
       "      <td>2:27:15</td>\n",
       "      <td>41</td>\n",
       "      <td>Men 40-44</td>\n",
       "      <td>Mar</td>\n",
       "      <td>8835</td>\n",
       "    </tr>\n",
       "  </tbody>\n",
       "</table>\n",
       "</div>"
      ],
      "text/plain": [
       "                        _id              name     time  age         ag dist  \\\n",
       "0  5f170b3bc94e506c54092382   Abdi Abdirahman  2:11:34   42  Men 40-44  Mar   \n",
       "1  5f170b3bc94e506c54092383   Mustafa Mohamed  2:19:41   40  Men 40-44  Mar   \n",
       "2  5f170b3bc94e506c54092384    Fredison Costa  2:21:29   42  Men 40-44  Mar   \n",
       "3  5f170b3bc94e506c54092385  Vladimir Shatrov  2:26:17   41  Men 40-44  Mar   \n",
       "4  5f170b3bc94e506c54092386     Miguel Ferrer  2:27:15   41  Men 40-44  Mar   \n",
       "\n",
       "   Time(sec)  \n",
       "0       7894  \n",
       "1       8381  \n",
       "2       8489  \n",
       "3       8777  \n",
       "4       8835  "
      ]
     },
     "execution_count": 7,
     "metadata": {},
     "output_type": "execute_result"
    }
   ],
   "source": [
    "### Create dataframe from indiv results collection, converts time to seconds\n",
    "df = pd.DataFrame(list(runners.find()))\n",
    "df.head()\n",
    "df['Time(sec)'] = pd.to_timedelta(df['time']).astype('timedelta64[s]').astype(int)#.map('{:,.2f}'.format)\n",
    "df.head()"
   ]
  },
  {
   "cell_type": "code",
   "execution_count": 20,
   "metadata": {},
   "outputs": [],
   "source": [
    "##set up 4 diff DF\n",
    "agroup = ['Men 40-44', 'Men 45-49', 'Women 25-29', 'Women 30-34']\n",
    "dist = ['Mar', 'Mar', 'Mile', 'Mile']\n",
    "\n",
    "#M_Mar = df[df['ag']=='Men 40-44'& df['dist']=='Mar']\n",
    "\n",
    "M_Mar = df[df.ag.isin(agroup[:2]) & \n",
    "           df.dist.isin(dist[:2])]\n",
    "W_Mar = df[df.ag.isin(agroup[2:]) & \n",
    "           df.dist.isin(dist[:2])]\n",
    "M_Mile = df[df.ag.isin(agroup[:2]) & \n",
    "           df.dist.isin(dist[2:])]\n",
    "W_Mile = df[df.ag.isin(agroup[2:]) & \n",
    "           df.dist.isin(dist[2:])]"
   ]
  },
  {
   "cell_type": "code",
   "execution_count": 143,
   "metadata": {},
   "outputs": [
    {
     "name": "stderr",
     "output_type": "stream",
     "text": [
      "/Users/annebarry/opt/anaconda3/lib/python3.7/site-packages/ipykernel_launcher.py:3: SettingWithCopyWarning: \n",
      "A value is trying to be set on a copy of a slice from a DataFrame.\n",
      "Try using .loc[row_indexer,col_indexer] = value instead\n",
      "\n",
      "See the caveats in the documentation: https://pandas.pydata.org/pandas-docs/stable/user_guide/indexing.html#returning-a-view-versus-a-copy\n",
      "  This is separate from the ipykernel package so we can avoid doing imports until\n"
     ]
    }
   ],
   "source": [
    "def add_quantile(df):\n",
    "    cutoff = df['Time(sec)'].quantile(.75)\n",
    "    df['upper quartiles'] = df['Time(sec)']<cutoff\n",
    "    return df\n",
    "\n",
    "    \n",
    "raw_list_df = [M_Mar, W_Mar, M_Mile, W_Mile]\n",
    "\n",
    "quant_list = [add_quantile(x) for x in raw_list_df]\n",
    "\n",
    "quant_list[0].tail()\n",
    "quant_list[1].describe()\n",
    "\n",
    "\n",
    "\n",
    "\n"
   ]
  },
  {
   "cell_type": "code",
   "execution_count": 150,
   "metadata": {
    "scrolled": true
   },
   "outputs": [
    {
     "data": {
      "image/png": "[encoded data removed]",
      "text/plain": [
       "<Figure size 432x288 with 2 Axes>"
      ]
     },
     "metadata": {
      "needs_background": "light"
     },
     "output_type": "display_data"
    },
    {
     "data": {
      "image/png": "[encoded data removed]",
      "text/plain": [
       "<Figure size 432x288 with 2 Axes>"
      ]
     },
     "metadata": {
      "needs_background": "light"
     },
     "output_type": "display_data"
    }
   ],
   "source": [
    "secs_mile = [300, 400, 500, 600, 700, 800]\n",
    "secs_mar = [7500, 10000, 12500, 15000, 17500, 20000, 22500, 25000]\n",
    "\n",
    "def format_time(ls):\n",
    "    l = []\n",
    "    for i in ls:\n",
    "        l.append(time.strftime('%H:%M:%S', time.gmtime(i)))\n",
    "    return l\n",
    "\n",
    "\n",
    "def plot_histograms(data, density = False):\n",
    "    fig,ax = plt.subplots(2,1)\n",
    "\n",
    "## marathon data\n",
    "    ax[0].hist([data[0]['Time(sec)'], data[1]['Time(sec)']], bins = 10, range = (7800,25000), align = ('mid'), color = ['#1494D8','#B780F6'], label = ['Men', 'Women'])   \n",
    "    ax[0].spines[\"bottom\"].set_visible(True)      \n",
    "    ax[0].spines[\"left\"].set_visible(True)\n",
    "#plt.xticks(fontsize=30)\n",
    "    if density == True:\n",
    "        ax[0].set_title('Marathon Finish Times for Men 40-49 and Women 25-24 as Density Functions')\n",
    "    else:\n",
    "        ax[0].set_title('Marathon Finish Times for Men 40-49 and Women 25-34')\n",
    "    ax[0].set_xlabel('Time (seconds)')\n",
    "    ax[0].set_ylabel('Finishers')\n",
    "    #ax[0].set_xticks(format_time(secs))\n",
    "    ax[0].set_xticklabels(format_time(secs_mar))\n",
    "##\n",
    "    ax[1].hist([data[2]['Time(sec)'], data[3]['Time(sec)']], bins = 10, range = (240,800), align = ('mid'), color = ['#1494D8','#B780F6'], label = ['Men', 'Women'])   \n",
    "    ax[1].spines[\"bottom\"].set_visible(True)      \n",
    "    ax[1].spines[\"left\"].set_visible(True)\n",
    "#plt.xticks(fontsize=30)\n",
    "    if density == True:\n",
    "        ax[1].set_title('Mile Finish Times for Men 40-49 and Women 25-24 as Density Functions')\n",
    "    else:\n",
    "        ax[1].set_title('Mile Finish Times for Men 40-49 and Women 25-34')\n",
    "    ax[1].set_xlabel('Time (seconds)')\n",
    "    ax[1].set_ylabel('Finishers')\n",
    "    ax[1].set_xticklabels(format_time(secs_mile))\n",
    "\n",
    "    fig.tight_layout()\n",
    "\n",
    "plot_histograms(quant_list)\n",
    "plot_histograms(quant_list, True)\n"
   ]
  },
  {
   "cell_type": "code",
   "execution_count": 129,
   "metadata": {},
   "outputs": [
    {
     "name": "stdout",
     "output_type": "stream",
     "text": [
      "15653\n",
      "(6.172639721380716e-150, True)\n",
      "The mean of the men's times is 15653 with a standard deviation of 3235. \n",
      "For the women, the mean is 16992 with a standard deviation of 3253. \n",
      "Using a t-test with 0.95 significance, we get a p-value of 6.172639721380716e-150 meaning that the null hypothesis is False.\n"
     ]
    }
   ],
   "source": [
    "men_mean = round(quant_list[0]['Time(sec)'].mean())\n",
    "men_std = round(quant_list[0]['Time(sec)'].std())\n",
    "\n",
    "print(men_mean)\n",
    "women_mean = round(quant_list[1]['Time(sec)'].mean())\n",
    "women_std = round(quant_list[1]['Time(sec)'].std())\n",
    "\n",
    "\n",
    "def calculate_t_test(sample1, sample2, type_I_error_rate):\n",
    "    ttest = stats.ttest_ind(sample1, sample2, equal_var = False)\n",
    "    return (ttest[1], ttest[1] < type_I_error_rate)\n",
    "\n",
    "error = .05\n",
    "print(calculate_t_test((quant_list[0])['Time(sec)'], (quant_list[1])['Time(sec)'], error))\n",
    "# print(results)\n",
    "print('''The mean of the men's times is {} with a standard deviation of {}. \n",
    "For the women, the mean is {} with a standard deviation of {}. \n",
    "Using a t-test with {} significance, we get a p-value of {} meaning that the null hypothesis is {}.'''.format(men_mean, men_std, women_mean, women_std, 1- error, results[0], results == False)) "
   ]
  },
  {
   "cell_type": "code",
   "execution_count": 96,
   "metadata": {},
   "outputs": [
    {
     "ename": "TypeError",
     "evalue": "'str' object is not callable",
     "output_type": "error",
     "traceback": [
      "\u001b[0;31m---------------------------------------------------------------------------\u001b[0m",
      "\u001b[0;31mTypeError\u001b[0m                                 Traceback (most recent call last)",
      "\u001b[0;32m<ipython-input-96-f358950aec74>\u001b[0m in \u001b[0;36m<module>\u001b[0;34m\u001b[0m\n\u001b[1;32m      1\u001b[0m \u001b[0mmen_mean\u001b[0m \u001b[0;34m=\u001b[0m \u001b[0mquant_list\u001b[0m\u001b[0;34m[\u001b[0m\u001b[0;36m0\u001b[0m\u001b[0;34m]\u001b[0m\u001b[0;34m[\u001b[0m\u001b[0;34m'Time(sec)'\u001b[0m\u001b[0;34m]\u001b[0m\u001b[0;34m.\u001b[0m\u001b[0mmean\u001b[0m\u001b[0;34m(\u001b[0m\u001b[0;34m)\u001b[0m\u001b[0;34m\u001b[0m\u001b[0;34m\u001b[0m\u001b[0m\n\u001b[1;32m      2\u001b[0m \u001b[0mmen_std\u001b[0m \u001b[0;34m=\u001b[0m \u001b[0mquant_list\u001b[0m\u001b[0;34m[\u001b[0m\u001b[0;36m0\u001b[0m\u001b[0;34m]\u001b[0m\u001b[0;34m[\u001b[0m\u001b[0;34m'Time(sec)'\u001b[0m\u001b[0;34m]\u001b[0m\u001b[0;34m.\u001b[0m\u001b[0mstd\u001b[0m\u001b[0;34m(\u001b[0m\u001b[0;34m)\u001b[0m\u001b[0;34m\u001b[0m\u001b[0;34m\u001b[0m\u001b[0m\n\u001b[0;32m----> 3\u001b[0;31m \u001b[0mprint\u001b[0m\u001b[0;34m(\u001b[0m\u001b[0mtype\u001b[0m\u001b[0;34m(\u001b[0m\u001b[0mmen_mean\u001b[0m\u001b[0;34m)\u001b[0m\u001b[0;34m)\u001b[0m\u001b[0;34m\u001b[0m\u001b[0;34m\u001b[0m\u001b[0m\n\u001b[0m\u001b[1;32m      4\u001b[0m \u001b[0mwomen_mean\u001b[0m \u001b[0;34m=\u001b[0m \u001b[0mquant_list\u001b[0m\u001b[0;34m[\u001b[0m\u001b[0;36m1\u001b[0m\u001b[0;34m]\u001b[0m\u001b[0;34m[\u001b[0m\u001b[0;34m'Time(sec)'\u001b[0m\u001b[0;34m]\u001b[0m\u001b[0;34m.\u001b[0m\u001b[0mmean\u001b[0m\u001b[0;34m(\u001b[0m\u001b[0;34m)\u001b[0m\u001b[0;34m\u001b[0m\u001b[0;34m\u001b[0m\u001b[0m\n\u001b[1;32m      5\u001b[0m \u001b[0mwomen_std\u001b[0m \u001b[0;34m=\u001b[0m \u001b[0mquant_list\u001b[0m\u001b[0;34m[\u001b[0m\u001b[0;36m1\u001b[0m\u001b[0;34m]\u001b[0m\u001b[0;34m[\u001b[0m\u001b[0;34m'Time(sec)'\u001b[0m\u001b[0;34m]\u001b[0m\u001b[0;34m.\u001b[0m\u001b[0mstd\u001b[0m\u001b[0;34m(\u001b[0m\u001b[0;34m)\u001b[0m\u001b[0;34m\u001b[0m\u001b[0;34m\u001b[0m\u001b[0m\n",
      "\u001b[0;31mTypeError\u001b[0m: 'str' object is not callable"
     ]
    }
   ],
   "source": [
    "men_mean = quant_list[0]['Time(sec)'].mean()\n",
    "men_std = quant_list[0]['Time(sec)'].std()\n",
    "print(type(men_mean))\n",
    "women_mean = quant_list[1]['Time(sec)'].mean()\n",
    "women_std = quant_list[1]['Time(sec)'].std()"
   ]
  },
  {
   "cell_type": "code",
   "execution_count": 110,
   "metadata": {},
   "outputs": [
    {
     "data": {
      "text/plain": [
       "15652.911452427585"
      ]
     },
     "execution_count": 110,
     "metadata": {},
     "output_type": "execute_result"
    }
   ],
   "source": [
    "mean = quant_list[0]['Time(sec)'].mean()\n",
    "mean"
   ]
  },
  {
   "cell_type": "code",
   "execution_count": 117,
   "metadata": {},
   "outputs": [],
   "source": [
    "del print"
   ]
  },
  {
   "cell_type": "code",
   "execution_count": null,
   "metadata": {},
   "outputs": [],
   "source": []
  }
 ],
 "metadata": {
  "kernelspec": {
   "display_name": "Python 3",
   "language": "python",
   "name": "python3"
  },
  "language_info": {
   "codemirror_mode": {
    "name": "ipython",
    "version": 3
   },
   "file_extension": ".py",
   "mimetype": "text/x-python",
   "name": "python",
   "nbconvert_exporter": "python",
   "pygments_lexer": "ipython3",
   "version": "3.7.7"
  }
 },
 "nbformat": 4,
 "nbformat_minor": 4
}
