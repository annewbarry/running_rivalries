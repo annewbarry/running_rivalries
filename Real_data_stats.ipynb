{
 "cells": [
  {
   "cell_type": "code",
   "execution_count": 2,
   "metadata": {},
   "outputs": [],
   "source": [
    "from pymongo import MongoClient\n",
    "import pprint\n",
    "import pandas as pd\n",
    "# Requests sends and recieves HTTP requests.\n",
    "import requests\n",
    "import json\n",
    "import time"
   ]
  },
  {
   "cell_type": "code",
   "execution_count": 3,
   "metadata": {},
   "outputs": [],
   "source": [
    "import matplotlib.pyplot as plt"
   ]
  },
  {
   "cell_type": "code",
   "execution_count": 4,
   "metadata": {},
   "outputs": [],
   "source": [
    "client = MongoClient('localhost', 27017)\n",
    "results = client['results']\n",
    "runners = results['indiv']\n",
    "new = client['new_db']\n",
    "indiv = new['individual']"
   ]
  },
  {
   "cell_type": "code",
   "execution_count": 5,
   "metadata": {},
   "outputs": [
    {
     "data": {
      "text/plain": [
       "['indiv', 'source']"
      ]
     },
     "execution_count": 5,
     "metadata": {},
     "output_type": "execute_result"
    }
   ],
   "source": [
    "results.list_collection_names()"
   ]
  },
  {
   "cell_type": "code",
   "execution_count": 6,
   "metadata": {},
   "outputs": [
    {
     "data": {
      "text/plain": [
       "19311"
      ]
     },
     "execution_count": 6,
     "metadata": {},
     "output_type": "execute_result"
    }
   ],
   "source": [
    "len(list(runners.find()))"
   ]
  },
  {
   "cell_type": "code",
   "execution_count": 7,
   "metadata": {},
   "outputs": [
    {
     "data": {
      "text/html": [
       "<div>\n",
       "<style scoped>\n",
       "    .dataframe tbody tr th:only-of-type {\n",
       "        vertical-align: middle;\n",
       "    }\n",
       "\n",
       "    .dataframe tbody tr th {\n",
       "        vertical-align: top;\n",
       "    }\n",
       "\n",
       "    .dataframe thead th {\n",
       "        text-align: right;\n",
       "    }\n",
       "</style>\n",
       "<table border=\"1\" class=\"dataframe\">\n",
       "  <thead>\n",
       "    <tr style=\"text-align: right;\">\n",
       "      <th></th>\n",
       "      <th>_id</th>\n",
       "      <th>name</th>\n",
       "      <th>time</th>\n",
       "      <th>age</th>\n",
       "      <th>ag</th>\n",
       "      <th>dist</th>\n",
       "      <th>Time(sec)</th>\n",
       "    </tr>\n",
       "  </thead>\n",
       "  <tbody>\n",
       "    <tr>\n",
       "      <th>0</th>\n",
       "      <td>5f170b3bc94e506c54092382</td>\n",
       "      <td>Abdi Abdirahman</td>\n",
       "      <td>2:11:34</td>\n",
       "      <td>42</td>\n",
       "      <td>Men 40-44</td>\n",
       "      <td>Mar</td>\n",
       "      <td>7894</td>\n",
       "    </tr>\n",
       "    <tr>\n",
       "      <th>1</th>\n",
       "      <td>5f170b3bc94e506c54092383</td>\n",
       "      <td>Mustafa Mohamed</td>\n",
       "      <td>2:19:41</td>\n",
       "      <td>40</td>\n",
       "      <td>Men 40-44</td>\n",
       "      <td>Mar</td>\n",
       "      <td>8381</td>\n",
       "    </tr>\n",
       "    <tr>\n",
       "      <th>2</th>\n",
       "      <td>5f170b3bc94e506c54092384</td>\n",
       "      <td>Fredison Costa</td>\n",
       "      <td>2:21:29</td>\n",
       "      <td>42</td>\n",
       "      <td>Men 40-44</td>\n",
       "      <td>Mar</td>\n",
       "      <td>8489</td>\n",
       "    </tr>\n",
       "    <tr>\n",
       "      <th>3</th>\n",
       "      <td>5f170b3bc94e506c54092385</td>\n",
       "      <td>Vladimir Shatrov</td>\n",
       "      <td>2:26:17</td>\n",
       "      <td>41</td>\n",
       "      <td>Men 40-44</td>\n",
       "      <td>Mar</td>\n",
       "      <td>8777</td>\n",
       "    </tr>\n",
       "    <tr>\n",
       "      <th>4</th>\n",
       "      <td>5f170b3bc94e506c54092386</td>\n",
       "      <td>Miguel Ferrer</td>\n",
       "      <td>2:27:15</td>\n",
       "      <td>41</td>\n",
       "      <td>Men 40-44</td>\n",
       "      <td>Mar</td>\n",
       "      <td>8835</td>\n",
       "    </tr>\n",
       "  </tbody>\n",
       "</table>\n",
       "</div>"
      ],
      "text/plain": [
       "                        _id              name     time  age         ag dist  \\\n",
       "0  5f170b3bc94e506c54092382   Abdi Abdirahman  2:11:34   42  Men 40-44  Mar   \n",
       "1  5f170b3bc94e506c54092383   Mustafa Mohamed  2:19:41   40  Men 40-44  Mar   \n",
       "2  5f170b3bc94e506c54092384    Fredison Costa  2:21:29   42  Men 40-44  Mar   \n",
       "3  5f170b3bc94e506c54092385  Vladimir Shatrov  2:26:17   41  Men 40-44  Mar   \n",
       "4  5f170b3bc94e506c54092386     Miguel Ferrer  2:27:15   41  Men 40-44  Mar   \n",
       "\n",
       "   Time(sec)  \n",
       "0       7894  \n",
       "1       8381  \n",
       "2       8489  \n",
       "3       8777  \n",
       "4       8835  "
      ]
     },
     "execution_count": 7,
     "metadata": {},
     "output_type": "execute_result"
    }
   ],
   "source": [
    "### Create dataframe from indiv results collection, converts time to seconds\n",
    "df = pd.DataFrame(list(runners.find()))\n",
    "df.head()\n",
    "df['Time(sec)'] = pd.to_timedelta(df['time']).astype('timedelta64[s]').astype(int)#.map('{:,.2f}'.format)\n",
    "df.head()"
   ]
  },
  {
   "cell_type": "code",
   "execution_count": 20,
   "metadata": {},
   "outputs": [],
   "source": [
    "##set up 4 diff DF\n",
    "agroup = ['Men 40-44', 'Men 45-49', 'Women 25-29', 'Women 30-34']\n",
    "dist = ['Mar', 'Mar', 'Mile', 'Mile']\n",
    "\n",
    "#M_Mar = df[df['ag']=='Men 40-44'& df['dist']=='Mar']\n",
    "\n",
    "M_Mar = df[df.ag.isin(agroup[:2]) & \n",
    "           df.dist.isin(dist[:2])]\n",
    "W_Mar = df[df.ag.isin(agroup[2:]) & \n",
    "           df.dist.isin(dist[:2])]\n",
    "M_Mile = df[df.ag.isin(agroup[:2]) & \n",
    "           df.dist.isin(dist[2:])]\n",
    "W_Mile = df[df.ag.isin(agroup[2:]) & \n",
    "           df.dist.isin(dist[2:])]"
   ]
  },
  {
   "cell_type": "code",
   "execution_count": 24,
   "metadata": {},
   "outputs": [
    {
     "name": "stdout",
     "output_type": "stream",
     "text": [
      "[                           _id              name     time  age         ag  \\\n",
      "0     5f170b3bc94e506c54092382   Abdi Abdirahman  2:11:34   42  Men 40-44   \n",
      "1     5f170b3bc94e506c54092383   Mustafa Mohamed  2:19:41   40  Men 40-44   \n",
      "2     5f170b3bc94e506c54092384    Fredison Costa  2:21:29   42  Men 40-44   \n",
      "3     5f170b3bc94e506c54092385  Vladimir Shatrov  2:26:17   41  Men 40-44   \n",
      "4     5f170b3bc94e506c54092386     Miguel Ferrer  2:27:15   41  Men 40-44   \n",
      "...                        ...               ...      ...  ...        ...   \n",
      "9696  5f1711aac94e506c54094963  Derrick Lawrence  8:04:11   49  Men 45-49   \n",
      "9697  5f1711aac94e506c54094964       Paul Biguvu  8:04:12   46  Men 45-49   \n",
      "9698  5f1711aac94e506c54094965  Joseph Frederick  8:11:31   47  Men 45-49   \n",
      "9699  5f1711aac94e506c54094966      Steve Dubois  8:15:53   49  Men 45-49   \n",
      "9700  5f1711aac94e506c54094967      Tane Walters  8:22:20   46  Men 45-49   \n",
      "\n",
      "     dist  Time(sec)  upper quartiles  \n",
      "0     Mar       7894             True  \n",
      "1     Mar       8381             True  \n",
      "2     Mar       8489             True  \n",
      "3     Mar       8777             True  \n",
      "4     Mar       8835             True  \n",
      "...   ...        ...              ...  \n",
      "9696  Mar      29051            False  \n",
      "9697  Mar      29052            False  \n",
      "9698  Mar      29491            False  \n",
      "9699  Mar      29753            False  \n",
      "9700  Mar      30140            False  \n",
      "\n",
      "[9701 rows x 8 columns],                             _id                 name     time  age  \\\n",
      "9701   5f17166fc94e506c54094969  Joyciline Jepkosgei  2:22:38   25   \n",
      "9702   5f17166fc94e506c5409496a             Ruti Aga  2:25:51   25   \n",
      "9703   5f17166fc94e506c5409496b          Gerda Steyn  2:27:48   29   \n",
      "9704   5f17166fc94e506c5409496c         Katy Jermann  2:31:55   27   \n",
      "9705   5f17166fc94e506c5409496d         Margo Malone  2:47:52   26   \n",
      "...                         ...                  ...      ...  ...   \n",
      "16751  5f171b18c94e506c540964f4        Desiree Moore  8:22:34   30   \n",
      "16752  5f171b18c94e506c540964f5       Irene Prudente  8:27:38   33   \n",
      "16753  5f171b18c94e506c540964f6         Katie Kracus  8:31:58   33   \n",
      "16754  5f171b18c94e506c540964f7         Beatriz Ruiz  8:34:51   34   \n",
      "16755  5f171b18c94e506c540964f8     Lissette Andares  8:37:21   30   \n",
      "\n",
      "                ag dist  Time(sec)  upper quartiles  \n",
      "9701   Women 25-29  Mar       8558             True  \n",
      "9702   Women 25-29  Mar       8751             True  \n",
      "9703   Women 25-29  Mar       8868             True  \n",
      "9704   Women 25-29  Mar       9115             True  \n",
      "9705   Women 25-29  Mar      10072             True  \n",
      "...            ...  ...        ...              ...  \n",
      "16751  Women 30-34  Mar      30154            False  \n",
      "16752  Women 30-34  Mar      30458            False  \n",
      "16753  Women 30-34  Mar      30718            False  \n",
      "16754  Women 30-34  Mar      30891            False  \n",
      "16755  Women 30-34  Mar      31041            False  \n",
      "\n",
      "[7055 rows x 8 columns],                             _id                 name     time  age         ag  \\\n",
      "18444  5f171d69c94e506c54096b94  Christopher Naimoli  0:04:33   40  Men 40-44   \n",
      "18445  5f171d69c94e506c54096b95     Darragh Halpenny  0:04:43   40  Men 40-44   \n",
      "18446  5f171d69c94e506c54096b96         Matthew Wong  0:04:48   41  Men 40-44   \n",
      "18447  5f171d69c94e506c54096b97           Clint Bell  0:04:49   40  Men 40-44   \n",
      "18448  5f171d69c94e506c54096b98    Terrence McGovern  0:04:50   41  Men 40-44   \n",
      "...                         ...                  ...      ...  ...        ...   \n",
      "19306  5f171dcec94e506c54096ef3         Gideon Evans  0:12:13   48  Men 45-49   \n",
      "19307  5f171dcec94e506c54096ef4         David Rivera  0:13:18   47  Men 45-49   \n",
      "19308  5f171dcec94e506c54096ef5         John Ledonio  0:15:21   49  Men 45-49   \n",
      "19309  5f171dcec94e506c54096ef6         Avni Jahjaga  0:50:05   46  Men 45-49   \n",
      "19310  5f171dcec94e506c54096ef7          Ian Delaney  0:51:53   45  Men 45-49   \n",
      "\n",
      "       dist  Time(sec)  upper quartiles  \n",
      "18444  Mile        273             True  \n",
      "18445  Mile        283             True  \n",
      "18446  Mile        288             True  \n",
      "18447  Mile        289             True  \n",
      "18448  Mile        290             True  \n",
      "...     ...        ...              ...  \n",
      "19306  Mile        733            False  \n",
      "19307  Mile        798            False  \n",
      "19308  Mile        921            False  \n",
      "19309  Mile       3005            False  \n",
      "19310  Mile       3113            False  \n",
      "\n",
      "[867 rows x 8 columns],                             _id                name     time  age  \\\n",
      "16756  5f171beac94e506c540964fa        Emily Lipari  0:04:28   26   \n",
      "16757  5f171beac94e506c540964fb       Lianne Farber  0:04:29   27   \n",
      "16758  5f171beac94e506c540964fc      Katrina Coogan  0:04:29   25   \n",
      "16759  5f171beac94e506c540964fd         Megan Mansy  0:04:31   25   \n",
      "16760  5f171beac94e506c540964fe        Mariah Kelly  0:04:32   28   \n",
      "...                         ...                 ...      ...  ...   \n",
      "18439  5f171cc0c94e506c54096b8e       Isabel Sierra  0:14:10   30   \n",
      "18440  5f171cc0c94e506c54096b8f          Katie Kuhn  0:14:15   34   \n",
      "18441  5f171cc0c94e506c54096b90       Megan Raelson  0:14:15   31   \n",
      "18442  5f171cc0c94e506c54096b91    Colleen Sullivan  0:14:37   32   \n",
      "18443  5f171cc0c94e506c54096b92  Katarzyna Stefanov  0:15:52   32   \n",
      "\n",
      "                ag  dist  Time(sec)  upper quartiles  \n",
      "16756  Women 25-29  Mile        268             True  \n",
      "16757  Women 25-29  Mile        269             True  \n",
      "16758  Women 25-29  Mile        269             True  \n",
      "16759  Women 25-29  Mile        271             True  \n",
      "16760  Women 25-29  Mile        272             True  \n",
      "...            ...   ...        ...              ...  \n",
      "18439  Women 30-34  Mile        850            False  \n",
      "18440  Women 30-34  Mile        855            False  \n",
      "18441  Women 30-34  Mile        855            False  \n",
      "18442  Women 30-34  Mile        877            False  \n",
      "18443  Women 30-34  Mile        952            False  \n",
      "\n",
      "[1688 rows x 8 columns]]\n"
     ]
    },
    {
     "name": "stderr",
     "output_type": "stream",
     "text": [
      "/Users/annebarry/opt/anaconda3/lib/python3.7/site-packages/ipykernel_launcher.py:3: SettingWithCopyWarning: \n",
      "A value is trying to be set on a copy of a slice from a DataFrame.\n",
      "Try using .loc[row_indexer,col_indexer] = value instead\n",
      "\n",
      "See the caveats in the documentation: https://pandas.pydata.org/pandas-docs/stable/user_guide/indexing.html#returning-a-view-versus-a-copy\n",
      "  This is separate from the ipykernel package so we can avoid doing imports until\n"
     ]
    }
   ],
   "source": [
    "def add_quantile(df):\n",
    "    cutoff = df['Time(sec)'].quantile(.75)\n",
    "    df['upper quartiles'] = df['Time(sec)']<cutoff\n",
    "    return df\n",
    "\n",
    "    \n",
    "raw_list_df = [M_Mar, W_Mar, M_Mile, W_Mile]\n",
    "\n",
    "quant_list = [add_quantile(x) for x in raw_list_df]\n",
    "\n",
    "quant_list[0].tail()\n",
    "\n"
   ]
  },
  {
   "cell_type": "code",
   "execution_count": 48,
   "metadata": {
    "scrolled": true
   },
   "outputs": [
    {
     "data": {
      "image/png": "[encoded data removed]",
      "text/plain": [
       "<Figure size 432x288 with 2 Axes>"
      ]
     },
     "metadata": {
      "needs_background": "light"
     },
     "output_type": "display_data"
    }
   ],
   "source": [
    "fig,ax = plt.subplots(2,1)\n",
    "\n",
    "## marathon data\n",
    "ax[0].hist([quant_list[0]['Time(sec)'], quant_list[1]['Time(sec)']], bins = 10, range = (7800,25000), align = ('mid'), color = ['#1494D8','#B780F6'], label = ['Men', 'Women'])   \n",
    "ax[0].spines[\"bottom\"].set_visible(True)      \n",
    "ax[0].spines[\"left\"].set_visible(True)\n",
    "#plt.xticks(fontsize=30)\n",
    "ax[0].set_title('Marathon Finish Times for Men 40-49 and Women 25-34')\n",
    "ax[0].set_xlabel('Time (seconds)')\n",
    "ax[0].set_ylabel('Finishers')\n",
    "\n",
    "##\n",
    "ax[1].hist([quant_list[2]['Time(sec)'], quant_list[3]['Time(sec)']], bins = 10, range = (7800,25000), align = ('mid'), color = ['#1494D8','#B780F6'], label = ['Men', 'Women'])   \n",
    "ax[1].spines[\"bottom\"].set_visible(True)      \n",
    "ax[1].spines[\"left\"].set_visible(True)\n",
    "#plt.xticks(fontsize=30)\n",
    "ax[1].set_title('Marathon Finish Times for Men 40-49 and Women 25-34')\n",
    "ax[1].set_xlabel('Time (seconds)')\n",
    "ax[1].set_ylabel('Finishers')\n",
    "\n",
    "fig.tight_layout()"
   ]
  },
  {
   "cell_type": "code",
   "execution_count": 163,
   "metadata": {},
   "outputs": [
    {
     "ename": "ValueError",
     "evalue": "cannot copy sequence with size 405 to array axis with dimension 8",
     "output_type": "error",
     "traceback": [
      "\u001b[0;31m---------------------------------------------------------------------------\u001b[0m",
      "\u001b[0;31mValueError\u001b[0m                                Traceback (most recent call last)",
      "\u001b[0;32m<ipython-input-163-c1624803f43e>\u001b[0m in \u001b[0;36m<module>\u001b[0;34m\u001b[0m\n\u001b[1;32m      2\u001b[0m \u001b[0max\u001b[0m \u001b[0;34m=\u001b[0m \u001b[0mfig\u001b[0m\u001b[0;34m.\u001b[0m\u001b[0madd_axes\u001b[0m\u001b[0;34m(\u001b[0m\u001b[0;34m[\u001b[0m\u001b[0;36m0\u001b[0m\u001b[0;34m,\u001b[0m \u001b[0;36m0\u001b[0m\u001b[0;34m,\u001b[0m \u001b[0;36m1\u001b[0m\u001b[0;34m,\u001b[0m \u001b[0;36m1\u001b[0m\u001b[0;34m]\u001b[0m\u001b[0;34m)\u001b[0m\u001b[0;34m\u001b[0m\u001b[0;34m\u001b[0m\u001b[0m\n\u001b[1;32m      3\u001b[0m \u001b[0;34m\u001b[0m\u001b[0m\n\u001b[0;32m----> 4\u001b[0;31m \u001b[0mbp\u001b[0m \u001b[0;34m=\u001b[0m \u001b[0max\u001b[0m\u001b[0;34m.\u001b[0m\u001b[0mboxplot\u001b[0m\u001b[0;34m(\u001b[0m\u001b[0mdata\u001b[0m\u001b[0;34m)\u001b[0m\u001b[0;34m\u001b[0m\u001b[0;34m\u001b[0m\u001b[0m\n\u001b[0m\u001b[1;32m      5\u001b[0m \u001b[0;34m\u001b[0m\u001b[0m\n\u001b[1;32m      6\u001b[0m \u001b[0;31m# show plot\u001b[0m\u001b[0;34m\u001b[0m\u001b[0;34m\u001b[0m\u001b[0;34m\u001b[0m\u001b[0m\n",
      "\u001b[0;32m~/opt/anaconda3/lib/python3.7/site-packages/matplotlib/cbook/deprecation.py\u001b[0m in \u001b[0;36mwrapper\u001b[0;34m(*args, **kwargs)\u001b[0m\n\u001b[1;32m    294\u001b[0m                 f\"for the old name will be dropped %(removal)s.\")\n\u001b[1;32m    295\u001b[0m             \u001b[0mkwargs\u001b[0m\u001b[0;34m[\u001b[0m\u001b[0mnew\u001b[0m\u001b[0;34m]\u001b[0m \u001b[0;34m=\u001b[0m \u001b[0mkwargs\u001b[0m\u001b[0;34m.\u001b[0m\u001b[0mpop\u001b[0m\u001b[0;34m(\u001b[0m\u001b[0mold\u001b[0m\u001b[0;34m)\u001b[0m\u001b[0;34m\u001b[0m\u001b[0;34m\u001b[0m\u001b[0m\n\u001b[0;32m--> 296\u001b[0;31m         \u001b[0;32mreturn\u001b[0m \u001b[0mfunc\u001b[0m\u001b[0;34m(\u001b[0m\u001b[0;34m*\u001b[0m\u001b[0margs\u001b[0m\u001b[0;34m,\u001b[0m \u001b[0;34m**\u001b[0m\u001b[0mkwargs\u001b[0m\u001b[0;34m)\u001b[0m\u001b[0;34m\u001b[0m\u001b[0;34m\u001b[0m\u001b[0m\n\u001b[0m\u001b[1;32m    297\u001b[0m \u001b[0;34m\u001b[0m\u001b[0m\n\u001b[1;32m    298\u001b[0m     \u001b[0;31m# wrapper() must keep the same documented signature as func(): if we\u001b[0m\u001b[0;34m\u001b[0m\u001b[0;34m\u001b[0m\u001b[0;34m\u001b[0m\u001b[0m\n",
      "\u001b[0;32m~/opt/anaconda3/lib/python3.7/site-packages/matplotlib/__init__.py\u001b[0m in \u001b[0;36minner\u001b[0;34m(ax, data, *args, **kwargs)\u001b[0m\n\u001b[1;32m   1563\u001b[0m     \u001b[0;32mdef\u001b[0m \u001b[0minner\u001b[0m\u001b[0;34m(\u001b[0m\u001b[0max\u001b[0m\u001b[0;34m,\u001b[0m \u001b[0;34m*\u001b[0m\u001b[0margs\u001b[0m\u001b[0;34m,\u001b[0m \u001b[0mdata\u001b[0m\u001b[0;34m=\u001b[0m\u001b[0;32mNone\u001b[0m\u001b[0;34m,\u001b[0m \u001b[0;34m**\u001b[0m\u001b[0mkwargs\u001b[0m\u001b[0;34m)\u001b[0m\u001b[0;34m:\u001b[0m\u001b[0;34m\u001b[0m\u001b[0;34m\u001b[0m\u001b[0m\n\u001b[1;32m   1564\u001b[0m         \u001b[0;32mif\u001b[0m \u001b[0mdata\u001b[0m \u001b[0;32mis\u001b[0m \u001b[0;32mNone\u001b[0m\u001b[0;34m:\u001b[0m\u001b[0;34m\u001b[0m\u001b[0;34m\u001b[0m\u001b[0m\n\u001b[0;32m-> 1565\u001b[0;31m             \u001b[0;32mreturn\u001b[0m \u001b[0mfunc\u001b[0m\u001b[0;34m(\u001b[0m\u001b[0max\u001b[0m\u001b[0;34m,\u001b[0m \u001b[0;34m*\u001b[0m\u001b[0mmap\u001b[0m\u001b[0;34m(\u001b[0m\u001b[0msanitize_sequence\u001b[0m\u001b[0;34m,\u001b[0m \u001b[0margs\u001b[0m\u001b[0;34m)\u001b[0m\u001b[0;34m,\u001b[0m \u001b[0;34m**\u001b[0m\u001b[0mkwargs\u001b[0m\u001b[0;34m)\u001b[0m\u001b[0;34m\u001b[0m\u001b[0;34m\u001b[0m\u001b[0m\n\u001b[0m\u001b[1;32m   1566\u001b[0m \u001b[0;34m\u001b[0m\u001b[0m\n\u001b[1;32m   1567\u001b[0m         \u001b[0mbound\u001b[0m \u001b[0;34m=\u001b[0m \u001b[0mnew_sig\u001b[0m\u001b[0;34m.\u001b[0m\u001b[0mbind\u001b[0m\u001b[0;34m(\u001b[0m\u001b[0max\u001b[0m\u001b[0;34m,\u001b[0m \u001b[0;34m*\u001b[0m\u001b[0margs\u001b[0m\u001b[0;34m,\u001b[0m \u001b[0;34m**\u001b[0m\u001b[0mkwargs\u001b[0m\u001b[0;34m)\u001b[0m\u001b[0;34m\u001b[0m\u001b[0;34m\u001b[0m\u001b[0m\n",
      "\u001b[0;32m~/opt/anaconda3/lib/python3.7/site-packages/matplotlib/axes/_axes.py\u001b[0m in \u001b[0;36mboxplot\u001b[0;34m(self, x, notch, sym, vert, whis, positions, widths, patch_artist, bootstrap, usermedians, conf_intervals, meanline, showmeans, showcaps, showbox, showfliers, boxprops, labels, flierprops, medianprops, meanprops, capprops, whiskerprops, manage_ticks, autorange, zorder)\u001b[0m\n\u001b[1;32m   3626\u001b[0m \u001b[0;34m\u001b[0m\u001b[0m\n\u001b[1;32m   3627\u001b[0m         bxpstats = cbook.boxplot_stats(x, whis=whis, bootstrap=bootstrap,\n\u001b[0;32m-> 3628\u001b[0;31m                                        labels=labels, autorange=autorange)\n\u001b[0m\u001b[1;32m   3629\u001b[0m         \u001b[0;32mif\u001b[0m \u001b[0mnotch\u001b[0m \u001b[0;32mis\u001b[0m \u001b[0;32mNone\u001b[0m\u001b[0;34m:\u001b[0m\u001b[0;34m\u001b[0m\u001b[0;34m\u001b[0m\u001b[0m\n\u001b[1;32m   3630\u001b[0m             \u001b[0mnotch\u001b[0m \u001b[0;34m=\u001b[0m \u001b[0mrcParams\u001b[0m\u001b[0;34m[\u001b[0m\u001b[0;34m'boxplot.notch'\u001b[0m\u001b[0;34m]\u001b[0m\u001b[0;34m\u001b[0m\u001b[0;34m\u001b[0m\u001b[0m\n",
      "\u001b[0;32m~/opt/anaconda3/lib/python3.7/site-packages/matplotlib/cbook/__init__.py\u001b[0m in \u001b[0;36mboxplot_stats\u001b[0;34m(X, whis, bootstrap, labels, autorange)\u001b[0m\n\u001b[1;32m   1163\u001b[0m \u001b[0;34m\u001b[0m\u001b[0m\n\u001b[1;32m   1164\u001b[0m     \u001b[0;31m# convert X to a list of lists\u001b[0m\u001b[0;34m\u001b[0m\u001b[0;34m\u001b[0m\u001b[0;34m\u001b[0m\u001b[0m\n\u001b[0;32m-> 1165\u001b[0;31m     \u001b[0mX\u001b[0m \u001b[0;34m=\u001b[0m \u001b[0m_reshape_2D\u001b[0m\u001b[0;34m(\u001b[0m\u001b[0mX\u001b[0m\u001b[0;34m,\u001b[0m \u001b[0;34m\"X\"\u001b[0m\u001b[0;34m)\u001b[0m\u001b[0;34m\u001b[0m\u001b[0;34m\u001b[0m\u001b[0m\n\u001b[0m\u001b[1;32m   1166\u001b[0m \u001b[0;34m\u001b[0m\u001b[0m\n\u001b[1;32m   1167\u001b[0m     \u001b[0mncols\u001b[0m \u001b[0;34m=\u001b[0m \u001b[0mlen\u001b[0m\u001b[0;34m(\u001b[0m\u001b[0mX\u001b[0m\u001b[0;34m)\u001b[0m\u001b[0;34m\u001b[0m\u001b[0;34m\u001b[0m\u001b[0m\n",
      "\u001b[0;32m~/opt/anaconda3/lib/python3.7/site-packages/matplotlib/cbook/__init__.py\u001b[0m in \u001b[0;36m_reshape_2D\u001b[0;34m(X, name)\u001b[0m\n\u001b[1;32m   1374\u001b[0m     \"\"\"\n\u001b[1;32m   1375\u001b[0m     \u001b[0;31m# Iterate over columns for ndarrays, over rows otherwise.\u001b[0m\u001b[0;34m\u001b[0m\u001b[0;34m\u001b[0m\u001b[0;34m\u001b[0m\u001b[0m\n\u001b[0;32m-> 1376\u001b[0;31m     \u001b[0mX\u001b[0m \u001b[0;34m=\u001b[0m \u001b[0mnp\u001b[0m\u001b[0;34m.\u001b[0m\u001b[0matleast_1d\u001b[0m\u001b[0;34m(\u001b[0m\u001b[0mX\u001b[0m\u001b[0;34m.\u001b[0m\u001b[0mT\u001b[0m \u001b[0;32mif\u001b[0m \u001b[0misinstance\u001b[0m\u001b[0;34m(\u001b[0m\u001b[0mX\u001b[0m\u001b[0;34m,\u001b[0m \u001b[0mnp\u001b[0m\u001b[0;34m.\u001b[0m\u001b[0mndarray\u001b[0m\u001b[0;34m)\u001b[0m \u001b[0;32melse\u001b[0m \u001b[0mnp\u001b[0m\u001b[0;34m.\u001b[0m\u001b[0masarray\u001b[0m\u001b[0;34m(\u001b[0m\u001b[0mX\u001b[0m\u001b[0;34m)\u001b[0m\u001b[0;34m)\u001b[0m\u001b[0;34m\u001b[0m\u001b[0;34m\u001b[0m\u001b[0m\n\u001b[0m\u001b[1;32m   1377\u001b[0m     \u001b[0;32mif\u001b[0m \u001b[0mlen\u001b[0m\u001b[0;34m(\u001b[0m\u001b[0mX\u001b[0m\u001b[0;34m)\u001b[0m \u001b[0;34m==\u001b[0m \u001b[0;36m0\u001b[0m\u001b[0;34m:\u001b[0m\u001b[0;34m\u001b[0m\u001b[0;34m\u001b[0m\u001b[0m\n\u001b[1;32m   1378\u001b[0m         \u001b[0;32mreturn\u001b[0m \u001b[0;34m[\u001b[0m\u001b[0;34m[\u001b[0m\u001b[0;34m]\u001b[0m\u001b[0;34m]\u001b[0m\u001b[0;34m\u001b[0m\u001b[0;34m\u001b[0m\u001b[0m\n",
      "\u001b[0;32m~/opt/anaconda3/lib/python3.7/site-packages/numpy/core/_asarray.py\u001b[0m in \u001b[0;36masarray\u001b[0;34m(a, dtype, order)\u001b[0m\n\u001b[1;32m     83\u001b[0m \u001b[0;34m\u001b[0m\u001b[0m\n\u001b[1;32m     84\u001b[0m     \"\"\"\n\u001b[0;32m---> 85\u001b[0;31m     \u001b[0;32mreturn\u001b[0m \u001b[0marray\u001b[0m\u001b[0;34m(\u001b[0m\u001b[0ma\u001b[0m\u001b[0;34m,\u001b[0m \u001b[0mdtype\u001b[0m\u001b[0;34m,\u001b[0m \u001b[0mcopy\u001b[0m\u001b[0;34m=\u001b[0m\u001b[0;32mFalse\u001b[0m\u001b[0;34m,\u001b[0m \u001b[0morder\u001b[0m\u001b[0;34m=\u001b[0m\u001b[0morder\u001b[0m\u001b[0;34m)\u001b[0m\u001b[0;34m\u001b[0m\u001b[0;34m\u001b[0m\u001b[0m\n\u001b[0m\u001b[1;32m     86\u001b[0m \u001b[0;34m\u001b[0m\u001b[0m\n\u001b[1;32m     87\u001b[0m \u001b[0;34m\u001b[0m\u001b[0m\n",
      "\u001b[0;31mValueError\u001b[0m: cannot copy sequence with size 405 to array axis with dimension 8"
     ]
    },
    {
     "data": {
      "image/png": "[encoded data removed]",
      "text/plain": [
       "<Figure size 720x504 with 2 Axes>"
      ]
     },
     "metadata": {
      "needs_background": "light"
     },
     "output_type": "display_data"
    }
   ],
   "source": [
    "\n",
    "fig,ax = plt.subplots(figsize =(10, 7)) \n",
    "ax = fig.add_axes([0, 0, 1, 1]) \n",
    "\n",
    "bp = ax.boxplot(data) \n",
    "  \n",
    "# show plot \n",
    "plt.show() "
   ]
  },
  {
   "cell_type": "code",
   "execution_count": null,
   "metadata": {},
   "outputs": [],
   "source": []
  }
 ],
 "metadata": {
  "kernelspec": {
   "display_name": "Python 3",
   "language": "python",
   "name": "python3"
  },
  "language_info": {
   "codemirror_mode": {
    "name": "ipython",
    "version": 3
   },
   "file_extension": ".py",
   "mimetype": "text/x-python",
   "name": "python",
   "nbconvert_exporter": "python",
   "pygments_lexer": "ipython3",
   "version": "3.7.7"
  }
 },
 "nbformat": 4,
 "nbformat_minor": 4
}
